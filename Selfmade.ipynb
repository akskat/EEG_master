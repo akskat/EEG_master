{
 "cells": [
  {
   "cell_type": "markdown",
   "id": "00e7ff73",
   "metadata": {},
   "source": [
    "# EEG Data Preprocessing"
   ]
  },
  {
   "cell_type": "markdown",
   "id": "e244f1b5",
   "metadata": {},
   "source": [
    "## Converting Files to CSVs"
   ]
  },
  {
   "cell_type": "code",
   "execution_count": null,
   "id": "1d3244aa",
   "metadata": {},
   "outputs": [
    {
     "name": "stdout",
     "output_type": "stream",
     "text": [
      "Person1_Recording1_Person1Recording1.csv: annotation forward-filled.\n"
     ]
    },
    {
     "name": "stderr",
     "output_type": "stream",
     "text": [
      "C:\\Users\\aksel\\AppData\\Local\\Temp\\ipykernel_9540\\3644778306.py:12: DtypeWarning: Columns (37) have mixed types. Specify dtype option on import or set low_memory=False.\n",
      "  df = pd.read_csv(csv_path)\n"
     ]
    },
    {
     "name": "stdout",
     "output_type": "stream",
     "text": [
      "Person1_Recording2_Person1Recording2.csv: annotation forward-filled.\n"
     ]
    },
    {
     "name": "stderr",
     "output_type": "stream",
     "text": [
      "C:\\Users\\aksel\\AppData\\Local\\Temp\\ipykernel_9540\\3644778306.py:12: DtypeWarning: Columns (37) have mixed types. Specify dtype option on import or set low_memory=False.\n",
      "  df = pd.read_csv(csv_path)\n"
     ]
    },
    {
     "name": "stdout",
     "output_type": "stream",
     "text": [
      "Person1_Recording3_Person1Recording3.csv: annotation forward-filled.\n"
     ]
    },
    {
     "name": "stderr",
     "output_type": "stream",
     "text": [
      "C:\\Users\\aksel\\AppData\\Local\\Temp\\ipykernel_9540\\3644778306.py:12: DtypeWarning: Columns (37) have mixed types. Specify dtype option on import or set low_memory=False.\n",
      "  df = pd.read_csv(csv_path)\n"
     ]
    },
    {
     "name": "stdout",
     "output_type": "stream",
     "text": [
      "Person2_Recording1_Person2Recording1.csv: annotation forward-filled.\n"
     ]
    }
   ],
   "source": []
  },
  {
   "cell_type": "code",
   "execution_count": null,
   "id": "a24b351d",
   "metadata": {},
   "outputs": [
    {
     "name": "stdout",
     "output_type": "stream",
     "text": [
      "=== INFO OM DET NYE DATASETTET (kombinert) ===\n",
      "\n",
      "Shape: (761380, 39)\n",
      "Kolonner: ['Fp1', 'Fz', 'F3', 'F7', 'FT9', 'FC5', 'FC1', 'C3', 'T7', 'TP9', 'CP5', 'CP1', 'Pz', 'P3', 'P7', 'O1', 'Oz', 'O2', 'P4', 'P8', 'TP10', 'CP6', 'CP2', 'Cz', 'C4', 'T8', 'FT10', 'FC6', 'FC2', 'F4', 'F8', 'Fp2', 'Aux1', 'x_dir', 'y_dir', 'z_dir', 'time', 'annotation', 'source_csv']\n",
      "\n",
      "-- HEAD(5) --\n",
      "        Fp1        Fz        F3        F7       FT9       FC5       FC1  \\\n",
      "0 -0.341333 -0.341333 -0.028123 -0.341333 -0.000276 -0.006177 -0.341333   \n",
      "1 -0.341333 -0.341333 -0.024354 -0.341333 -0.004998 -0.008506 -0.341333   \n",
      "2 -0.341333 -0.341333 -0.020647 -0.341333 -0.010400 -0.012470 -0.341333   \n",
      "3 -0.341333 -0.341333 -0.016728 -0.341333 -0.015081 -0.015459 -0.341333   \n",
      "4 -0.341333 -0.341333 -0.014118 -0.341333 -0.017770 -0.016872 -0.341333   \n",
      "\n",
      "         C3        T7       TP9  ...        F4        F8       Fp2      Aux1  \\\n",
      "0 -0.007168 -0.341333 -0.001292  ... -0.341333 -0.043082 -0.341333 -1.915041   \n",
      "1 -0.008500 -0.341333 -0.005153  ... -0.341333 -0.036589 -0.341333 -2.585066   \n",
      "2 -0.011830 -0.341333 -0.010238  ... -0.341333 -0.027783 -0.341333 -3.513576   \n",
      "3 -0.014218 -0.341333 -0.014706  ... -0.341333 -0.019906 -0.341333 -4.341096   \n",
      "4 -0.015284 -0.341333 -0.017220  ... -0.341333 -0.015692 -0.341333 -4.395176   \n",
      "\n",
      "   x_dir  y_dir  z_dir   time    annotation  \\\n",
      "0   -8.0  -65.0 -877.0  0.000  New Segment/   \n",
      "1   -8.0  -65.0 -877.0  0.002  New Segment/   \n",
      "2   -8.0  -68.0 -874.0  0.004  New Segment/   \n",
      "3   -8.0  -68.0 -874.0  0.006  New Segment/   \n",
      "4   -8.0  -68.0 -874.0  0.008  New Segment/   \n",
      "\n",
      "                                 source_csv  \n",
      "0  Person1_Recording1_Person1Recording1.csv  \n",
      "1  Person1_Recording1_Person1Recording1.csv  \n",
      "2  Person1_Recording1_Person1Recording1.csv  \n",
      "3  Person1_Recording1_Person1Recording1.csv  \n",
      "4  Person1_Recording1_Person1Recording1.csv  \n",
      "\n",
      "[5 rows x 39 columns]\n",
      "\n",
      "-- TAIL(5) --\n",
      "             Fp1        Fz        F3        F7       FT9       FC5       FC1  \\\n",
      "761375 -0.341333 -0.341333 -0.014936 -0.341333 -0.017789 -0.017466 -0.341333   \n",
      "761376 -0.341333 -0.341333 -0.014252 -0.341333 -0.017926 -0.017698 -0.341333   \n",
      "761377 -0.341333 -0.341333 -0.016588 -0.341333 -0.015017 -0.016183 -0.341333   \n",
      "761378 -0.341333 -0.341333 -0.022298 -0.341333 -0.009831 -0.012891 -0.341333   \n",
      "761379 -0.341333 -0.341333 -0.027171 -0.341333 -0.004572 -0.009707 -0.341333   \n",
      "\n",
      "              C3        T7       TP9  ...        F4        F8       Fp2  \\\n",
      "761375 -0.016014 -0.341333 -0.017820  ... -0.341333 -0.015238 -0.341333   \n",
      "761376 -0.016494 -0.341333 -0.018374  ... -0.341333 -0.014876 -0.341333   \n",
      "761377 -0.015525 -0.341333 -0.016090  ... -0.341333 -0.019670 -0.341333   \n",
      "761378 -0.012834 -0.341333 -0.010841  ... -0.341333 -0.028257 -0.341333   \n",
      "761379 -0.010183 -0.341333 -0.006087  ... -0.341333 -0.036657 -0.341333   \n",
      "\n",
      "            Aux1  x_dir  y_dir  z_dir     time    annotation  \\\n",
      "761375 -1.155830   -8.0  -68.0 -873.0  454.930  Stimulus/END   \n",
      "761376 -2.902208   -8.0  -68.0 -873.0  454.932  Stimulus/END   \n",
      "761377 -4.042226   -8.0  -68.0 -873.0  454.934  Stimulus/END   \n",
      "761378 -4.081405   -8.0  -68.0 -873.0  454.936  Stimulus/END   \n",
      "761379 -4.029746   -8.0  -68.0 -873.0  454.938  Stimulus/END   \n",
      "\n",
      "                                      source_csv  \n",
      "761375  Person2_Recording1_Person2Recording1.csv  \n",
      "761376  Person2_Recording1_Person2Recording1.csv  \n",
      "761377  Person2_Recording1_Person2Recording1.csv  \n",
      "761378  Person2_Recording1_Person2Recording1.csv  \n",
      "761379  Person2_Recording1_Person2Recording1.csv  \n",
      "\n",
      "[5 rows x 39 columns]\n",
      "\n",
      "-- Beskrivelse av annotation-kolonnen --\n",
      "Stimulus/REST             283300\n",
      "Stimulus/END              154450\n",
      "Stimulus/MOVE_BOTH         70810\n",
      "Stimulus/IMAGERY_LEFT      45500\n",
      "Stimulus/MOVE_RIGHT        45490\n",
      "Stimulus/IMAGERY_BOTH      40450\n",
      "Stimulus/MOVE_LEFT         40450\n",
      "Stimulus/IMAGERY_RIGHT     40410\n",
      "New Segment/               20290\n",
      "Stimulus/START             20230\n",
      "Name: annotation, dtype: int64\n",
      "\n",
      "Noen statistikker (describe):\n",
      "                 Fp1            Fz             F3            F7  \\\n",
      "count   7.613800e+05  7.613800e+05  761380.000000  7.613800e+05   \n",
      "unique           NaN           NaN            NaN           NaN   \n",
      "top              NaN           NaN            NaN           NaN   \n",
      "freq             NaN           NaN            NaN           NaN   \n",
      "mean   -3.413333e-01 -3.413333e-01      -0.021369 -3.413333e-01   \n",
      "std     2.220448e-16  2.220448e-16       0.004582  2.220448e-16   \n",
      "min    -3.413333e-01 -3.413333e-01      -0.035179 -3.413333e-01   \n",
      "25%    -3.413333e-01 -3.413333e-01      -0.025698 -3.413333e-01   \n",
      "50%    -3.413333e-01 -3.413333e-01      -0.021759 -3.413333e-01   \n",
      "75%    -3.413333e-01 -3.413333e-01      -0.016707 -3.413333e-01   \n",
      "max    -3.413333e-01 -3.413333e-01      -0.012826 -3.413333e-01   \n",
      "\n",
      "                  FT9            FC5           FC1             C3  \\\n",
      "count   761380.000000  761380.000000  7.613800e+05  761380.000000   \n",
      "unique            NaN            NaN           NaN            NaN   \n",
      "top               NaN            NaN           NaN            NaN   \n",
      "freq              NaN            NaN           NaN            NaN   \n",
      "mean        -0.010028      -0.012653 -3.413333e-01      -0.012048   \n",
      "std          0.005450       0.003529  2.220448e-16       0.003243   \n",
      "min         -0.020868      -0.020008 -3.413333e-01      -0.018425   \n",
      "25%         -0.015388      -0.016212 -3.413333e-01      -0.015321   \n",
      "50%         -0.010288      -0.012668 -3.413333e-01      -0.012125   \n",
      "75%         -0.004727      -0.009256 -3.413333e-01      -0.008875   \n",
      "max          0.003312      -0.003992 -3.413333e-01      -0.004634   \n",
      "\n",
      "                  T7            TP9  ...            F4             F8  \\\n",
      "count   7.613800e+05  761380.000000  ...  7.613800e+05  761380.000000   \n",
      "unique           NaN            NaN  ...           NaN            NaN   \n",
      "top              NaN            NaN  ...           NaN            NaN   \n",
      "freq             NaN            NaN  ...           NaN            NaN   \n",
      "mean   -3.413333e-01      -0.010607  ... -3.413333e-01      -0.027706   \n",
      "std     2.220448e-16       0.004872  ...  2.220448e-16       0.008619   \n",
      "min    -3.413333e-01      -0.020562  ... -3.413333e-01      -0.046464   \n",
      "25%    -3.413333e-01      -0.015439  ... -3.413333e-01      -0.036258   \n",
      "50%    -3.413333e-01      -0.010495  ... -3.413333e-01      -0.027778   \n",
      "75%    -3.413333e-01      -0.005938  ... -3.413333e-01      -0.018947   \n",
      "max    -3.413333e-01       0.002395  ... -3.413333e-01      -0.012953   \n",
      "\n",
      "                 Fp2           Aux1          x_dir          y_dir  \\\n",
      "count   7.613800e+05  761380.000000  761380.000000  761380.000000   \n",
      "unique           NaN            NaN            NaN            NaN   \n",
      "top              NaN            NaN            NaN            NaN   \n",
      "freq             NaN            NaN            NaN            NaN   \n",
      "mean   -3.413333e-01      -3.115296      -8.440704     -66.515234   \n",
      "std     2.220448e-16       1.246751       1.894954       2.028348   \n",
      "min    -3.413333e-01      -4.553155     -25.000000     -80.000000   \n",
      "25%    -3.413333e-01      -4.081295      -9.000000     -68.000000   \n",
      "50%    -3.413333e-01      -3.435736      -8.000000     -66.000000   \n",
      "75%    -3.413333e-01      -2.316204      -8.000000     -65.000000   \n",
      "max    -3.413333e-01       4.882253       8.000000     -53.000000   \n",
      "\n",
      "                z_dir           time     annotation  \\\n",
      "count   761380.000000  761380.000000         761380   \n",
      "unique            NaN            NaN             10   \n",
      "top               NaN            NaN  Stimulus/REST   \n",
      "freq              NaN            NaN         283300   \n",
      "mean      -873.251978     194.626079            NaN   \n",
      "std          2.380860     117.101638            NaN   \n",
      "min       -900.000000       0.000000            NaN   \n",
      "25%       -874.000000      95.172000            NaN   \n",
      "50%       -873.000000     190.344000            NaN   \n",
      "75%       -872.000000     285.516000            NaN   \n",
      "max       -848.000000     454.938000            NaN   \n",
      "\n",
      "                                      source_csv  \n",
      "count                                     761380  \n",
      "unique                                         4  \n",
      "top     Person2_Recording1_Person2Recording1.csv  \n",
      "freq                                      227470  \n",
      "mean                                         NaN  \n",
      "std                                          NaN  \n",
      "min                                          NaN  \n",
      "25%                                          NaN  \n",
      "50%                                          NaN  \n",
      "75%                                          NaN  \n",
      "max                                          NaN  \n",
      "\n",
      "[11 rows x 39 columns]\n"
     ]
    }
   ],
   "source": []
  },
  {
   "cell_type": "code",
   "execution_count": null,
   "id": "2e039ec0",
   "metadata": {},
   "outputs": [
    {
     "name": "stdout",
     "output_type": "stream",
     "text": [
      "Opprettet en stor CSV: 'csv_output/AllSelfmade_Combined.csv'\n",
      "Dimensjoner: (761380, 39)\n",
      "Eksempel på topp 5 rader:\n",
      "         Fp1        Fz        F3        F7       FT9       FC5       FC1  \\\n",
      "0 -0.341333 -0.341333 -0.028123 -0.341333 -0.000276 -0.006177 -0.341333   \n",
      "1 -0.341333 -0.341333 -0.024354 -0.341333 -0.004998 -0.008506 -0.341333   \n",
      "2 -0.341333 -0.341333 -0.020647 -0.341333 -0.010400 -0.012470 -0.341333   \n",
      "3 -0.341333 -0.341333 -0.016728 -0.341333 -0.015081 -0.015459 -0.341333   \n",
      "4 -0.341333 -0.341333 -0.014118 -0.341333 -0.017770 -0.016872 -0.341333   \n",
      "\n",
      "         C3        T7       TP9  ...        F4        F8       Fp2      Aux1  \\\n",
      "0 -0.007168 -0.341333 -0.001292  ... -0.341333 -0.043082 -0.341333 -1.915041   \n",
      "1 -0.008500 -0.341333 -0.005153  ... -0.341333 -0.036589 -0.341333 -2.585066   \n",
      "2 -0.011830 -0.341333 -0.010238  ... -0.341333 -0.027783 -0.341333 -3.513576   \n",
      "3 -0.014218 -0.341333 -0.014706  ... -0.341333 -0.019906 -0.341333 -4.341096   \n",
      "4 -0.015284 -0.341333 -0.017220  ... -0.341333 -0.015692 -0.341333 -4.395176   \n",
      "\n",
      "   x_dir  y_dir  z_dir   time    annotation  \\\n",
      "0   -8.0  -65.0 -877.0  0.000  New Segment/   \n",
      "1   -8.0  -65.0 -877.0  0.002  New Segment/   \n",
      "2   -8.0  -68.0 -874.0  0.004  New Segment/   \n",
      "3   -8.0  -68.0 -874.0  0.006  New Segment/   \n",
      "4   -8.0  -68.0 -874.0  0.008  New Segment/   \n",
      "\n",
      "                                 source_csv  \n",
      "0  Person1_Recording1_Person1Recording1.csv  \n",
      "1  Person1_Recording1_Person1Recording1.csv  \n",
      "2  Person1_Recording1_Person1Recording1.csv  \n",
      "3  Person1_Recording1_Person1Recording1.csv  \n",
      "4  Person1_Recording1_Person1Recording1.csv  \n",
      "\n",
      "[5 rows x 39 columns]\n",
      "\n",
      "Annotations - topp 10 forekomster:\n",
      " Stimulus/REST             283300\n",
      "Stimulus/END              154450\n",
      "Stimulus/MOVE_BOTH         70810\n",
      "Stimulus/IMAGERY_LEFT      45500\n",
      "Stimulus/MOVE_RIGHT        45490\n",
      "Stimulus/IMAGERY_BOTH      40450\n",
      "Stimulus/MOVE_LEFT         40450\n",
      "Stimulus/IMAGERY_RIGHT     40410\n",
      "New Segment/               20290\n",
      "Stimulus/START             20230\n",
      "Name: annotation, dtype: int64\n"
     ]
    }
   ],
   "source": []
  },
  {
   "cell_type": "code",
   "execution_count": null,
   "id": "b46d2cc4",
   "metadata": {},
   "outputs": [],
   "source": []
  },
  {
   "cell_type": "code",
   "execution_count": null,
   "id": "7f5c544c",
   "metadata": {},
   "outputs": [],
   "source": []
  },
  {
   "cell_type": "code",
   "execution_count": null,
   "id": "99ccdc22",
   "metadata": {},
   "outputs": [],
   "source": []
  }
 ],
 "metadata": {
  "kernelspec": {
   "display_name": "Python 3 (ipykernel)",
   "language": "python",
   "name": "python3"
  },
  "language_info": {
   "codemirror_mode": {
    "name": "ipython",
    "version": 3
   },
   "file_extension": ".py",
   "mimetype": "text/x-python",
   "name": "python",
   "nbconvert_exporter": "python",
   "pygments_lexer": "ipython3",
   "version": "3.8.10"
  }
 },
 "nbformat": 4,
 "nbformat_minor": 5
}
