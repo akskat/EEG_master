{
 "cells": [
  {
   "cell_type": "markdown",
   "id": "00e7ff73",
   "metadata": {},
   "source": [
    "# EEG Data Preprocessing"
   ]
  },
  {
   "cell_type": "markdown",
   "id": "e244f1b5",
   "metadata": {},
   "source": [
    "## Converting Files to CSVs"
   ]
  },
  {
   "cell_type": "code",
   "execution_count": 1,
   "id": "0e3d0462",
   "metadata": {},
   "outputs": [
    {
     "name": "stdout",
     "output_type": "stream",
     "text": [
      "Saved combined CSV: ./csv_output/Person1Recording1.csv\n",
      "Saved combined CSV: ./csv_output/Person1Recording2.csv\n",
      "Saved combined CSV: ./csv_output/Person1Recording3.csv\n",
      "Saved combined CSV: ./csv_output/Person1Recording3.csv\n",
      "Saved combined CSV: ./csv_output/Person2Recording1.csv\n",
      "Saved combined CSV: ./csv_output/Person2Recording2.csv\n",
      "Saved combined CSV: ./csv_output/Person2Recording3.csv\n",
      "Saved combined CSV: ./csv_output/Person3Recording1.csv\n",
      "Saved combined CSV: ./csv_output/Person3Recording2.csv\n",
      "Saved combined CSV: ./csv_output/Person3Recording3.csv\n",
      "Saved combined CSV: ./csv_output/Person4Recording1.csv\n",
      "Saved combined CSV: ./csv_output/Person4Recording2.csv\n"
     ]
    }
   ],
   "source": [
    "# Notebook: EEG File Converter to CSV with Integrated Annotations\n",
    "import os\n",
    "import mne\n",
    "import pandas as pd\n",
    "\n",
    "# Suppress MNE warnings\n",
    "mne.set_log_level('ERROR')\n",
    "\n",
    "# Define paths\n",
    "root_path = './data/selfmade_dataset/'       # adjust if necessary\n",
    "output_path = './csv_output/'\n",
    "\n",
    "# Ensure output directory exists\n",
    "os.makedirs(output_path, exist_ok=True)\n",
    "\n",
    "# Channels to mark as misc\n",
    "misc_chs = ['Aux1', 'Aux2', 'x_dir', 'y_dir', 'z_dir']\n",
    "\n",
    "# Iterate over Person and Recording folders\n",
    "for person_dir in sorted(os.listdir(root_path)):\n",
    "    person_path = os.path.join(root_path, person_dir)\n",
    "    if not os.path.isdir(person_path):\n",
    "        continue\n",
    "\n",
    "    for recording_dir in sorted(os.listdir(person_path)):\n",
    "        recording_path = os.path.join(person_path, recording_dir)\n",
    "        if not os.path.isdir(recording_path):\n",
    "            continue\n",
    "\n",
    "        # Process .vhdr files\n",
    "        for file in sorted(os.listdir(recording_path)):\n",
    "            if not file.endswith('.vhdr'):\n",
    "                continue\n",
    "\n",
    "            vhdr_path = os.path.join(recording_path, file)\n",
    "            basename = file[:-5]  # strip .vhdr\n",
    "\n",
    "            # Fix .vhdr references\n",
    "            with open(vhdr_path, 'r', encoding='utf-8') as f:\n",
    "                lines = f.readlines()\n",
    "            with open(vhdr_path, 'w', encoding='utf-8') as f:\n",
    "                for line in lines:\n",
    "                    if line.startswith('DataFile='):\n",
    "                        f.write(f'DataFile={basename}.eeg\\n')\n",
    "                    elif line.startswith('MarkerFile='):\n",
    "                        f.write(f'MarkerFile={basename}.vmrk\\n')\n",
    "                    else:\n",
    "                        f.write(line)\n",
    "\n",
    "            # Load raw data, specifying eog as empty list and misc channels\n",
    "            raw = mne.io.read_raw_brainvision(\n",
    "                vhdr_path,\n",
    "                preload=True,\n",
    "                eog=[],\n",
    "                misc=misc_chs\n",
    "            )\n",
    "\n",
    "            # Convert to DataFrame\n",
    "            df = raw.to_data_frame()\n",
    "\n",
    "            # Add annotation column, default ''\n",
    "            df['annotation'] = ''\n",
    "            if raw.annotations and len(raw.annotations) > 0:\n",
    "                for onset, duration, desc in zip(raw.annotations.onset,\n",
    "                                                 raw.annotations.duration,\n",
    "                                                 raw.annotations.description):\n",
    "                    mask = (df['time'] >= onset) & (df['time'] < onset + duration)\n",
    "                    df.loc[mask, 'annotation'] = desc\n",
    "\n",
    "            # Save combined CSV\n",
    "            out_csv = os.path.join(output_path, f'{basename}.csv')\n",
    "            df.to_csv(out_csv, index=False)\n",
    "            print(f'Saved combined CSV: {out_csv}')\n"
   ]
  },
  {
   "cell_type": "markdown",
   "id": "743f5df1",
   "metadata": {},
   "source": [
    "## Extend annotations for all rows and clean annotations "
   ]
  },
  {
   "cell_type": "code",
   "execution_count": 2,
   "id": "2e039ec0",
   "metadata": {},
   "outputs": [
    {
     "name": "stdout",
     "output_type": "stream",
     "text": [
      "Updated annotations in: ./csv_output/Person1Recording1.csv\n",
      "Updated annotations in: ./csv_output/Person1Recording2.csv\n",
      "Updated annotations in: ./csv_output/Person1Recording3.csv\n",
      "Updated annotations in: ./csv_output/Person2Recording1.csv\n",
      "Updated annotations in: ./csv_output/Person2Recording2.csv\n",
      "Updated annotations in: ./csv_output/Person2Recording3.csv\n",
      "Updated annotations in: ./csv_output/Person3Recording1.csv\n",
      "Updated annotations in: ./csv_output/Person3Recording2.csv\n",
      "Updated annotations in: ./csv_output/Person3Recording3.csv\n"
     ]
    },
    {
     "name": "stderr",
     "output_type": "stream",
     "text": [
      "C:\\Users\\aksel\\AppData\\Local\\Temp\\ipykernel_59176\\794490201.py:7: DtypeWarning: Columns (38) have mixed types. Specify dtype option on import or set low_memory=False.\n",
      "  df = pd.read_csv(csv_file)\n"
     ]
    },
    {
     "name": "stdout",
     "output_type": "stream",
     "text": [
      "Updated annotations in: ./csv_output/Person4Recording1.csv\n"
     ]
    },
    {
     "name": "stderr",
     "output_type": "stream",
     "text": [
      "C:\\Users\\aksel\\AppData\\Local\\Temp\\ipykernel_59176\\794490201.py:7: DtypeWarning: Columns (38) have mixed types. Specify dtype option on import or set low_memory=False.\n",
      "  df = pd.read_csv(csv_file)\n"
     ]
    },
    {
     "name": "stdout",
     "output_type": "stream",
     "text": [
      "Updated annotations in: ./csv_output/Person4Recording2.csv\n"
     ]
    }
   ],
   "source": [
    "import os, pandas as pd, numpy as np\n",
    "\n",
    "for file in sorted(os.listdir(output_path)):\n",
    "    if not file.endswith('.csv'):\n",
    "        continue\n",
    "    csv_file = os.path.join(output_path, file)\n",
    "    df = pd.read_csv(csv_file)\n",
    "\n",
    "    # Replace empty strings with NaN for ffill\n",
    "    df['annotation'] = df['annotation'].replace('', np.nan)\n",
    "    # Remove 'Stimulus/' prefix\n",
    "    df['annotation'] = df['annotation'].str.replace(r'^Stimulus/', '', regex=True)\n",
    "    # Forward-fill\n",
    "    df['annotation'] = df['annotation'].ffill()\n",
    "    df['annotation'] = df['annotation'].fillna('')\n",
    "\n",
    "    df.to_csv(csv_file, index=False)\n",
    "    print(f'Updated annotations in: {csv_file}')\n"
   ]
  },
  {
   "cell_type": "markdown",
   "id": "0c96a739",
   "metadata": {},
   "source": [
    "## Add columns for Person and Recording"
   ]
  },
  {
   "cell_type": "code",
   "execution_count": 3,
   "id": "7f5c544c",
   "metadata": {},
   "outputs": [
    {
     "name": "stdout",
     "output_type": "stream",
     "text": [
      "Added Person and Recording columns in: ./csv_output/Person1Recording1.csv\n",
      "Added Person and Recording columns in: ./csv_output/Person1Recording2.csv\n",
      "Added Person and Recording columns in: ./csv_output/Person1Recording3.csv\n",
      "Added Person and Recording columns in: ./csv_output/Person2Recording1.csv\n",
      "Added Person and Recording columns in: ./csv_output/Person2Recording2.csv\n",
      "Added Person and Recording columns in: ./csv_output/Person2Recording3.csv\n",
      "Added Person and Recording columns in: ./csv_output/Person3Recording1.csv\n",
      "Added Person and Recording columns in: ./csv_output/Person3Recording2.csv\n",
      "Added Person and Recording columns in: ./csv_output/Person3Recording3.csv\n",
      "Added Person and Recording columns in: ./csv_output/Person4Recording1.csv\n",
      "Added Person and Recording columns in: ./csv_output/Person4Recording2.csv\n"
     ]
    }
   ],
   "source": [
    "import os, re, pandas as pd\n",
    "\n",
    "for file in sorted(os.listdir(output_path)):\n",
    "    if not file.endswith('.csv'):\n",
    "        continue\n",
    "    csv_file = os.path.join(output_path, file)\n",
    "    m = re.match(r'Person(\\d+)Recording(\\d+)\\.csv$', file)\n",
    "    if not m:\n",
    "        print(f\"Filename does not match pattern: {file}\")\n",
    "        continue\n",
    "    person_num, recording_num = map(int, m.groups())\n",
    "\n",
    "    df = pd.read_csv(csv_file)\n",
    "    df.insert(0, 'Recording', recording_num)\n",
    "    df.insert(0, 'Person',    person_num)\n",
    "    df.to_csv(csv_file, index=False)\n",
    "    print(f'Added Person and Recording columns in: {csv_file}')\n"
   ]
  },
  {
   "cell_type": "markdown",
   "id": "d4e5827f",
   "metadata": {},
   "source": [
    "## Remove New Segment, START, END annotations"
   ]
  },
  {
   "cell_type": "code",
   "execution_count": 4,
   "id": "0cf41395",
   "metadata": {},
   "outputs": [
    {
     "name": "stdout",
     "output_type": "stream",
     "text": [
      "Removed unwanted annotations in: ./csv_output/Person1Recording1.csv\n",
      "Removed unwanted annotations in: ./csv_output/Person1Recording2.csv\n",
      "Removed unwanted annotations in: ./csv_output/Person1Recording3.csv\n",
      "Removed unwanted annotations in: ./csv_output/Person2Recording1.csv\n",
      "Removed unwanted annotations in: ./csv_output/Person2Recording2.csv\n",
      "Removed unwanted annotations in: ./csv_output/Person2Recording3.csv\n",
      "Removed unwanted annotations in: ./csv_output/Person3Recording1.csv\n",
      "Removed unwanted annotations in: ./csv_output/Person3Recording2.csv\n",
      "Removed unwanted annotations in: ./csv_output/Person3Recording3.csv\n",
      "Removed unwanted annotations in: ./csv_output/Person4Recording1.csv\n",
      "Removed unwanted annotations in: ./csv_output/Person4Recording2.csv\n"
     ]
    }
   ],
   "source": [
    "import os, pandas as pd\n",
    "\n",
    "unwanted = ['New Segment/', 'START', 'END']\n",
    "for file in sorted(os.listdir(output_path)):\n",
    "    if not file.endswith('.csv'):\n",
    "        continue\n",
    "    csv_file = os.path.join(output_path, file)\n",
    "    df = pd.read_csv(csv_file)\n",
    "\n",
    "    df = df[~df['annotation'].isin(unwanted)]\n",
    "    df.to_csv(csv_file, index=False)\n",
    "    print(f'Removed unwanted annotations in: {csv_file}')\n"
   ]
  },
  {
   "cell_type": "markdown",
   "id": "48d88e11",
   "metadata": {},
   "source": [
    "## Replace lost-sample marker with REST"
   ]
  },
  {
   "cell_type": "code",
   "execution_count": 5,
   "id": "1c0c3cd2",
   "metadata": {},
   "outputs": [
    {
     "name": "stdout",
     "output_type": "stream",
     "text": [
      "Oppdatert annotering i Person1Recording1.csv\n",
      "Oppdatert annotering i Person1Recording2.csv\n",
      "Oppdatert annotering i Person1Recording3.csv\n",
      "Oppdatert annotering i Person2Recording1.csv\n",
      "Oppdatert annotering i Person2Recording2.csv\n",
      "Oppdatert annotering i Person2Recording3.csv\n",
      "Oppdatert annotering i Person3Recording1.csv\n",
      "Oppdatert annotering i Person3Recording2.csv\n",
      "Oppdatert annotering i Person3Recording3.csv\n",
      "Oppdatert annotering i Person4Recording1.csv\n",
      "Oppdatert annotering i Person4Recording2.csv\n"
     ]
    }
   ],
   "source": [
    "import os, pandas as pd\n",
    "\n",
    "for fname in sorted(os.listdir(output_path)):\n",
    "    if not fname.endswith('.csv'):\n",
    "        continue\n",
    "    fullpath = os.path.join(output_path, fname)\n",
    "    df = pd.read_csv(fullpath)\n",
    "\n",
    "    df['annotation'] = df['annotation'].replace(\n",
    "        'New Segment/LostSamples: 1', 'REST'\n",
    "    )\n",
    "    df.to_csv(fullpath, index=False)\n",
    "    print(f\"Oppdatert annotering i {fname}\")\n"
   ]
  },
  {
   "cell_type": "code",
   "execution_count": null,
   "id": "aed795ff",
   "metadata": {},
   "outputs": [],
   "source": []
  },
  {
   "cell_type": "code",
   "execution_count": null,
   "id": "61dc91a8",
   "metadata": {},
   "outputs": [],
   "source": []
  },
  {
   "cell_type": "code",
   "execution_count": null,
   "id": "c72ecbb1",
   "metadata": {},
   "outputs": [],
   "source": []
  },
  {
   "cell_type": "code",
   "execution_count": null,
   "id": "8c8555e6",
   "metadata": {},
   "outputs": [],
   "source": []
  },
  {
   "cell_type": "code",
   "execution_count": null,
   "id": "0d8deb12",
   "metadata": {},
   "outputs": [],
   "source": []
  },
  {
   "cell_type": "markdown",
   "id": "836fdac3",
   "metadata": {},
   "source": [
    "# Model"
   ]
  },
  {
   "cell_type": "code",
   "execution_count": 6,
   "id": "df0b82a4",
   "metadata": {},
   "outputs": [
    {
     "name": "stdout",
     "output_type": "stream",
     "text": [
      "Loaded 2126670 rows from 11 files.\n",
      "Index(['Person', 'Recording', 'time', 'Fp1', 'Fz', 'F3', 'F7', 'FT9', 'FC5',\n",
      "       'FC1', 'C3', 'T7', 'TP9', 'CP5', 'CP1', 'Pz', 'P3', 'P7', 'O1', 'Oz',\n",
      "       'O2', 'P4', 'P8', 'TP10', 'CP6', 'CP2', 'Cz', 'C4', 'T8', 'FT10', 'FC6',\n",
      "       'FC2', 'F4', 'F8', 'Fp2', 'Aux1', 'Aux2', 'x_dir', 'y_dir', 'z_dir',\n",
      "       'annotation'],\n",
      "      dtype='object')\n"
     ]
    }
   ],
   "source": [
    "# -----------------------------  Block 1  -----------------------------\n",
    "# Load all CSVs into a single DataFrame\n",
    "import os, pandas as pd, numpy as np\n",
    "from sklearn.preprocessing import LabelEncoder\n",
    "from sklearn.model_selection import StratifiedShuffleSplit\n",
    "from collections import Counter\n",
    "\n",
    "csv_dir   = './csv_output'\n",
    "csv_files = [os.path.join(csv_dir, f) for f in os.listdir(csv_dir)\n",
    "             if f.endswith('.csv')]\n",
    "df        = pd.concat([pd.read_csv(f) for f in csv_files], ignore_index=True)\n",
    "\n",
    "print(f\"Loaded {len(df)} rows from {len(csv_files)} files.\")\n",
    "print(df.columns)\n"
   ]
  },
  {
   "cell_type": "code",
   "execution_count": 7,
   "id": "5a6bc1d0",
   "metadata": {},
   "outputs": [
    {
     "name": "stdout",
     "output_type": "stream",
     "text": [
      "Shape after filtering: (2126670, 36)\n"
     ]
    }
   ],
   "source": [
    "# -----------------------------  Block 2  -----------------------------\n",
    "# Filter annotations, drop Aux, keep only relevant EEG channels\n",
    "imagery = True         # False ➜ drop Imagery trials\n",
    "use_aux = False        # True  ➜ keep Aux1/Aux2\n",
    "\n",
    "if not imagery:\n",
    "    df = df[~df['annotation'].str.contains('Imagery', case=False, na=False)]\n",
    "\n",
    "aux_cols = ['Aux1', 'Aux2']\n",
    "if not use_aux:\n",
    "    df = df.drop(columns=[c for c in aux_cols if c in df.columns])\n",
    "\n",
    "eeg_features = (['Person','Recording','time'] +\n",
    "    ['Fp1','Fz','F3','F7','FT9','FC5','FC1','C3','T7','TP9','CP5','CP1',\n",
    "     'Pz','P3','P7','O1','Oz','O2','P4','P8','TP10','CP6','CP2','Cz','C4',\n",
    "     'T8','FT10','FC6','FC2','F4','F8','Fp2'])\n",
    "if use_aux:\n",
    "    eeg_features += aux_cols\n",
    "\n",
    "cols_to_keep = [c for c in eeg_features + ['annotation'] if c in df.columns]\n",
    "df = df[cols_to_keep]\n",
    "\n",
    "print(\"Shape after filtering:\", df.shape)\n"
   ]
  },
  {
   "cell_type": "code",
   "execution_count": 8,
   "id": "1c6b049b",
   "metadata": {},
   "outputs": [
    {
     "name": "stdout",
     "output_type": "stream",
     "text": [
      "Label mapping: {'IMAGERY_BOTH': 0, 'IMAGERY_LEFT': 1, 'IMAGERY_RIGHT': 2, 'MOVE_BOTH': 3, 'MOVE_LEFT': 4, 'MOVE_RIGHT': 5, 'REST': 6}\n"
     ]
    }
   ],
   "source": [
    "# -----------------------------  Block 3  -----------------------------\n",
    "# Build feature matrix X, encoded y, and group labels\n",
    "feature_cols = [c for c in df.columns\n",
    "                if c not in ('Person','Recording','time','annotation')]\n",
    "X = df[feature_cols].values.astype(np.float32)\n",
    "\n",
    "le    = LabelEncoder()\n",
    "y_enc = le.fit_transform(df['annotation'].values)\n",
    "groups = (df['Person'].astype(str) + '_' +\n",
    "          df['Recording'].astype(str)).values\n",
    "\n",
    "print(\"Label mapping:\", dict(zip(le.classes_, le.transform(le.classes_))))\n"
   ]
  },
  {
   "cell_type": "code",
   "execution_count": 10,
   "id": "1a4f34b8",
   "metadata": {},
   "outputs": [
    {
     "name": "stdout",
     "output_type": "stream",
     "text": [
      "Train: Counter({6: 708760, 3: 151910, 5: 126640, 1: 126630, 2: 101300, 0: 101280, 4: 101250})\n",
      "Val  : Counter({6: 141760, 3: 40490, 0: 20260, 4: 20260, 2: 20250, 5: 20230, 1: 20200})\n",
      "Test : Counter({6: 212700, 3: 50610, 1: 35460, 5: 35450, 0: 30430, 2: 30410, 4: 30390})\n"
     ]
    }
   ],
   "source": [
    "# -----------------------------  Block 4  -----------------------------\n",
    "# Stratified Group Shuffle → train / val / test indices\n",
    "from sklearn.model_selection import StratifiedShuffleSplit\n",
    "from collections import Counter\n",
    "import numpy as np\n",
    "\n",
    "def strat_group_split(y, groups, test_size=0.2, val_size=0.2, seed=42):\n",
    "    \"\"\"\n",
    "    Returnerer rad-indekser for train / val / test\n",
    "    med både stratifisering og gruppesammenheng.\n",
    "    \"\"\"\n",
    "    uniq_g, inv = np.unique(groups, return_inverse=True)\n",
    "    # Majoritetsklasse per gruppe (proxy-label til stratifisering)\n",
    "    maj = np.array([np.bincount(y[inv == i]).argmax() for i in range(len(uniq_g))])\n",
    "\n",
    "    # ---- trekk test-grupper -------------------------------------\n",
    "    sss = StratifiedShuffleSplit(n_splits=1,\n",
    "                                 test_size=test_size,\n",
    "                                 random_state=seed)\n",
    "    g_trainval, g_test = next(sss.split(uniq_g, maj))\n",
    "\n",
    "    # ---- trekk val-grupper fra resten ---------------------------\n",
    "    sss2 = StratifiedShuffleSplit(n_splits=1,\n",
    "                                  test_size=val_size,\n",
    "                                  random_state=seed)\n",
    "    g_train, g_val = next(sss2.split(uniq_g[g_trainval], maj[g_trainval]))\n",
    "\n",
    "    g_train = uniq_g[g_trainval][g_train]\n",
    "    g_val   = uniq_g[g_trainval][g_val]\n",
    "    g_test  = uniq_g[g_test]\n",
    "\n",
    "    idx_tr = np.where(np.isin(groups, g_train))[0]\n",
    "    idx_va = np.where(np.isin(groups, g_val))[0]\n",
    "    idx_te = np.where(np.isin(groups, g_test))[0]\n",
    "    return idx_tr, idx_va, idx_te\n",
    "\n",
    "# kall funksjonen\n",
    "train_idx, val_idx, test_idx = strat_group_split(y_enc, groups)\n",
    "\n",
    "print(\"Train:\", Counter(y_enc[train_idx]))\n",
    "print(\"Val  :\", Counter(y_enc[val_idx]))\n",
    "print(\"Test :\", Counter(y_enc[test_idx]))\n"
   ]
  },
  {
   "cell_type": "code",
   "execution_count": 11,
   "id": "8cf0a727",
   "metadata": {},
   "outputs": [
    {
     "name": "stdout",
     "output_type": "stream",
     "text": [
      "Windows: (10807, 32, 256) (2124, 32, 256) (3188, 32, 256)\n"
     ]
    }
   ],
   "source": [
    "# -----------------------------  Block 5  -----------------------------\n",
    "# MNE filtering  →  1-s z-scored windows (50 % overlap)\n",
    "import mne\n",
    "from mne.filter import filter_data, notch_filter\n",
    "\n",
    "sfreq, win_s = 256, 1.0\n",
    "win, step    = int(win_s*sfreq), int(win_s*sfreq)//2\n",
    "\n",
    "def preprocess(rec_df):\n",
    "    dat = rec_df[feature_cols].values.T\n",
    "    dat = notch_filter(dat, sfreq, freqs=[50], verbose=False)\n",
    "    dat = filter_data(dat, sfreq, 8, 30, verbose=False)\n",
    "    return dat - dat.mean(0, keepdims=True)  # CAR\n",
    "\n",
    "def make_windows(idx_subset):\n",
    "    Xw, yw = [], []\n",
    "    for g in np.unique(groups[idx_subset]):\n",
    "        df_rec = df[groups==g].sort_values('time')\n",
    "        if len(df_rec) < sfreq*3: continue\n",
    "        arr, labels = preprocess(df_rec), df_rec['annotation'].values\n",
    "        for s in range(0, arr.shape[1]-win+1, step):\n",
    "            seg_lab = labels[s:s+win]\n",
    "            if (seg_lab==seg_lab[0]).mean() >= .8:\n",
    "                seg = arr[:, s:s+win]\n",
    "                seg = (seg-seg.mean(1,keepdims=True))/ (seg.std(1,keepdims=True)+1e-6)\n",
    "                Xw.append(seg); yw.append(seg_lab[0])\n",
    "    return np.stack(Xw), np.array(yw)\n",
    "\n",
    "X_tr, y_tr = make_windows(train_idx)\n",
    "X_va, y_va = make_windows(val_idx)\n",
    "X_te, y_te = make_windows(test_idx)\n",
    "print(\"Windows:\", X_tr.shape, X_va.shape, X_te.shape)\n"
   ]
  },
  {
   "cell_type": "code",
   "execution_count": 12,
   "id": "1ee20149",
   "metadata": {},
   "outputs": [],
   "source": [
    "# -----------------------------  Block 6  -----------------------------\n",
    "# Feature transformer: Covariances→TangentSpace + Band-power\n",
    "from pyriemann.estimation import Covariances\n",
    "from pyriemann.tangentspace import TangentSpace\n",
    "from scipy.signal import welch\n",
    "from sklearn.base import BaseEstimator, TransformerMixin\n",
    "from sklearn.preprocessing import StandardScaler\n",
    "from sklearn.compose import ColumnTransformer\n",
    "from sklearn.pipeline import Pipeline\n",
    "\n",
    "bands = [(0.5,4),(4,8),(8,12),(13,30)]\n",
    "def bandpow(seg):\n",
    "    f,p = welch(seg, sfreq, nperseg=sfreq//2)\n",
    "    return np.concatenate([p[:,(f>=lo)&(f<=hi)].mean(1) for lo,hi in bands])\n",
    "\n",
    "class BandPower(BaseEstimator, TransformerMixin):\n",
    "    def fit(self,X,y=None): return self\n",
    "    def transform(self,X):  return np.array([bandpow(x) for x in X])\n",
    "\n",
    "cov_ts = Pipeline([('cov', Covariances('oas')),\n",
    "                   ('ts',  TangentSpace(metric='riemann'))])\n",
    "\n",
    "feat_pipe = Pipeline([\n",
    "    ('features', ColumnTransformer(\n",
    "        [('ts', cov_ts, slice(None)),\n",
    "         ('bp', BandPower(), slice(None))])),\n",
    "    ('sc', StandardScaler())\n",
    "])\n"
   ]
  },
  {
   "cell_type": "code",
   "execution_count": 13,
   "id": "cce71a84",
   "metadata": {},
   "outputs": [
    {
     "name": "stdout",
     "output_type": "stream",
     "text": [
      "Epoch 1/60\n",
      "169/169 [==============================] - 19s 104ms/step - loss: 1.9344 - accuracy: 0.1754 - val_loss: 1.9083 - val_accuracy: 0.1522\n",
      "Epoch 2/60\n",
      "169/169 [==============================] - 18s 104ms/step - loss: 1.7449 - accuracy: 0.2409 - val_loss: 1.6625 - val_accuracy: 0.2848\n",
      "Epoch 3/60\n",
      "169/169 [==============================] - 18s 104ms/step - loss: 1.6390 - accuracy: 0.2692 - val_loss: 1.5572 - val_accuracy: 0.2810\n",
      "Epoch 4/60\n",
      "169/169 [==============================] - 18s 105ms/step - loss: 1.6145 - accuracy: 0.2823 - val_loss: 1.5331 - val_accuracy: 0.2979\n",
      "Epoch 5/60\n",
      "169/169 [==============================] - 18s 104ms/step - loss: 1.5993 - accuracy: 0.2926 - val_loss: 1.5137 - val_accuracy: 0.3011\n",
      "Epoch 6/60\n",
      "169/169 [==============================] - 18s 105ms/step - loss: 1.5703 - accuracy: 0.3087 - val_loss: 1.5461 - val_accuracy: 0.3165\n",
      "Epoch 7/60\n",
      "169/169 [==============================] - 18s 106ms/step - loss: 1.5622 - accuracy: 0.3159 - val_loss: 1.5845 - val_accuracy: 0.2899\n",
      "Epoch 8/60\n",
      "169/169 [==============================] - 18s 105ms/step - loss: 1.5499 - accuracy: 0.3191 - val_loss: 1.6122 - val_accuracy: 0.2750\n",
      "Epoch 9/60\n",
      "169/169 [==============================] - 18s 104ms/step - loss: 1.5190 - accuracy: 0.3371 - val_loss: 1.5428 - val_accuracy: 0.2880\n",
      "Epoch 10/60\n",
      "169/169 [==============================] - 18s 107ms/step - loss: 1.5201 - accuracy: 0.3342 - val_loss: 1.5170 - val_accuracy: 0.2960\n",
      "Epoch 11/60\n",
      "169/169 [==============================] - 18s 105ms/step - loss: 1.5100 - accuracy: 0.3518 - val_loss: 1.5484 - val_accuracy: 0.3053\n",
      "Epoch 12/60\n",
      "169/169 [==============================] - 18s 106ms/step - loss: 1.5137 - accuracy: 0.3382 - val_loss: 1.5190 - val_accuracy: 0.2862\n",
      "Epoch 13/60\n",
      "169/169 [==============================] - 18s 105ms/step - loss: 1.4818 - accuracy: 0.3604 - val_loss: 1.5166 - val_accuracy: 0.3123\n",
      "Epoch 14/60\n",
      "169/169 [==============================] - 18s 105ms/step - loss: 1.4936 - accuracy: 0.3501 - val_loss: 1.5248 - val_accuracy: 0.3203\n",
      "Epoch 15/60\n",
      "169/169 [==============================] - 18s 105ms/step - loss: 1.4824 - accuracy: 0.3538 - val_loss: 1.5927 - val_accuracy: 0.2880\n",
      "Epoch 16/60\n",
      "169/169 [==============================] - 18s 106ms/step - loss: 1.4648 - accuracy: 0.3594 - val_loss: 1.5569 - val_accuracy: 0.2768\n",
      "Epoch 17/60\n",
      "169/169 [==============================] - 18s 107ms/step - loss: 1.4693 - accuracy: 0.3739 - val_loss: 1.5619 - val_accuracy: 0.2759\n",
      "Epoch 18/60\n",
      "169/169 [==============================] - 18s 107ms/step - loss: 1.4745 - accuracy: 0.3658 - val_loss: 1.5537 - val_accuracy: 0.2852\n",
      "Epoch 19/60\n",
      "169/169 [==============================] - 18s 107ms/step - loss: 1.4713 - accuracy: 0.3711 - val_loss: 1.6067 - val_accuracy: 0.2857\n",
      "Epoch 20/60\n",
      "169/169 [==============================] - 18s 106ms/step - loss: 1.4539 - accuracy: 0.3805 - val_loss: 1.6212 - val_accuracy: 0.2904\n",
      "Epoch 21/60\n",
      "169/169 [==============================] - 18s 106ms/step - loss: 1.4462 - accuracy: 0.3830 - val_loss: 1.5932 - val_accuracy: 0.2829\n",
      "Epoch 22/60\n",
      "169/169 [==============================] - 18s 106ms/step - loss: 1.4658 - accuracy: 0.3695 - val_loss: 1.7546 - val_accuracy: 0.2759\n",
      "Test accuracy: 0.14397741854190826\n"
     ]
    }
   ],
   "source": [
    "# -----------------------------  Block 7  -----------------------------\n",
    "# Balanced batch generator + EEGNet training\n",
    "import tensorflow as tf, math, random\n",
    "from tensorflow.keras.utils import Sequence, to_categorical\n",
    "from tensorflow.keras.callbacks import EarlyStopping\n",
    "\n",
    "n_classes = len(le.classes_)\n",
    "def EEGNet(nb_classes, Chans, Samples, dropout=0.4):\n",
    "    from tensorflow.keras.layers import (Input, Conv2D, DepthwiseConv2D,\n",
    "         SeparableConv2D, BatchNormalization, Activation, AveragePooling2D,\n",
    "         SpatialDropout2D, Flatten, Dense)\n",
    "    inp = Input((Chans,Samples,1))\n",
    "    x = Conv2D(8,(1,64),padding='same',use_bias=False)(inp)\n",
    "    x = BatchNormalization()(x)\n",
    "    x = DepthwiseConv2D((Chans,1),depth_multiplier=2,use_bias=False)(x)\n",
    "    x = BatchNormalization()(x); x=Activation('elu')(x)\n",
    "    x = AveragePooling2D((1,4))(x); x=SpatialDropout2D(dropout)(x)\n",
    "    x = SeparableConv2D(16,(1,16),padding='same',use_bias=False)(x)\n",
    "    x = BatchNormalization()(x); x=Activation('elu')(x)\n",
    "    x = AveragePooling2D((1,8))(x); x=SpatialDropout2D(dropout)(x)\n",
    "    x = Flatten()(x)\n",
    "    out = Dense(nb_classes, activation='softmax')(x)\n",
    "    return tf.keras.Model(inp,out)\n",
    "\n",
    "class BalBatch(Sequence):\n",
    "    def __init__(self,X,y,batch=64):\n",
    "        self.X, self.y = X, np.array(le.transform(y))\n",
    "        self.b, self.cls = batch, np.unique(self.y)\n",
    "        self.idxs = {c:np.where(self.y==c)[0] for c in self.cls}\n",
    "    def __len__(self): return math.ceil(len(self.y)/self.b)\n",
    "    def __getitem__(self,i):\n",
    "        per = max(1,self.b//len(self.cls)); idx=[]\n",
    "        for c in self.cls: idx+=random.sample(self.idxs[c].tolist(),per)\n",
    "        random.shuffle(idx)\n",
    "        return (self.X[idx,...,np.newaxis],\n",
    "                to_categorical(self.y[idx], n_classes))\n",
    "\n",
    "train_gen = BalBatch(X_tr, y_tr, 64)\n",
    "val_gen   = BalBatch(X_va, y_va, 64)\n",
    "\n",
    "model = EEGNet(n_classes, X_tr.shape[1], X_tr.shape[2])\n",
    "model.compile('adam', 'categorical_crossentropy', metrics=['accuracy'])\n",
    "es = EarlyStopping(monitor='val_accuracy', patience=8, restore_best_weights=True)\n",
    "\n",
    "model.fit(train_gen, epochs=60, validation_data=val_gen,\n",
    "          callbacks=[es], verbose=1)\n",
    "\n",
    "X_te4D = X_te[..., np.newaxis]\n",
    "print(\"Test accuracy:\",\n",
    "      model.evaluate(X_te4D,\n",
    "      to_categorical(le.transform(y_te), n_classes), verbose=0)[1])\n"
   ]
  },
  {
   "cell_type": "code",
   "execution_count": 14,
   "id": "30fa947d",
   "metadata": {},
   "outputs": [
    {
     "name": "stdout",
     "output_type": "stream",
     "text": [
      "\n",
      "Test classification report:\n",
      "               precision    recall  f1-score   support\n",
      "\n",
      " IMAGERY_BOTH       0.00      0.00      0.00       228\n",
      " IMAGERY_LEFT       0.16      0.05      0.07       266\n",
      "IMAGERY_RIGHT       0.09      0.97      0.16       228\n",
      "    MOVE_BOTH       0.82      0.21      0.33       379\n",
      "    MOVE_LEFT       0.27      0.50      0.35       228\n",
      "   MOVE_RIGHT       0.32      0.09      0.15       266\n",
      "         REST       0.86      0.00      0.01      1593\n",
      "\n",
      "     accuracy                           0.14      3188\n",
      "    macro avg       0.36      0.26      0.15      3188\n",
      " weighted avg       0.59      0.14      0.10      3188\n",
      "\n"
     ]
    },
    {
     "data": {
      "image/png": "[encoded data removed]",
      "text/plain": [
       "<Figure size 700x700 with 1 Axes>"
      ]
     },
     "metadata": {},
     "output_type": "display_data"
    }
   ],
   "source": [
    "# -----------------------------  Block 8  -----------------------------\n",
    "# Confusion matrix on test-set\n",
    "from sklearn.metrics import ConfusionMatrixDisplay, classification_report\n",
    "import matplotlib.pyplot as plt\n",
    "\n",
    "y_pred = model.predict(X_te4D, verbose=0).argmax(1)\n",
    "y_true = le.transform(y_te)\n",
    "\n",
    "print(\"\\nTest classification report:\")\n",
    "print(classification_report(y_true, y_pred, target_names=le.classes_))\n",
    "\n",
    "fig, ax = plt.subplots(figsize=(7,7))\n",
    "ConfusionMatrixDisplay.from_predictions(\n",
    "    y_true, y_pred,\n",
    "    display_labels=le.classes_, cmap='Blues',\n",
    "    xticks_rotation=45, ax=ax, colorbar=False\n",
    ")\n",
    "ax.set_title(\"EEGNet – Confusion Matrix (Test)\")\n",
    "plt.tight_layout(); plt.show()\n"
   ]
  },
  {
   "cell_type": "code",
   "execution_count": 20,
   "id": "171f664b",
   "metadata": {},
   "outputs": [
    {
     "name": "stdout",
     "output_type": "stream",
     "text": [
      "INFO:tensorflow:Assets written to: ./saved_artifacts\\EEGNet_MI\\assets\n"
     ]
    },
    {
     "name": "stderr",
     "output_type": "stream",
     "text": [
      "INFO:tensorflow:Assets written to: ./saved_artifacts\\EEGNet_MI\\assets\n"
     ]
    },
    {
     "name": "stdout",
     "output_type": "stream",
     "text": [
      "✅ etiketter → ./saved_artifacts\\label_classes.json og ./saved_artifacts\\label_classes.npy\n"
     ]
    }
   ],
   "source": [
    "# -----------------------------  Block 9  -----------------------------\n",
    "# Lagre alle artefakter for sanntids-inferens\n",
    "# --------------------------------------------------------------------\n",
    "import os, json, numpy as np, tensorflow as tf\n",
    "save_dir = \"./saved_artifacts\"\n",
    "os.makedirs(save_dir, exist_ok=True)\n",
    "\n",
    "# 1) TF-modell\n",
    "model.save(os.path.join(save_dir, \"EEGNet_MI\"))\n",
    "\n",
    "# 2) Etiketter  →  json + npy\n",
    "lbl_json = os.path.join(save_dir, \"label_classes.json\")\n",
    "lbl_npy  = os.path.join(save_dir, \"label_classes.npy\")\n",
    "with open(lbl_json, \"w\", encoding=\"utf-8\") as f:\n",
    "    json.dump(le.classes_.tolist(), f, indent=2)\n",
    "np.save(lbl_npy, le.classes_)                 # back-compat\n",
    "print(\"✅ etiketter →\", lbl_json, \"og\", lbl_npy)\n",
    "\n",
    "# 3) Kanal-rekkefølge\n",
    "with open(os.path.join(save_dir, \"eeg_channels.json\"), \"w\") as f:\n",
    "    json.dump(feature_cols, f, indent=2)\n",
    "\n",
    "# 4) Pre-proc-meta\n",
    "meta_info = {\n",
    "    \"sfreq\": sfreq, \"window_s\": win_s, \"window_len\": win,\n",
    "    \"step_len\": step, \"overlap\": 0.5,\n",
    "    \"zscore\": True, \"bandpass\": [8, 30], \"notch\": 50\n",
    "}\n",
    "with open(os.path.join(save_dir, \"preproc_meta.json\"), \"w\") as f:\n",
    "    json.dump(meta_info, f, indent=2)\n"
   ]
  },
  {
   "cell_type": "code",
   "execution_count": null,
   "id": "2e2c552e",
   "metadata": {},
   "outputs": [],
   "source": []
  },
  {
   "cell_type": "code",
   "execution_count": null,
   "id": "9c8ea923",
   "metadata": {},
   "outputs": [],
   "source": []
  },
  {
   "cell_type": "code",
   "execution_count": null,
   "id": "5c8dc018",
   "metadata": {},
   "outputs": [],
   "source": []
  },
  {
   "cell_type": "code",
   "execution_count": null,
   "id": "9e0aeecf",
   "metadata": {},
   "outputs": [],
   "source": []
  },
  {
   "cell_type": "code",
   "execution_count": null,
   "id": "11b7f00d",
   "metadata": {},
   "outputs": [],
   "source": []
  },
  {
   "cell_type": "code",
   "execution_count": null,
   "id": "b0c3d7e1",
   "metadata": {},
   "outputs": [],
   "source": []
  },
  {
   "cell_type": "code",
   "execution_count": null,
   "id": "a66a9b49",
   "metadata": {},
   "outputs": [],
   "source": []
  },
  {
   "cell_type": "code",
   "execution_count": null,
   "id": "e21b16a3",
   "metadata": {},
   "outputs": [],
   "source": []
  },
  {
   "cell_type": "code",
   "execution_count": null,
   "id": "93b123cd",
   "metadata": {},
   "outputs": [],
   "source": []
  },
  {
   "cell_type": "code",
   "execution_count": null,
   "id": "4835618f",
   "metadata": {},
   "outputs": [],
   "source": []
  },
  {
   "cell_type": "code",
   "execution_count": null,
   "id": "55e94fc6",
   "metadata": {},
   "outputs": [],
   "source": []
  },
  {
   "cell_type": "code",
   "execution_count": null,
   "id": "8375cda0",
   "metadata": {},
   "outputs": [],
   "source": []
  },
  {
   "cell_type": "code",
   "execution_count": null,
   "id": "0ec8772f",
   "metadata": {},
   "outputs": [],
   "source": []
  },
  {
   "cell_type": "code",
   "execution_count": null,
   "id": "cd076e92",
   "metadata": {},
   "outputs": [],
   "source": []
  },
  {
   "cell_type": "code",
   "execution_count": null,
   "id": "84346154",
   "metadata": {},
   "outputs": [],
   "source": []
  },
  {
   "cell_type": "code",
   "execution_count": null,
   "id": "6044ddc8",
   "metadata": {},
   "outputs": [],
   "source": []
  },
  {
   "cell_type": "code",
   "execution_count": null,
   "id": "465e19d8",
   "metadata": {},
   "outputs": [],
   "source": []
  },
  {
   "cell_type": "code",
   "execution_count": null,
   "id": "8b79027b",
   "metadata": {},
   "outputs": [],
   "source": []
  },
  {
   "cell_type": "code",
   "execution_count": null,
   "id": "d790e914",
   "metadata": {},
   "outputs": [],
   "source": []
  },
  {
   "cell_type": "code",
   "execution_count": null,
   "id": "667532cc",
   "metadata": {},
   "outputs": [],
   "source": []
  }
 ],
 "metadata": {
  "kernelspec": {
   "display_name": "MyEnv (GPU)",
   "language": "python",
   "name": "myenv-gpu"
  },
  "language_info": {
   "codemirror_mode": {
    "name": "ipython",
    "version": 3
   },
   "file_extension": ".py",
   "mimetype": "text/x-python",
   "name": "python",
   "nbconvert_exporter": "python",
   "pygments_lexer": "ipython3",
   "version": "3.8.10"
  }
 },
 "nbformat": 4,
 "nbformat_minor": 5
}
