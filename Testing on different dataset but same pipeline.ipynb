{
 "cells": [
  {
   "cell_type": "markdown",
   "id": "c5e0a839",
   "metadata": {},
   "source": [
    "# Testing pipeline on new dataset"
   ]
  },
  {
   "cell_type": "markdown",
   "id": "c6f3b023",
   "metadata": {},
   "source": [
    "# New Dataset - Binary Model - LEFT VS RIGHT"
   ]
  },
  {
   "cell_type": "code",
   "execution_count": 1,
   "id": "a72ca77d",
   "metadata": {},
   "outputs": [
    {
     "name": "stderr",
     "output_type": "stream",
     "text": [
      "<frozen importlib._bootstrap>:219: FutureWarning: mne.io.pick.pick_types is deprecated will be removed in 1.6, use documented public API instead. If no appropriate public API exists, please open an issue on GitHub.\n",
      "<frozen importlib._bootstrap>:219: FutureWarning: mne.io.pick.pick_channels_regexp is deprecated will be removed in 1.6, use documented public API instead. If no appropriate public API exists, please open an issue on GitHub.\n",
      "<frozen importlib._bootstrap>:219: FutureWarning: mne.io.pick.channel_type is deprecated will be removed in 1.6, use documented public API instead. If no appropriate public API exists, please open an issue on GitHub.\n",
      "C:\\Users\\aksel\\Documents\\EEG_master\\venv\\lib\\site-packages\\moabb\\pipelines\\__init__.py:26: ModuleNotFoundError: Tensorflow is not installed. You won't be able to use these MOABB pipelines if you attempt to do so.\n",
      "  warn(\n",
      "C:\\Users\\aksel\\Documents\\EEG_master\\venv\\lib\\site-packages\\braindecode\\preprocessing\\preprocess.py:55: UserWarning: Preprocessing choices with lambda functions cannot be saved.\n",
      "  warn('Preprocessing choices with lambda functions cannot be saved.')\n"
     ]
    },
    {
     "name": "stdout",
     "output_type": "stream",
     "text": [
      "Antall vinduer totalt: 1728\n"
     ]
    }
   ],
   "source": [
    "# ----------------------------- Block 1 ------------------------------------\n",
    "import numpy as np, mne\n",
    "from braindecode.datasets import MOABBDataset\n",
    "from braindecode.preprocessing import (\n",
    "    preprocess, Preprocessor, exponential_moving_standardize,\n",
    "    create_windows_from_events\n",
    ")\n",
    "from numpy import multiply\n",
    "\n",
    "mne.set_log_level(\"ERROR\")\n",
    "\n",
    "SUBJ = 1                      #  ⇦  bytt fritt (1–9 for BNCI2014_001)\n",
    "\n",
    "ds_raw = MOABBDataset(\n",
    "    dataset_name=\"BNCI2014_001\",\n",
    "    subject_ids=[SUBJ]        # ⚠️  kun én forsøksperson\n",
    ")\n",
    "\n",
    "# --- sam­me pre-prosessering som i din gamle binære modell ---------------\n",
    "preprocess(\n",
    "    ds_raw,\n",
    "    [\n",
    "        Preprocessor('pick_types', eeg=True, meg=False, stim=False),\n",
    "        Preprocessor(lambda x: multiply(x, 1e6)),        # V → µV\n",
    "        Preprocessor('filter', l_freq=8., h_freq=30.),   # 8–30 Hz (MI-bånd)\n",
    "        Preprocessor(exponential_moving_standardize,\n",
    "                     factor_new=1e-3, init_block_size=1000),\n",
    "    ],\n",
    ")\n",
    "\n",
    "# --- kutt ett 2 s-vindu fra 0.5 s til 2.5 s etter cue --------------------\n",
    "sfreq = ds_raw.datasets[0].raw.info['sfreq']           # 250 Hz\n",
    "t0, t1  = 0.5, 2.5                                     # sek\n",
    "win_len = int((t1 - t0) * sfreq)                       # 500 samples\n",
    "\n",
    "windows_ds = create_windows_from_events(\n",
    "    ds_raw,\n",
    "    trial_start_offset_samples=int(t0 * sfreq),\n",
    "    trial_stop_offset_samples =int(t1 * sfreq),\n",
    "    window_size_samples       =win_len,\n",
    "    window_stride_samples     =win_len,\n",
    "    preload=True,\n",
    ")\n",
    "\n",
    "print(f\"Antall vinduer totalt: {len(windows_ds)}\")\n"
   ]
  },
  {
   "cell_type": "code",
   "execution_count": 2,
   "id": "c24fbf10",
   "metadata": {},
   "outputs": [
    {
     "name": "stdout",
     "output_type": "stream",
     "text": [
      "Train-run vinduer: 432\n",
      "Test-run  vinduer: 432\n",
      "Train: (345, 22, 500) (array(['LEFT', 'RIGHT'], dtype=object), array([172, 173], dtype=int64))\n",
      "Val:   (87, 22, 500) (array(['LEFT', 'RIGHT'], dtype=object), array([44, 43], dtype=int64))\n",
      "Test:  (432, 22, 500) (array(['LEFT', 'RIGHT'], dtype=object), array([216, 216], dtype=int64))\n"
     ]
    }
   ],
   "source": [
    "# ----------------------------- Block 2  (ROBUST SPLIT) --------------------\n",
    "import pandas as pd\n",
    "from sklearn.model_selection import StratifiedShuffleSplit\n",
    "\n",
    "meta = windows_ds.get_metadata()\n",
    "\n",
    "# ---------- 1)  Behold kun LEFT / RIGHT -----------------------------------\n",
    "code2name = {0: \"LEFT\", 1: \"RIGHT\", 2: \"FEET\", 3: \"TONGUE\"}\n",
    "y_full = meta[\"target\"].map(code2name).to_numpy()\n",
    "\n",
    "keep   = np.isin(y_full, [\"LEFT\", \"RIGHT\"])\n",
    "X_full = np.stack([w[0] for w in windows_ds])[keep]   # (N, 22, 500)\n",
    "y_full = y_full[keep]\n",
    "meta   = meta[keep].reset_index(drop=True)\n",
    "\n",
    "# ---------- 2)  Finn trenings- og test-run på en robust måte --------------\n",
    "# BNCI2014_001 har alltid run 3 («train») og run 4 («eval/test»)\n",
    "if \"run\" in meta.columns and set(meta[\"run\"].unique()) >= {3, 4}:\n",
    "    tr_mask = meta[\"run\"] == 3\n",
    "    te_mask = meta[\"run\"] == 4\n",
    "else:\n",
    "    # fallback til session-navn som kan se ut som 0 / 1 eller 0train / 1test …\n",
    "    sess = meta[\"session\"].astype(str)\n",
    "    if set(sess.unique()) <= {\"0\", \"1\"}:\n",
    "        tr_mask = sess == \"0\"\n",
    "        te_mask = sess == \"1\"\n",
    "    else:                             # inneholder ordet “train” / “test”\n",
    "        tr_mask = sess.str.contains(\"train\", case=False, regex=False)\n",
    "        te_mask = sess.str.contains(\"test\",  case=False, regex=False)\n",
    "\n",
    "assert tr_mask.any(), \"Fant ingen trenings-vinduer – sjekk filtreringen!\"\n",
    "assert te_mask.any(), \"Fant ingen test-vinduer      – sjekk filtreringen!\"\n",
    "\n",
    "X_pre,  y_pre  = X_full[tr_mask], y_full[tr_mask]    #  train-run\n",
    "X_test, y_test = X_full[te_mask], y_full[te_mask]    #  test-run\n",
    "\n",
    "print(f\"Train-run vinduer: {X_pre.shape[0]}\")\n",
    "print(f\"Test-run  vinduer: {X_test.shape[0]}\")\n",
    "\n",
    "# ---------- 3)  80 % train  | 20 % val på trenings-run --------------------\n",
    "sss = StratifiedShuffleSplit(n_splits=1, test_size=0.20, random_state=42)\n",
    "tr_idx, val_idx = next(sss.split(X_pre, y_pre))\n",
    "\n",
    "X_train, y_train = X_pre[tr_idx],  y_pre[tr_idx]\n",
    "X_val,   y_val   = X_pre[val_idx], y_pre[val_idx]\n",
    "\n",
    "print(\"Train:\", X_train.shape, np.unique(y_train, return_counts=True))\n",
    "print(\"Val:  \", X_val.shape,   np.unique(y_val,   return_counts=True))\n",
    "print(\"Test: \", X_test.shape,  np.unique(y_test,  return_counts=True))\n"
   ]
  },
  {
   "cell_type": "code",
   "execution_count": 3,
   "id": "f2080337",
   "metadata": {},
   "outputs": [
    {
     "name": "stdout",
     "output_type": "stream",
     "text": [
      "Etter oversampling: (array(['LEFT', 'RIGHT'], dtype='<U5'), array([173, 173], dtype=int64))\n"
     ]
    }
   ],
   "source": [
    "# ----------------------------- Block 3  (oversampling) --------------------\n",
    "from sklearn.utils import resample\n",
    "\n",
    "labs, counts = np.unique(y_train, return_counts=True)\n",
    "max_n = counts.max()\n",
    "\n",
    "X_parts, y_parts = [], []\n",
    "for lab in labs:\n",
    "    mask     = y_train == lab\n",
    "    X_resamp = resample(X_train[mask], replace=True,\n",
    "                        n_samples=max_n, random_state=42)\n",
    "    X_parts.append(X_resamp)\n",
    "    y_parts.append(np.full(max_n, lab))\n",
    "X_train_bal = np.concatenate(X_parts, axis=0)\n",
    "y_train_bal = np.concatenate(y_parts, axis=0)\n",
    "\n",
    "print(\"Etter oversampling:\", np.unique(y_train_bal, return_counts=True))\n"
   ]
  },
  {
   "cell_type": "code",
   "execution_count": 4,
   "id": "956f0124",
   "metadata": {},
   "outputs": [
    {
     "data": {
      "text/html": [
       "<style>#sk-container-id-1 {color: black;}#sk-container-id-1 pre{padding: 0;}#sk-container-id-1 div.sk-toggleable {background-color: white;}#sk-container-id-1 label.sk-toggleable__label {cursor: pointer;display: block;width: 100%;margin-bottom: 0;padding: 0.3em;box-sizing: border-box;text-align: center;}#sk-container-id-1 label.sk-toggleable__label-arrow:before {content: \"▸\";float: left;margin-right: 0.25em;color: #696969;}#sk-container-id-1 label.sk-toggleable__label-arrow:hover:before {color: black;}#sk-container-id-1 div.sk-estimator:hover label.sk-toggleable__label-arrow:before {color: black;}#sk-container-id-1 div.sk-toggleable__content {max-height: 0;max-width: 0;overflow: hidden;text-align: left;background-color: #f0f8ff;}#sk-container-id-1 div.sk-toggleable__content pre {margin: 0.2em;color: black;border-radius: 0.25em;background-color: #f0f8ff;}#sk-container-id-1 input.sk-toggleable__control:checked~div.sk-toggleable__content {max-height: 200px;max-width: 100%;overflow: auto;}#sk-container-id-1 input.sk-toggleable__control:checked~label.sk-toggleable__label-arrow:before {content: \"▾\";}#sk-container-id-1 div.sk-estimator input.sk-toggleable__control:checked~label.sk-toggleable__label {background-color: #d4ebff;}#sk-container-id-1 div.sk-label input.sk-toggleable__control:checked~label.sk-toggleable__label {background-color: #d4ebff;}#sk-container-id-1 input.sk-hidden--visually {border: 0;clip: rect(1px 1px 1px 1px);clip: rect(1px, 1px, 1px, 1px);height: 1px;margin: -1px;overflow: hidden;padding: 0;position: absolute;width: 1px;}#sk-container-id-1 div.sk-estimator {font-family: monospace;background-color: #f0f8ff;border: 1px dotted black;border-radius: 0.25em;box-sizing: border-box;margin-bottom: 0.5em;}#sk-container-id-1 div.sk-estimator:hover {background-color: #d4ebff;}#sk-container-id-1 div.sk-parallel-item::after {content: \"\";width: 100%;border-bottom: 1px solid gray;flex-grow: 1;}#sk-container-id-1 div.sk-label:hover label.sk-toggleable__label {background-color: #d4ebff;}#sk-container-id-1 div.sk-serial::before {content: \"\";position: absolute;border-left: 1px solid gray;box-sizing: border-box;top: 0;bottom: 0;left: 50%;z-index: 0;}#sk-container-id-1 div.sk-serial {display: flex;flex-direction: column;align-items: center;background-color: white;padding-right: 0.2em;padding-left: 0.2em;position: relative;}#sk-container-id-1 div.sk-item {position: relative;z-index: 1;}#sk-container-id-1 div.sk-parallel {display: flex;align-items: stretch;justify-content: center;background-color: white;position: relative;}#sk-container-id-1 div.sk-item::before, #sk-container-id-1 div.sk-parallel-item::before {content: \"\";position: absolute;border-left: 1px solid gray;box-sizing: border-box;top: 0;bottom: 0;left: 50%;z-index: -1;}#sk-container-id-1 div.sk-parallel-item {display: flex;flex-direction: column;z-index: 1;position: relative;background-color: white;}#sk-container-id-1 div.sk-parallel-item:first-child::after {align-self: flex-end;width: 50%;}#sk-container-id-1 div.sk-parallel-item:last-child::after {align-self: flex-start;width: 50%;}#sk-container-id-1 div.sk-parallel-item:only-child::after {width: 0;}#sk-container-id-1 div.sk-dashed-wrapped {border: 1px dashed gray;margin: 0 0.4em 0.5em 0.4em;box-sizing: border-box;padding-bottom: 0.4em;background-color: white;}#sk-container-id-1 div.sk-label label {font-family: monospace;font-weight: bold;display: inline-block;line-height: 1.2em;}#sk-container-id-1 div.sk-label-container {text-align: center;}#sk-container-id-1 div.sk-container {/* jupyter's `normalize.less` sets `[hidden] { display: none; }` but bootstrap.min.css set `[hidden] { display: none !important; }` so we also need the `!important` here to be able to override the default hidden behavior on the sphinx rendered scikit-learn.org. See: https://github.com/scikit-learn/scikit-learn/issues/21755 */display: inline-block !important;position: relative;}#sk-container-id-1 div.sk-text-repr-fallback {display: none;}</style><div id=\"sk-container-id-1\" class=\"sk-top-container\"><div class=\"sk-text-repr-fallback\"><pre>Pipeline(steps=[(&#x27;cov&#x27;, Covariances(estimator=&#x27;oas&#x27;)),\n",
       "                (&#x27;align&#x27;, CovTransport()), (&#x27;ts&#x27;, TangentSpace()),\n",
       "                (&#x27;scaler&#x27;, StandardScaler()),\n",
       "                (&#x27;fs&#x27;,\n",
       "                 SelectKBest(k=50,\n",
       "                             score_func=&lt;function mutual_info_classif at 0x000002072B4FC9D0&gt;)),\n",
       "                (&#x27;svm&#x27;, SVC(probability=True, random_state=42))])</pre><b>In a Jupyter environment, please rerun this cell to show the HTML representation or trust the notebook. <br />On GitHub, the HTML representation is unable to render, please try loading this page with nbviewer.org.</b></div><div class=\"sk-container\" hidden><div class=\"sk-item sk-dashed-wrapped\"><div class=\"sk-label-container\"><div class=\"sk-label sk-toggleable\"><input class=\"sk-toggleable__control sk-hidden--visually\" id=\"sk-estimator-id-1\" type=\"checkbox\" ><label for=\"sk-estimator-id-1\" class=\"sk-toggleable__label sk-toggleable__label-arrow\">Pipeline</label><div class=\"sk-toggleable__content\"><pre>Pipeline(steps=[(&#x27;cov&#x27;, Covariances(estimator=&#x27;oas&#x27;)),\n",
       "                (&#x27;align&#x27;, CovTransport()), (&#x27;ts&#x27;, TangentSpace()),\n",
       "                (&#x27;scaler&#x27;, StandardScaler()),\n",
       "                (&#x27;fs&#x27;,\n",
       "                 SelectKBest(k=50,\n",
       "                             score_func=&lt;function mutual_info_classif at 0x000002072B4FC9D0&gt;)),\n",
       "                (&#x27;svm&#x27;, SVC(probability=True, random_state=42))])</pre></div></div></div><div class=\"sk-serial\"><div class=\"sk-item\"><div class=\"sk-estimator sk-toggleable\"><input class=\"sk-toggleable__control sk-hidden--visually\" id=\"sk-estimator-id-2\" type=\"checkbox\" ><label for=\"sk-estimator-id-2\" class=\"sk-toggleable__label sk-toggleable__label-arrow\">Covariances</label><div class=\"sk-toggleable__content\"><pre>Covariances(estimator=&#x27;oas&#x27;)</pre></div></div></div><div class=\"sk-item\"><div class=\"sk-estimator sk-toggleable\"><input class=\"sk-toggleable__control sk-hidden--visually\" id=\"sk-estimator-id-3\" type=\"checkbox\" ><label for=\"sk-estimator-id-3\" class=\"sk-toggleable__label sk-toggleable__label-arrow\">CovTransport</label><div class=\"sk-toggleable__content\"><pre>CovTransport()</pre></div></div></div><div class=\"sk-item\"><div class=\"sk-estimator sk-toggleable\"><input class=\"sk-toggleable__control sk-hidden--visually\" id=\"sk-estimator-id-4\" type=\"checkbox\" ><label for=\"sk-estimator-id-4\" class=\"sk-toggleable__label sk-toggleable__label-arrow\">TangentSpace</label><div class=\"sk-toggleable__content\"><pre>TangentSpace()</pre></div></div></div><div class=\"sk-item\"><div class=\"sk-estimator sk-toggleable\"><input class=\"sk-toggleable__control sk-hidden--visually\" id=\"sk-estimator-id-5\" type=\"checkbox\" ><label for=\"sk-estimator-id-5\" class=\"sk-toggleable__label sk-toggleable__label-arrow\">StandardScaler</label><div class=\"sk-toggleable__content\"><pre>StandardScaler()</pre></div></div></div><div class=\"sk-item\"><div class=\"sk-estimator sk-toggleable\"><input class=\"sk-toggleable__control sk-hidden--visually\" id=\"sk-estimator-id-6\" type=\"checkbox\" ><label for=\"sk-estimator-id-6\" class=\"sk-toggleable__label sk-toggleable__label-arrow\">SelectKBest</label><div class=\"sk-toggleable__content\"><pre>SelectKBest(k=50,\n",
       "            score_func=&lt;function mutual_info_classif at 0x000002072B4FC9D0&gt;)</pre></div></div></div><div class=\"sk-item\"><div class=\"sk-estimator sk-toggleable\"><input class=\"sk-toggleable__control sk-hidden--visually\" id=\"sk-estimator-id-7\" type=\"checkbox\" ><label for=\"sk-estimator-id-7\" class=\"sk-toggleable__label sk-toggleable__label-arrow\">SVC</label><div class=\"sk-toggleable__content\"><pre>SVC(probability=True, random_state=42)</pre></div></div></div></div></div></div></div>"
      ],
      "text/plain": [
       "Pipeline(steps=[('cov', Covariances(estimator='oas')),\n",
       "                ('align', CovTransport()), ('ts', TangentSpace()),\n",
       "                ('scaler', StandardScaler()),\n",
       "                ('fs',\n",
       "                 SelectKBest(k=50,\n",
       "                             score_func=<function mutual_info_classif at 0x000002072B4FC9D0>)),\n",
       "                ('svm', SVC(probability=True, random_state=42))])"
      ]
     },
     "execution_count": 4,
     "metadata": {},
     "output_type": "execute_result"
    }
   ],
   "source": [
    "# ----------------------------- Block 4  (pipeline) ------------------------\n",
    "from pyriemann.estimation      import Covariances\n",
    "from pyriemann.tangentspace    import TangentSpace\n",
    "from sklearn.preprocessing     import StandardScaler\n",
    "from sklearn.feature_selection import SelectKBest, mutual_info_classif\n",
    "from sklearn.svm               import SVC\n",
    "from sklearn.pipeline          import Pipeline\n",
    "from model_utils               import CovTransport   # <- som før\n",
    "\n",
    "pipe = Pipeline([\n",
    "    ('cov',    Covariances(estimator='oas')),\n",
    "    ('align',  CovTransport()),          # beholder RA selv om én subject\n",
    "    ('ts',     TangentSpace(metric='riemann')),\n",
    "    ('scaler', StandardScaler()),\n",
    "    ('fs',     SelectKBest(mutual_info_classif, k=50)),\n",
    "    ('svm',    SVC(kernel='rbf', C=1.0, gamma='scale',\n",
    "                   probability=True, random_state=42))\n",
    "])\n",
    "\n",
    "pipe.fit(X_train_bal, y_train_bal)\n"
   ]
  },
  {
   "cell_type": "code",
   "execution_count": 5,
   "id": "68c632b7",
   "metadata": {},
   "outputs": [
    {
     "name": "stdout",
     "output_type": "stream",
     "text": [
      "\n",
      "Val balanced accuracy: 0.805\n",
      "              precision    recall  f1-score   support\n",
      "\n",
      "        LEFT       0.85      0.75      0.80        44\n",
      "       RIGHT       0.77      0.86      0.81        43\n",
      "\n",
      "    accuracy                           0.80        87\n",
      "   macro avg       0.81      0.81      0.80        87\n",
      "weighted avg       0.81      0.80      0.80        87\n",
      "\n",
      "\n",
      "Test balanced accuracy: 0.771\n",
      "              precision    recall  f1-score   support\n",
      "\n",
      "        LEFT       0.82      0.70      0.75       216\n",
      "       RIGHT       0.74      0.84      0.79       216\n",
      "\n",
      "    accuracy                           0.77       432\n",
      "   macro avg       0.78      0.77      0.77       432\n",
      "weighted avg       0.78      0.77      0.77       432\n",
      "\n"
     ]
    }
   ],
   "source": [
    "# ----------------------------- Block 5  (evaluering) ----------------------\n",
    "from sklearn.metrics import balanced_accuracy_score, classification_report\n",
    "\n",
    "for name, Xs, ys in [('Val', X_val, y_val),\n",
    "                     ('Test', X_test, y_test)]:\n",
    "    yp = pipe.predict(Xs)\n",
    "    print(f\"\\n{name} balanced accuracy: {balanced_accuracy_score(ys, yp):.3f}\")\n",
    "    print(classification_report(\n",
    "        ys, yp, labels=[\"LEFT\", \"RIGHT\"],\n",
    "        target_names=[\"LEFT\", \"RIGHT\"], zero_division=0\n",
    "    ))\n"
   ]
  },
  {
   "cell_type": "code",
   "execution_count": 6,
   "id": "a97bf0eb",
   "metadata": {},
   "outputs": [
    {
     "data": {
      "image/png": "[encoded data removed]",
      "text/plain": [
       "<Figure size 350x350 with 1 Axes>"
      ]
     },
     "metadata": {},
     "output_type": "display_data"
    },
    {
     "data": {
      "image/png": "[encoded data removed]",
      "text/plain": [
       "<Figure size 350x350 with 1 Axes>"
      ]
     },
     "metadata": {},
     "output_type": "display_data"
    }
   ],
   "source": [
    "# ----------------------------- Block 6  (confusion matrices) -------------\n",
    "import matplotlib.pyplot as plt\n",
    "from sklearn.metrics import confusion_matrix, ConfusionMatrixDisplay\n",
    "\n",
    "labels = [\"LEFT\", \"RIGHT\"]\n",
    "\n",
    "for title, Xs, ys in [(\"Validering\", X_val, y_val),\n",
    "                      (\"Test\",       X_test, y_test)]:\n",
    "    cm   = confusion_matrix(ys, pipe.predict(Xs), labels=labels)\n",
    "    disp = ConfusionMatrixDisplay(cm, display_labels=labels)\n",
    "    fig, ax = plt.subplots(figsize=(3.5, 3.5))\n",
    "    disp.plot(ax=ax, cmap=\"Blues\", colorbar=False)\n",
    "    ax.set_title(f\"Confusion Matrix – {title}\")\n",
    "    plt.tight_layout()\n",
    "    plt.show()\n"
   ]
  },
  {
   "cell_type": "code",
   "execution_count": 7,
   "id": "c98e531b",
   "metadata": {},
   "outputs": [
    {
     "name": "stdout",
     "output_type": "stream",
     "text": [
      "Train ∩ Val : 0\n",
      "Train ∩ Test: 0\n",
      "Val   ∩ Test: 0\n",
      "✅  Ingen overlapp mellom splittene\n"
     ]
    }
   ],
   "source": [
    "# ----------------------------- Block 7  (lekkasje-vakt) -------------------\n",
    "tr_set = set(tr_idx)\n",
    "val_set = set(val_idx)\n",
    "test_set= set(np.where(te_mask)[0])\n",
    "\n",
    "print(\"Train ∩ Val :\", len(tr_set & val_set))\n",
    "print(\"Train ∩ Test:\", len(tr_set & test_set))\n",
    "print(\"Val   ∩ Test:\", len(val_set & test_set))\n",
    "assert len(tr_set & val_set) == len(tr_set & test_set) == len(val_set & test_set) == 0\n",
    "print(\"✅  Ingen overlapp mellom splittene\")\n"
   ]
  },
  {
   "cell_type": "code",
   "execution_count": null,
   "id": "eb6067b1",
   "metadata": {},
   "outputs": [],
   "source": []
  },
  {
   "cell_type": "code",
   "execution_count": null,
   "id": "ce65ad68",
   "metadata": {},
   "outputs": [],
   "source": []
  },
  {
   "cell_type": "code",
   "execution_count": null,
   "id": "70c6e3c2",
   "metadata": {},
   "outputs": [],
   "source": []
  },
  {
   "cell_type": "code",
   "execution_count": null,
   "id": "3bdee485",
   "metadata": {},
   "outputs": [],
   "source": []
  },
  {
   "cell_type": "code",
   "execution_count": null,
   "id": "fed69c8c",
   "metadata": {},
   "outputs": [],
   "source": []
  },
  {
   "cell_type": "code",
   "execution_count": null,
   "id": "dc44f5bc",
   "metadata": {},
   "outputs": [],
   "source": []
  },
  {
   "cell_type": "code",
   "execution_count": null,
   "id": "521c6100",
   "metadata": {},
   "outputs": [],
   "source": []
  },
  {
   "cell_type": "code",
   "execution_count": null,
   "id": "1d37813b",
   "metadata": {},
   "outputs": [],
   "source": []
  },
  {
   "cell_type": "code",
   "execution_count": null,
   "id": "86499d3a",
   "metadata": {},
   "outputs": [],
   "source": []
  },
  {
   "cell_type": "code",
   "execution_count": null,
   "id": "e2395990",
   "metadata": {},
   "outputs": [],
   "source": []
  },
  {
   "cell_type": "code",
   "execution_count": null,
   "id": "5856d864",
   "metadata": {},
   "outputs": [],
   "source": []
  },
  {
   "cell_type": "code",
   "execution_count": null,
   "id": "5f2023c4",
   "metadata": {},
   "outputs": [],
   "source": []
  },
  {
   "cell_type": "code",
   "execution_count": null,
   "id": "fc497983",
   "metadata": {},
   "outputs": [],
   "source": []
  },
  {
   "cell_type": "code",
   "execution_count": null,
   "id": "294b13b0",
   "metadata": {},
   "outputs": [],
   "source": []
  },
  {
   "cell_type": "markdown",
   "id": "86c599f0",
   "metadata": {},
   "source": [
    "# Multiclass modell with CSP - Right, Left, Feet, Tongue"
   ]
  },
  {
   "cell_type": "code",
   "execution_count": null,
   "id": "d0841a04",
   "metadata": {},
   "outputs": [],
   "source": [
    "# ----------------------------- Block 1 ------------------------------------\n",
    "import numpy as np, mne\n",
    "from braindecode.datasets import MOABBDataset\n",
    "from braindecode.preprocessing import (\n",
    "    preprocess, Preprocessor, exponential_moving_standardize,\n",
    "    create_windows_from_events\n",
    ")\n",
    "from numpy import multiply\n",
    "mne.set_log_level(\"ERROR\")\n",
    "\n",
    "SUBJ = 3                          # ← bytt om du vil bruke en annen\n",
    "\n",
    "ds_raw = MOABBDataset(\n",
    "    dataset_name=\"BNCI2014_001\",\n",
    "    subject_ids=[SUBJ]            # ⚠️ bare én subject!\n",
    ")\n",
    "\n",
    "preprocess(\n",
    "    ds_raw,\n",
    "    [\n",
    "        Preprocessor('pick_types', eeg=True, meg=False, stim=False),\n",
    "        Preprocessor(lambda x: multiply(x, 1e6)),      # V → µV\n",
    "        Preprocessor('filter', l_freq=8., h_freq=30.), # 8–30 Hz MI-bånd\n",
    "        Preprocessor(exponential_moving_standardize,\n",
    "                     factor_new=1e-3, init_block_size=1000),\n",
    "    ],\n",
    ")\n",
    "\n",
    "sfreq   = ds_raw.datasets[0].raw.info['sfreq']         # 250 Hz\n",
    "t0, t1  = 0.5, 2.5                                     # 0.5–2.5 s etter cue\n",
    "win     = int((t1 - t0) * sfreq)                       # 2 s = 500 prøver\n",
    "\n",
    "windows_ds = create_windows_from_events(\n",
    "    ds_raw,\n",
    "    trial_start_offset_samples=int(t0 * sfreq),\n",
    "    trial_stop_offset_samples =int(t1 * sfreq),\n",
    "    window_size_samples       =win,\n",
    "    window_stride_samples     =win,\n",
    "    preload=True,\n",
    ")\n",
    "\n",
    "print(\"Antall vinduer:\", len(windows_ds))\n"
   ]
  },
  {
   "cell_type": "code",
   "execution_count": null,
   "id": "f7684651",
   "metadata": {},
   "outputs": [],
   "source": [
    "# ----------------------------- Block 2 ------------------------------------\n",
    "import pandas as pd\n",
    "from sklearn.model_selection import StratifiedShuffleSplit\n",
    "\n",
    "meta = windows_ds.get_metadata()\n",
    "\n",
    "# ---------- 1)  Fire klasser  ------------------------------------------------\n",
    "int2name = {0: \"LEFT\", 1: \"RIGHT\", 2: \"FEET\", 3: \"TONGUE\"}\n",
    "y = meta[\"target\"].map(int2name).to_numpy()\n",
    "\n",
    "# ---------- 2)  Feature-tensor ---------------------------------------------\n",
    "X = np.stack([w[0] for w in windows_ds])         # shape (N, 22, 500)\n",
    "\n",
    "# ---------- 3)  Finn trenings- og test-sesjon -------------------------------\n",
    "sess_raw = meta[\"session\"].astype(str)           # f.eks. '0train' / '1test'\n",
    "\n",
    "if set(sess_raw.unique()) <= {\"0\", \"1\"}:\n",
    "    tr_mask = sess_raw == \"0\"\n",
    "    te_mask = sess_raw == \"1\"\n",
    "else:                                            # generelt: se etter ordet\n",
    "    tr_mask = sess_raw.str.contains(\"train\", case=False, regex=False)\n",
    "    te_mask = sess_raw.str.contains(\"test\",  case=False, regex=False)\n",
    "\n",
    "# ---------- 4)  Del opp ------------------------------------------------------\n",
    "X_pre,  y_pre  = X[tr_mask],  y[tr_mask]         # hele train-sesjonen\n",
    "X_test, y_test = X[te_mask],  y[te_mask]         # hele test-sesjonen\n",
    "\n",
    "print(\"Train-session vinduer:\", X_pre.shape[0])\n",
    "print(\"Test-session vinduer :\", X_test.shape[0])\n",
    "\n",
    "# ---------- 5)  Internt split av train-sesjon  (80 % train | 20 % val) ------\n",
    "sss = StratifiedShuffleSplit(n_splits=1, test_size=0.20, random_state=42)\n",
    "tr_idx, val_idx = next(sss.split(X_pre, y_pre))\n",
    "X_train, y_train = X_pre[tr_idx],  y_pre[tr_idx]\n",
    "X_val,   y_val   = X_pre[val_idx], y_pre[val_idx]\n",
    "\n",
    "print(\"Train:\", X_train.shape,  np.unique(y_train, return_counts=True))\n",
    "print(\"Val:  \", X_val.shape,    np.unique(y_val,   return_counts=True))\n",
    "print(\"Test: \", X_test.shape,   np.unique(y_test,  return_counts=True))\n"
   ]
  },
  {
   "cell_type": "code",
   "execution_count": null,
   "id": "723dc2b0",
   "metadata": {},
   "outputs": [],
   "source": [
    "# ----------------------------- Block 2 b  (lekkasje-sjekk, FIX) -----------------------------\n",
    "import numpy as np, hashlib\n",
    "\n",
    "print(\"\\n🔎  Sjekk 1  –  Indeks-overlapp mellom settene\")\n",
    "\n",
    "# te_idx = np.where(te_mask)[0]  gir ndarray med test-indeksene\n",
    "idx_sets = {\n",
    "    \"train\": set(tr_idx),\n",
    "    \"val\"  : set(val_idx),\n",
    "    \"test\" : set(np.where(te_mask.to_numpy())[0]),\n",
    "}\n",
    "\n",
    "for a, A in idx_sets.items():\n",
    "    for b, B in idx_sets.items():\n",
    "        if a >= b:      # sjekk bare hver kombinasjon én gang\n",
    "            continue\n",
    "        overlap = A & B\n",
    "        print(f\"{a:>5} ∩ {b:<5}: {len(overlap)}  (OK hvis 0)\")\n",
    "\n",
    "print(\"\\n🔎  Sjekk 2  –  Unike trial-ID-er (i_window_in_trial) i hvert sett\")\n",
    "for name, idx in [(\"train\", tr_idx), (\"val\", val_idx), (\"test\", np.where(te_mask)[0])]:\n",
    "    ids   = meta.iloc[idx][\"i_window_in_trial\"]\n",
    "    n_dup = ids.duplicated().sum()\n",
    "    print(f\"{name:>5}:  dubbletter i egen liste = {n_dup}\")\n",
    "\n",
    "print(\"\\n🔎  Sjekk 3  –  Hash-sammenligning av selve vindu-dataene\")\n",
    "def md5_set(X_):\n",
    "    return {hashlib.md5(x.tobytes()).hexdigest() for x in X_}\n",
    "\n",
    "h_train, h_val, h_test = map(md5_set, (X_train, X_val, X_test))\n",
    "print(\"train ∩ val :\", len(h_train & h_val))\n",
    "print(\"train ∩ test:\", len(h_train & h_test))\n",
    "print(\"val   ∩ test:\", len(h_val & h_test))\n",
    "\n",
    "print(\"\\n✅  Alle rapporterte tall skal være 0 – da er det ingen datalekkasje.\")\n"
   ]
  },
  {
   "cell_type": "code",
   "execution_count": null,
   "id": "227e6561",
   "metadata": {},
   "outputs": [],
   "source": [
    "# ----------------------------- Block 3 ------------------------------------\n",
    "from pyriemann.estimation      import Covariances\n",
    "from pyriemann.spatialfilters  import CSP\n",
    "from pyriemann.tangentspace    import TangentSpace\n",
    "from sklearn.preprocessing     import StandardScaler\n",
    "from sklearn.pipeline          import Pipeline\n",
    "from sklearn.feature_selection import SelectKBest, mutual_info_classif\n",
    "from sklearn.svm               import SVC\n",
    "\n",
    "pipe = Pipeline([\n",
    "    ('cov',    Covariances(estimator='oas')),\n",
    "    ('csp',    CSP(nfilter=8, log=False)),          # 8 komponenter ⇒ 36 feats\n",
    "    ('ts',     TangentSpace(metric='riemann')),\n",
    "    ('scaler', StandardScaler()),\n",
    "    ('fs',     SelectKBest(mutual_info_classif, k='all')),  # 36 features\n",
    "    ('svm',    SVC(C=5, gamma='scale', kernel='rbf',\n",
    "                   probability=False, random_state=42))\n",
    "])\n",
    "\n",
    "pipe.fit(X_train, y_train)          # ✅ trener nå uten feil\n"
   ]
  },
  {
   "cell_type": "code",
   "execution_count": null,
   "id": "3c5a8c05",
   "metadata": {},
   "outputs": [],
   "source": [
    "# ----------------------------- Block 3 b  (pipeline-sjekk) -----------------------------\n",
    "from sklearn.utils.metaestimators import _BaseComposition\n",
    "\n",
    "print(\"\\n🔎  Sjekk 4  –  Hvilke steg ble egentlig trent (fit)?\")\n",
    "for name, step in pipe.named_steps.items():\n",
    "    fitted = hasattr(step, \"fit\") and hasattr(step, \"__dict__\") and bool(step.__dict__)\n",
    "    print(f\"{name:>6}: {'✓ fitted' if fitted else '⨯ IKKE fitted'}\")\n",
    "\n",
    "print(\"\\n🔎  Sjekk 5  –  Standardiseringsparametre (scaler) er basert på train\")\n",
    "scaler = pipe.named_steps[\"scaler\"]\n",
    "print(\" scaler.mean_.shape:\", scaler.mean_.shape)\n",
    "print(\" scaler.var_ .shape:\", scaler.var_.shape)\n",
    "\n",
    "print(\"\\n🔎  Sjekk 6  –  Antall støtte-vektorer i SVM (= trenings-eksempler som bestemmer grensen)\")\n",
    "svm = pipe.named_steps[\"svm\"]\n",
    "print(\" #support-vectors:\", svm.support_.shape[0])\n",
    "\n",
    "print(\"\\n⚠️  Hvis du noen gang gjen-kaller .fit() på pipeline med andre data\\n\"\n",
    "      \"    vil alt over lære på nytt – pass derfor på rekkefølgen.\")\n"
   ]
  },
  {
   "cell_type": "code",
   "execution_count": null,
   "id": "2eeed3aa",
   "metadata": {},
   "outputs": [],
   "source": [
    "# ----------------------------- Block 4 ------------------------------------\n",
    "from sklearn.metrics import balanced_accuracy_score, classification_report\n",
    "\n",
    "for split, Xs, ys in [('Val', X_val, y_val),\n",
    "                      ('Test', X_test, y_test)]:\n",
    "    yp = pipe.predict(Xs)\n",
    "    print(f\"\\n{split} bal-accuracy: {balanced_accuracy_score(ys, yp):.3f}\")\n",
    "    print(classification_report(\n",
    "        ys, yp,\n",
    "        labels=[\"LEFT\",\"RIGHT\",\"FEET\",\"TONGUE\"],\n",
    "        target_names=[\"LEFT\",\"RIGHT\",\"FEET\",\"TONGUE\"]\n",
    "    ))\n"
   ]
  },
  {
   "cell_type": "code",
   "execution_count": null,
   "id": "7dedc7af",
   "metadata": {},
   "outputs": [],
   "source": [
    "# ----------------------------- Block «Confusion Matrix» -----------------------------\n",
    "import numpy as np\n",
    "import matplotlib.pyplot as plt\n",
    "from sklearn.metrics import confusion_matrix, ConfusionMatrixDisplay\n",
    "\n",
    "labels = [\"LEFT\", \"RIGHT\", \"FEET\", \"TONGUE\"]       # fast rekkefølge\n",
    "\n",
    "for split_name, X_split, y_split in [\n",
    "        (\"Validering\", X_val,  y_val),\n",
    "        (\"Test\",       X_test, y_test)]:\n",
    "\n",
    "    y_pred = pipe.predict(X_split)\n",
    "    cm     = confusion_matrix(y_split, y_pred, labels=labels)\n",
    "\n",
    "    # 1) Skriv som tabell i konsollen\n",
    "    print(f\"\\n{split_name}-settet — konfusjonsmatrise\")\n",
    "    print(\"        \" + \"  \".join(f\"{lab:>6}\" for lab in labels))\n",
    "    for lab, row in zip(labels, cm):\n",
    "        print(f\"{lab:>6}  \" + \"  \".join(f\"{n:6d}\" for n in row))\n",
    "\n",
    "    # 2) Tegn figuren\n",
    "    disp = ConfusionMatrixDisplay(cm, display_labels=labels)\n",
    "    fig, ax = plt.subplots(figsize=(4, 3.5))\n",
    "    disp.plot(ax=ax, cmap=\"Blues\", colorbar=False)\n",
    "    ax.set_title(f\"Confusion Matrix — {split_name}\")\n",
    "    plt.tight_layout()\n",
    "    plt.show()\n"
   ]
  },
  {
   "cell_type": "code",
   "execution_count": null,
   "id": "a4c9ef7e",
   "metadata": {},
   "outputs": [],
   "source": []
  },
  {
   "cell_type": "code",
   "execution_count": null,
   "id": "fe4ec6b0",
   "metadata": {},
   "outputs": [],
   "source": []
  },
  {
   "cell_type": "code",
   "execution_count": null,
   "id": "0e2d606b",
   "metadata": {},
   "outputs": [],
   "source": []
  },
  {
   "cell_type": "code",
   "execution_count": null,
   "id": "b76ff57e",
   "metadata": {},
   "outputs": [],
   "source": []
  },
  {
   "cell_type": "code",
   "execution_count": null,
   "id": "a027f9ad",
   "metadata": {},
   "outputs": [],
   "source": []
  },
  {
   "cell_type": "code",
   "execution_count": null,
   "id": "5879f536",
   "metadata": {},
   "outputs": [],
   "source": []
  },
  {
   "cell_type": "code",
   "execution_count": null,
   "id": "d644417a",
   "metadata": {},
   "outputs": [],
   "source": []
  },
  {
   "cell_type": "code",
   "execution_count": null,
   "id": "1ee5a9ff",
   "metadata": {},
   "outputs": [],
   "source": []
  },
  {
   "cell_type": "code",
   "execution_count": null,
   "id": "7040a796",
   "metadata": {},
   "outputs": [],
   "source": []
  },
  {
   "cell_type": "code",
   "execution_count": null,
   "id": "dffda181",
   "metadata": {},
   "outputs": [],
   "source": []
  },
  {
   "cell_type": "code",
   "execution_count": null,
   "id": "fd8783de",
   "metadata": {},
   "outputs": [],
   "source": []
  },
  {
   "cell_type": "code",
   "execution_count": null,
   "id": "e807e22a",
   "metadata": {},
   "outputs": [],
   "source": []
  },
  {
   "cell_type": "code",
   "execution_count": null,
   "id": "0aa0a459",
   "metadata": {},
   "outputs": [],
   "source": []
  },
  {
   "cell_type": "code",
   "execution_count": null,
   "id": "254aa594",
   "metadata": {},
   "outputs": [],
   "source": []
  },
  {
   "cell_type": "code",
   "execution_count": null,
   "id": "b4965647",
   "metadata": {},
   "outputs": [],
   "source": []
  },
  {
   "cell_type": "code",
   "execution_count": null,
   "id": "1cb6d813",
   "metadata": {},
   "outputs": [],
   "source": []
  },
  {
   "cell_type": "code",
   "execution_count": null,
   "id": "840cdb13",
   "metadata": {},
   "outputs": [],
   "source": []
  },
  {
   "cell_type": "code",
   "execution_count": null,
   "id": "d553e42d",
   "metadata": {},
   "outputs": [],
   "source": []
  },
  {
   "cell_type": "code",
   "execution_count": null,
   "id": "3cc196e3",
   "metadata": {},
   "outputs": [],
   "source": []
  },
  {
   "cell_type": "code",
   "execution_count": null,
   "id": "451c5e15",
   "metadata": {},
   "outputs": [],
   "source": []
  },
  {
   "cell_type": "code",
   "execution_count": null,
   "id": "f66ecafc",
   "metadata": {},
   "outputs": [],
   "source": []
  },
  {
   "cell_type": "code",
   "execution_count": null,
   "id": "baaa94ce",
   "metadata": {},
   "outputs": [],
   "source": []
  }
 ],
 "metadata": {
  "kernelspec": {
   "display_name": "EEG Master Env",
   "language": "python",
   "name": "eeg_master"
  },
  "language_info": {
   "codemirror_mode": {
    "name": "ipython",
    "version": 3
   },
   "file_extension": ".py",
   "mimetype": "text/x-python",
   "name": "python",
   "nbconvert_exporter": "python",
   "pygments_lexer": "ipython3",
   "version": "3.8.10"
  }
 },
 "nbformat": 4,
 "nbformat_minor": 5
}
