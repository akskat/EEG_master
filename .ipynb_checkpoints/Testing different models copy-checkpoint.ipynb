{
 "cells": [
  {
   "cell_type": "markdown",
   "id": "b7959d24",
   "metadata": {},
   "source": [
    "# BINÆR MODELL - REST VS IMAGERY"
   ]
  },
  {
   "cell_type": "code",
   "execution_count": 1,
   "id": "64166970",
   "metadata": {},
   "outputs": [
    {
     "name": "stdout",
     "output_type": "stream",
     "text": [
      "DataFrame shape: (2090809, 37)\n",
      "Antall EEG-kanaler: 32\n",
      "Klassefordeling:\n",
      " REST       1429770\n",
      "IMAGERY     661039\n",
      "Name: label, dtype: int64\n"
     ]
    }
   ],
   "source": [
    "# ----------------------------- Block 1: Last inn datasett, fjern unødvendige kanaler, binær-annotasjon -----------------------------\n",
    "import os\n",
    "import pandas as pd\n",
    "import numpy as np\n",
    "\n",
    "# For reproducerbarhet\n",
    "np.random.seed(42)\n",
    "\n",
    "# 1) Les inn alle CSV-filer\n",
    "csv_dir = './csv_output'\n",
    "csv_files = [os.path.join(csv_dir, f) for f in os.listdir(csv_dir) if f.endswith('.csv')]\n",
    "df = pd.concat([pd.read_csv(f) for f in csv_files], ignore_index=True)\n",
    "\n",
    "# 2) Standardiser annotation-tekst\n",
    "df['annotation'] = df['annotation'].str.upper().str.strip()\n",
    "\n",
    "# 3) Identifiser EEG-kanaler: ta alle kolonner unntatt metadata, fjern AUX og DIR\n",
    "metadata_cols = ['Person', 'Recording', 'time', 'annotation']\n",
    "all_channels  = [c for c in df.columns if c not in metadata_cols]\n",
    "eeg_channels  = [c for c in all_channels if ('AUX' not in c.upper()) and ('DIR' not in c.upper())]\n",
    "\n",
    "# 4) Filtrer bort uønskede kolonner, behold kun EEG-signaler + metadata\n",
    "df = df[metadata_cols + eeg_channels].copy()\n",
    "\n",
    "# 5) Binær-annotasjon: behold kun REST eller IMAGERY-varianter, lag label\n",
    "df = df[df['annotation'].str.contains('REST|IMAGERY', na=False)].reset_index(drop=True)\n",
    "df['label'] = np.where(df['annotation'].str.contains('IMAGERY'), 'IMAGERY', 'REST')\n",
    "\n",
    "# 6) Sjekk datasett og klassedistribusjon\n",
    "print(\"DataFrame shape:\", df.shape)\n",
    "print(\"Antall EEG-kanaler:\", len(eeg_channels))\n",
    "print(\"Klassefordeling:\\n\", df['label'].value_counts())\n"
   ]
  },
  {
   "cell_type": "code",
   "execution_count": 2,
   "id": "f404f428",
   "metadata": {},
   "outputs": [
    {
     "name": "stdout",
     "output_type": "stream",
     "text": [
      "Creating RawArray with float64 data, n_channels=32, n_times=2090809\n",
      "    Range : 0 ... 2090808 =      0.000 ...  4181.616 secs\n",
      "Ready.\n",
      "Filtering raw data in 1 contiguous segment\n",
      "Setting up band-stop filter from 49 - 51 Hz\n",
      "\n",
      "FIR filter parameters\n",
      "---------------------\n",
      "Designing a one-pass, zero-phase, non-causal bandstop filter:\n",
      "- Windowed time-domain design (firwin) method\n",
      "- Hamming window with 0.0194 passband ripple and 53 dB stopband attenuation\n",
      "- Lower passband edge: 49.38\n",
      "- Lower transition bandwidth: 0.50 Hz (-6 dB cutoff frequency: 49.12 Hz)\n",
      "- Upper passband edge: 50.62 Hz\n",
      "- Upper transition bandwidth: 0.50 Hz (-6 dB cutoff frequency: 50.88 Hz)\n",
      "- Filter length: 3301 samples (6.602 s)\n",
      "\n"
     ]
    },
    {
     "name": "stderr",
     "output_type": "stream",
     "text": [
      "[Parallel(n_jobs=1)]: Done  17 tasks      | elapsed:    0.8s\n"
     ]
    },
    {
     "name": "stdout",
     "output_type": "stream",
     "text": [
      "Filtering raw data in 1 contiguous segment\n",
      "Setting up band-pass filter from 1 - 40 Hz\n",
      "\n",
      "FIR filter parameters\n",
      "---------------------\n",
      "Designing a one-pass, zero-phase, non-causal bandpass filter:\n",
      "- Windowed time-domain design (firwin) method\n",
      "- Hamming window with 0.0194 passband ripple and 53 dB stopband attenuation\n",
      "- Lower passband edge: 1.00\n",
      "- Lower transition bandwidth: 1.00 Hz (-6 dB cutoff frequency: 0.50 Hz)\n",
      "- Upper passband edge: 40.00 Hz\n",
      "- Upper transition bandwidth: 10.00 Hz (-6 dB cutoff frequency: 45.00 Hz)\n",
      "- Filter length: 1651 samples (3.302 s)\n",
      "\n"
     ]
    },
    {
     "name": "stderr",
     "output_type": "stream",
     "text": [
      "[Parallel(n_jobs=1)]: Done  17 tasks      | elapsed:    0.7s\n"
     ]
    },
    {
     "name": "stdout",
     "output_type": "stream",
     "text": [
      "<Info | 7 non-empty values\n",
      " bads: []\n",
      " ch_names: Fp1, Fz, F3, F7, FT9, FC5, FC1, C3, T7, TP9, CP5, CP1, Pz, P3, ...\n",
      " chs: 32 EEG\n",
      " custom_ref_applied: False\n",
      " highpass: 1.0 Hz\n",
      " lowpass: 40.0 Hz\n",
      " meas_date: unspecified\n",
      " nchan: 32\n",
      " projs: []\n",
      " sfreq: 500.0 Hz\n",
      ">\n",
      "First values (filtered):\n",
      "            Fp1            Fz            F3            F7           FT9\n",
      "0  2.007994e-11 -5.471179e-13  4.220624e-12 -4.192202e-12  1.037392e-11\n",
      "1 -2.200908e+01  1.963600e+01  3.155345e+00 -4.357986e+00 -1.367513e+01\n",
      "2 -3.754336e+01  3.940387e+01  9.854597e+00 -5.567626e+00 -2.193492e+01\n",
      "3 -4.195389e+01  5.896188e+01  2.258597e+01 -1.556448e+00 -2.099057e+01\n",
      "4 -3.372132e+01  7.722065e+01  4.200556e+01  7.879740e+00 -9.819143e+00\n"
     ]
    }
   ],
   "source": [
    "# ----------------------------- Block 2: Notch- og båndpass-filtrering -----------------------------\n",
    "import mne\n",
    "import pandas as pd\n",
    "\n",
    "# 1) Opprett MNE RawArray fra DataFrame\n",
    "sfreq = 500.0  # samplingfrekvens\n",
    "info = mne.create_info(ch_names=eeg_channels, sfreq=sfreq, ch_types='eeg')\n",
    "raw = mne.io.RawArray(df[eeg_channels].T.values, info)\n",
    "\n",
    "# 2) Notch-filter ved 50 Hz for å fjerne strømnettstøy\n",
    "#    - FIR-notching med smal båndbredde rundt 50 Hz\n",
    "raw.notch_filter(freqs=50., fir_design='firwin', verbose=True)\n",
    "\n",
    "# 3) Båndpass 1–40 Hz for å fange de viktigste EEG-båndene (drift ↔ gamma)\n",
    "#    - 1 Hz high-pass for å fjerne DC-drift\n",
    "#    - 40 Hz low-pass for å undertrykke høyfrekvent støy\n",
    "raw.filter(l_freq=1.0, h_freq=40.0, fir_design='firwin', verbose=True)\n",
    "\n",
    "# 4) Les det filtrerte signalet tilbake til en DataFrame\n",
    "df_filtered = pd.DataFrame(raw.get_data().T, columns=eeg_channels)\n",
    "\n",
    "# 5) Sjekk at filtreringen er brukt\n",
    "print(raw.info)                 # skal vise 32 EEG-kanaler @ 500 Hz\n",
    "print(\"First values (filtered):\")\n",
    "print(df_filtered.iloc[:5, :5])  # vis et lite utdrag av de filtrerte dataene\n"
   ]
  },
  {
   "cell_type": "code",
   "execution_count": 3,
   "id": "c66f019a",
   "metadata": {},
   "outputs": [],
   "source": [
    "# ----------------------------- Block 3 -----------------------------\n",
    "\n"
   ]
  },
  {
   "cell_type": "code",
   "execution_count": 4,
   "id": "a99a2deb",
   "metadata": {},
   "outputs": [
    {
     "name": "stdout",
     "output_type": "stream",
     "text": [
      "Epochs shape: (1045, 32, 2000)\n",
      "Label-fordeling:\n",
      " REST       714\n",
      "IMAGERY    331\n",
      "dtype: int64\n",
      "Antall unike grupper (Person__Recording): 16\n"
     ]
    }
   ],
   "source": [
    "# ----------------------------- Block 4 (oppdatert): Epoching med gruppelabels -----------------------------\n",
    "import numpy as np\n",
    "import pandas as pd\n",
    "\n",
    "data_clean = raw.get_data().T    \n",
    "persons    = df['Person'].values       \n",
    "recs       = df['Recording'].values    \n",
    "labels_all = df['label'].values        \n",
    "\n",
    "sfreq       = raw.info['sfreq']\n",
    "epoch_samps = int(4 * sfreq)\n",
    "step        = epoch_samps\n",
    "\n",
    "# 3) Lag epoker, majoritets-label og gruppelabel per epoke\n",
    "X_epochs, y_epochs, groups = [], [], []\n",
    "for start in range(0, len(data_clean) - epoch_samps + 1, step):\n",
    "    end = start + epoch_samps\n",
    "    seg = data_clean[start:end]    \n",
    "    baseline = seg[:int(0.5*sfreq), :].mean(axis=0, keepdims=True)\n",
    "    seg_bc = seg - baseline\n",
    "    X_epochs.append(seg_bc.T)\n",
    "    lab = pd.Series(labels_all[start:end]).mode()[0]\n",
    "    y_epochs.append(lab)\n",
    "    groups.append(f\"{persons[start]}__{recs[start]}\")\n",
    "\n",
    "X_epochs = np.array(X_epochs)    # (n_epochs, n_channels, n_times)\n",
    "y_epochs = np.array(y_epochs)\n",
    "groups    = np.array(groups)\n",
    "\n",
    "# 4) Sjekk\n",
    "import pandas as pd\n",
    "print(\"Epochs shape:\", X_epochs.shape)\n",
    "print(\"Label-fordeling:\\n\", pd.Series(y_epochs).value_counts())\n",
    "print(\"Antall unike grupper (Person__Recording):\", len(np.unique(groups)))\n"
   ]
  },
  {
   "cell_type": "code",
   "execution_count": 5,
   "id": "2d1b1aef",
   "metadata": {},
   "outputs": [
    {
     "name": "stdout",
     "output_type": "stream",
     "text": [
      "Ingen gruppelekkasje mellom train/val/test ✔️\n",
      "Train shape: (781, 32, 2000)  Val shape: (106, 32, 2000)  Test shape: (158, 32, 2000)\n",
      "Train distrib:\n",
      " REST       539\n",
      "IMAGERY    242\n",
      "dtype: int64\n",
      "Val distrib:\n",
      " REST       71\n",
      "IMAGERY    35\n",
      "dtype: int64\n",
      "Test distrib:\n",
      " REST       104\n",
      "IMAGERY     54\n",
      "dtype: int64\n"
     ]
    }
   ],
   "source": [
    "# ----------------------------- Block 5 (oppdatert): Group-based split i train/val/test -----------------------------\n",
    "from sklearn.model_selection import GroupShuffleSplit\n",
    "import numpy as np\n",
    "import pandas as pd\n",
    "\n",
    "# 1) Først: train vs (val+test)\n",
    "gss1 = GroupShuffleSplit(n_splits=1, test_size=0.30, random_state=42)\n",
    "train_idx, vt_idx = next(gss1.split(X_epochs, y_epochs, groups))\n",
    "\n",
    "# 2) Deretter: val vs test på det resterende\n",
    "gss2 = GroupShuffleSplit(n_splits=1, test_size=0.50, random_state=42)\n",
    "val_idx_rel, test_idx_rel = next(gss2.split(X_epochs[vt_idx], y_epochs[vt_idx], groups[vt_idx]))\n",
    "val_idx  = vt_idx[val_idx_rel]\n",
    "test_idx = vt_idx[test_idx_rel]\n",
    "\n",
    "# 3) Del opp data\n",
    "X_train, y_train = X_epochs[train_idx],    y_epochs[train_idx]\n",
    "X_val,   y_val   = X_epochs[val_idx],      y_epochs[val_idx]\n",
    "X_test,  y_test  = X_epochs[test_idx],     y_epochs[test_idx]\n",
    "\n",
    "# 4) Verifiser at ingen grupper overlapper\n",
    "train_groups = set(groups[train_idx])\n",
    "val_groups   = set(groups[val_idx])\n",
    "test_groups  = set(groups[test_idx])\n",
    "assert train_groups.isdisjoint(val_groups)\n",
    "assert train_groups.isdisjoint(test_groups)\n",
    "assert val_groups.isdisjoint(test_groups)\n",
    "print(\"Ingen gruppelekkasje mellom train/val/test ✔️\")\n",
    "\n",
    "# 5) Sjekk former og fordeling\n",
    "print(\"Train shape:\", X_train.shape, \" Val shape:\", X_val.shape, \" Test shape:\", X_test.shape)\n",
    "print(\"Train distrib:\\n\", pd.Series(y_train).value_counts())\n",
    "print(\"Val distrib:\\n\",   pd.Series(y_val).value_counts())\n",
    "print(\"Test distrib:\\n\",  pd.Series(y_test).value_counts())\n"
   ]
  },
  {
   "cell_type": "code",
   "execution_count": 30,
   "id": "78522a1e",
   "metadata": {},
   "outputs": [
    {
     "name": "stdout",
     "output_type": "stream",
     "text": [
      "Etter balansering:\n",
      "REST       810\n",
      "IMAGERY    810\n",
      "dtype: int64\n"
     ]
    }
   ],
   "source": [
    "# ----------------------------- Block 5 (for deploy): 100% balansert oversampling -----------------------------\n",
    "from sklearn.utils import resample\n",
    "import pandas as pd\n",
    "import numpy as np\n",
    "\n",
    "# 1) Kombiner alle epoker til DataFrame\n",
    "df_full    = pd.DataFrame({'X': list(X_epochs), 'y': y_epochs})\n",
    "\n",
    "# 2) Split REST vs IMAGERY\n",
    "rest_df    = df_full[df_full['y'] == 'REST']\n",
    "imagery_df = df_full[df_full['y'] == 'IMAGERY']\n",
    "\n",
    "# 3) Finn maks-antall og oversample begge klasser til dette\n",
    "n_max       = max(len(rest_df), len(imagery_df))\n",
    "rest_bal    = resample(rest_df,    replace=True, n_samples=n_max, random_state=42)\n",
    "imagery_bal = resample(imagery_df, replace=True, n_samples=n_max, random_state=42)\n",
    "\n",
    "# 4) Slå sammen, shuffle, og hent arrays\n",
    "df_bal     = pd.concat([rest_bal, imagery_bal]).sample(frac=1, random_state=42)\n",
    "X_full_bal = np.stack(df_bal['X'].values)\n",
    "y_full_bal = df_bal['y'].values\n",
    "\n",
    "# 5) Sjekk at det er 50/50\n",
    "print(\"Etter balansering:\")\n",
    "print(pd.Series(y_full_bal).value_counts())\n"
   ]
  },
  {
   "cell_type": "code",
   "execution_count": 31,
   "id": "bf93a95d",
   "metadata": {},
   "outputs": [
    {
     "name": "stdout",
     "output_type": "stream",
     "text": [
      "\n",
      "Val balanced accuracy: 0.836\n",
      "              precision    recall  f1-score   support\n",
      "\n",
      "        REST       0.63      0.91      0.74        80\n",
      "     IMAGERY       0.95      0.76      0.84       179\n",
      "\n",
      "    accuracy                           0.81       259\n",
      "   macro avg       0.79      0.84      0.79       259\n",
      "weighted avg       0.85      0.81      0.81       259\n",
      "\n",
      "Val confusion matrix:\n",
      " [[136  43]\n",
      " [  7  73]]\n",
      "\n",
      "Test balanced accuracy: 0.807\n",
      "              precision    recall  f1-score   support\n",
      "\n",
      "        REST       0.66      0.86      0.74        56\n",
      "     IMAGERY       0.91      0.76      0.83       103\n",
      "\n",
      "    accuracy                           0.79       159\n",
      "   macro avg       0.78      0.81      0.78       159\n",
      "weighted avg       0.82      0.79      0.80       159\n",
      "\n",
      "Test confusion matrix:\n",
      " [[78 25]\n",
      " [ 8 48]]\n"
     ]
    }
   ],
   "source": [
    "# ----------------------------- Block 6–7 (OPPDATERT): Definer, tren og evaluer pipeline -----------------------------\n",
    "import numpy as np\n",
    "from pyriemann.estimation      import Covariances\n",
    "from pyriemann.tangentspace    import TangentSpace\n",
    "from sklearn.pipeline          import Pipeline\n",
    "from sklearn.preprocessing     import StandardScaler\n",
    "from sklearn.feature_selection import SelectKBest, mutual_info_classif\n",
    "from sklearn.svm               import SVC\n",
    "from sklearn.metrics           import balanced_accuracy_score, classification_report, confusion_matrix\n",
    "\n",
    "from model_utils import CovTransport\n",
    "\n",
    "pipe = Pipeline([\n",
    "    ('cov',    Covariances(estimator='oas')),\n",
    "    ('align',  CovTransport()),\n",
    "    ('ts',     TangentSpace(metric='riemann')),\n",
    "    ('scaler', StandardScaler()),\n",
    "    ('fs',     SelectKBest(mutual_info_classif, k=50)),\n",
    "    ('svm',    SVC(\n",
    "                   kernel='rbf',\n",
    "                   C=1.0,\n",
    "                   gamma='scale',\n",
    "                   class_weight=None,\n",
    "                   probability=True,    # <--- HER\n",
    "                   random_state=42))\n",
    "])\n",
    "\n",
    "# Tren på hele, balanserte datasettet\n",
    "pipe.fit(X_full_bal, y_full_bal)\n",
    "\n",
    "# 3) Evaluer på Val & Test\n",
    "for navn, Xf, yf in [('Val', X_val, y_val), ('Test', X_test, y_test)]:\n",
    "    yp      = pipe.predict(Xf)\n",
    "    bal_acc = balanced_accuracy_score(yf, yp)\n",
    "    print(f\"\\n{navn} balanced accuracy: {bal_acc:.3f}\")\n",
    "    print(classification_report(yf, yp, target_names=['REST','IMAGERY']))\n",
    "    print(f\"{navn} confusion matrix:\\n\", confusion_matrix(yf, yp, labels=['REST','IMAGERY']))\n"
   ]
  },
  {
   "cell_type": "code",
   "execution_count": 32,
   "id": "94e9fab9",
   "metadata": {},
   "outputs": [
    {
     "name": "stdout",
     "output_type": "stream",
     "text": [
      "Test Classification Report:\n",
      "              precision    recall  f1-score   support\n",
      "\n",
      "        REST       0.91      0.76      0.83       103\n",
      "     IMAGERY       0.66      0.86      0.74        56\n",
      "\n",
      "    accuracy                           0.79       159\n",
      "   macro avg       0.78      0.81      0.78       159\n",
      "weighted avg       0.82      0.79      0.80       159\n",
      "\n"
     ]
    },
    {
     "data": {
      "image/png": "[encoded data removed]",
      "text/plain": [
       "<Figure size 500x400 with 2 Axes>"
      ]
     },
     "metadata": {},
     "output_type": "display_data"
    }
   ],
   "source": [
    "# ----------------------------- Block 8 (fiks): Plot Confusion Matrix for Test-set -----------------------------\n",
    "import matplotlib.pyplot as plt\n",
    "from sklearn.metrics import classification_report, confusion_matrix\n",
    "\n",
    "# 0) Hvis du bruker end-to-end‐pipeline:\n",
    "#    y_test_pred = pipe.predict(X_test)\n",
    "# Eller hvis du bruker forhånds-ekstraherte features:\n",
    "#    y_test_pred = pipe.predict(X_test_feat)\n",
    "y_test_pred = pipe.predict(X_test)  \n",
    "\n",
    "labels = ['REST', 'IMAGERY']\n",
    "\n",
    "# 1) Skriv ut klassifikasjonsrapport med riktig etikett‐rekkefølge\n",
    "print(\"Test Classification Report:\")\n",
    "print(classification_report(\n",
    "    y_test,\n",
    "    y_test_pred,\n",
    "    labels=labels,\n",
    "    target_names=labels,\n",
    "    zero_division=0\n",
    "))\n",
    "\n",
    "# 2) Beregn og plott forvirringsmatrisen med samme etiketter\n",
    "cm = confusion_matrix(y_test, y_test_pred, labels=labels)\n",
    "\n",
    "fig, ax = plt.subplots(figsize=(5, 4))\n",
    "im = ax.imshow(cm, interpolation='nearest', cmap='Blues')\n",
    "ax.figure.colorbar(im, ax=ax)\n",
    "ax.set_xticks([0, 1])\n",
    "ax.set_xticklabels(labels)\n",
    "ax.set_yticks([0, 1])\n",
    "ax.set_yticklabels(labels)\n",
    "ax.set_xlabel('Predicted label')\n",
    "ax.set_ylabel('True label')\n",
    "ax.set_title('Confusion Matrix (Test Set)')\n",
    "\n",
    "# Annoter hver rute med tall\n",
    "thresh = cm.max() / 2.0\n",
    "for i in range(cm.shape[0]):\n",
    "    for j in range(cm.shape[1]):\n",
    "        ax.text(j, i, cm[i, j],\n",
    "                ha='center', va='center',\n",
    "                color='white' if cm[i, j] > thresh else 'black')\n",
    "\n",
    "plt.tight_layout()\n",
    "plt.show()\n"
   ]
  },
  {
   "cell_type": "code",
   "execution_count": null,
   "id": "67fc21dd",
   "metadata": {},
   "outputs": [],
   "source": []
  },
  {
   "cell_type": "code",
   "execution_count": null,
   "id": "d4da8ebc",
   "metadata": {},
   "outputs": [],
   "source": []
  },
  {
   "cell_type": "markdown",
   "id": "d1655785",
   "metadata": {},
   "source": [
    "## BINÆR MODELL - TESTING ON UNSEEN NEW DATA"
   ]
  },
  {
   "cell_type": "code",
   "execution_count": 33,
   "id": "45d9aeed",
   "metadata": {},
   "outputs": [
    {
     "name": "stdout",
     "output_type": "stream",
     "text": [
      "Saved CSV: ./csv_output\\Person5Recording4.csv\n"
     ]
    }
   ],
   "source": [
    "# ----------------------------- Block A: Convert Person5 Recording4 to CSV -----------------------------\n",
    "import os\n",
    "import mne\n",
    "import pandas as pd\n",
    "\n",
    "mne.set_log_level('ERROR')\n",
    "root       = './data/selfmade_dataset/Person5/Recording4'\n",
    "output_dir = './csv_output'\n",
    "os.makedirs(output_dir, exist_ok=True)\n",
    "\n",
    "vhdr     = next(f for f in os.listdir(root) if f.endswith('.vhdr'))\n",
    "basename = vhdr[:-5]\n",
    "vhdr_path = os.path.join(root, vhdr)\n",
    "\n",
    "# Fix DataFile/MarkerFile\n",
    "lines = open(vhdr_path, 'r', encoding='utf-8').read().splitlines()\n",
    "with open(vhdr_path, 'w', encoding='utf-8') as f:\n",
    "    for L in lines:\n",
    "        if L.startswith('DataFile='):\n",
    "            f.write(f'DataFile={basename}.eeg\\n')\n",
    "        elif L.startswith('MarkerFile='):\n",
    "            f.write(f'MarkerFile={basename}.vmrk\\n')\n",
    "        else:\n",
    "            f.write(L + '\\n')\n",
    "\n",
    "# Read raw, to DataFrame, save CSV\n",
    "raw = mne.io.read_raw_brainvision(vhdr_path, preload=True,\n",
    "                                  eog=[], misc=['Aux1','Aux2','x_dir','y_dir','z_dir'])\n",
    "df  = raw.to_data_frame()  # inkl. 'time'\n",
    "df['annotation'] = ''\n",
    "for onset,dur,desc in zip(raw.annotations.onset,\n",
    "                          raw.annotations.duration,\n",
    "                          raw.annotations.description):\n",
    "    mask = (df['time'] >= onset) & (df['time'] < onset + dur)\n",
    "    df.loc[mask, 'annotation'] = desc\n",
    "\n",
    "out_csv = os.path.join(output_dir, f'{basename}.csv')\n",
    "df.to_csv(out_csv, index=False)\n",
    "print(f\"Saved CSV: {out_csv}\")\n"
   ]
  },
  {
   "cell_type": "code",
   "execution_count": 34,
   "id": "c480d4ee",
   "metadata": {},
   "outputs": [
    {
     "name": "stderr",
     "output_type": "stream",
     "text": [
      "C:\\Users\\aksel\\AppData\\Local\\Temp\\ipykernel_56040\\3880822024.py:7: DtypeWarning: Columns (36) have mixed types. Specify dtype option on import or set low_memory=False.\n",
      "  df = pd.read_csv(csv_file)\n"
     ]
    },
    {
     "name": "stdout",
     "output_type": "stream",
     "text": [
      "Cleaned annotations, saved: ./csv_output/Person5Recording4.csv\n"
     ]
    }
   ],
   "source": [
    "# ----------------------------- Block B: Clean & extend annotations, add Person/Recording -----------------------------\n",
    "import re\n",
    "import pandas as pd\n",
    "import numpy as np\n",
    "\n",
    "csv_file = './csv_output/Person5Recording4.csv'\n",
    "df = pd.read_csv(csv_file)\n",
    "\n",
    "# Forward-fill annotations, strip prefixes\n",
    "df['annotation'] = df['annotation'].replace('', np.nan)\n",
    "df['annotation'] = df['annotation'].str.replace(r'^Stimulus/', '', regex=True)\n",
    "df['annotation'] = df['annotation'].ffill().fillna('')\n",
    "\n",
    "# Fjern uønsket\n",
    "for unwanted in ['New Segment/', 'START', 'END']:\n",
    "    df = df[df['annotation'] != unwanted]\n",
    "df['annotation'] = df['annotation'].replace('New Segment/LostSamples: 1', 'REST')\n",
    "\n",
    "# Legg på Person/Recording\n",
    "m = re.match(r'Person(\\d+)Recording(\\d+)', 'Person5Recording4')\n",
    "person, rec = m.groups()\n",
    "df.insert(0, 'Recording', int(rec))\n",
    "df.insert(0, 'Person',    int(person))\n",
    "\n",
    "df.to_csv(csv_file, index=False)\n",
    "print(f\"Cleaned annotations, saved: {csv_file}\")\n"
   ]
  },
  {
   "cell_type": "code",
   "execution_count": 35,
   "id": "2241719b",
   "metadata": {},
   "outputs": [
    {
     "name": "stdout",
     "output_type": "stream",
     "text": [
      "New epochs: (153, 32, 2000)\n",
      "New label counts:\n",
      " REST       105\n",
      "IMAGERY     48\n",
      "dtype: int64\n"
     ]
    }
   ],
   "source": [
    "# ----------------------------- Block C: Preprocess & epoch new data -----------------------------\n",
    "import mne\n",
    "import numpy as np\n",
    "import pandas as pd\n",
    "\n",
    "# Load\n",
    "df_new = pd.read_csv(csv_file)\n",
    "\n",
    "# Hold kun REST/IMAGERY og lag label\n",
    "df_new['annotation'] = df_new['annotation'].str.upper().str.strip()\n",
    "df_new = df_new[df_new['annotation'].str.contains('REST|IMAGERY', na=False)].reset_index(drop=True)\n",
    "df_new['label']  = np.where(df_new['annotation'].str.contains('IMAGERY'), 'IMAGERY', 'REST')\n",
    "\n",
    "# EEG-kanaler hardkodet som i trening\n",
    "eeg_ch = [\n",
    "    'Fp1','Fz','F3','F7','FT9','FC5','FC1','C3','T7','TP9','CP5','CP1',\n",
    "    'Pz','P3','P7','O1','Oz','O2','P4','P8','TP10','CP6','CP2','Cz',\n",
    "    'C4','T8','FT10','FC6','FC2','F4','F8','Fp2'\n",
    "]\n",
    "\n",
    "# Drop non-numeric\n",
    "for ch in eeg_ch:\n",
    "    df_new[ch] = pd.to_numeric(df_new[ch], errors='coerce')\n",
    "df_new.dropna(subset=eeg_ch, inplace=True)\n",
    "df_new.reset_index(drop=True, inplace=True)\n",
    "\n",
    "# RawArray + filter\n",
    "sfreq = 500.0\n",
    "info  = mne.create_info(ch_names=eeg_ch, sfreq=sfreq, ch_types='eeg')\n",
    "raw_new = mne.io.RawArray(df_new[eeg_ch].T.values, info)\n",
    "raw_new.notch_filter(50.,  fir_design='firwin', verbose=False)\n",
    "raw_new.filter(1., 40.,  fir_design='firwin', verbose=False)\n",
    "\n",
    "# Epoch 4 s non-overlap + baseline\n",
    "data        = raw_new.get_data().T\n",
    "labels      = df_new['label'].values\n",
    "epoch_samps = int(4 * sfreq)\n",
    "\n",
    "X_new, y_new = [], []\n",
    "for st in range(0, len(data) - epoch_samps + 1, epoch_samps):\n",
    "    seg      = data[st:st+epoch_samps]\n",
    "    baseline = seg[:int(0.5*sfreq)].mean(0, keepdims=True)\n",
    "    seg_bc   = seg - baseline\n",
    "    X_new.append(seg_bc.T)\n",
    "    y_new.append(pd.Series(labels[st:st+epoch_samps]).mode()[0])\n",
    "\n",
    "X_new = np.array(X_new)\n",
    "y_new = np.array(y_new)\n",
    "print(\"New epochs:\", X_new.shape)\n",
    "print(\"New label counts:\\n\", pd.Series(y_new).value_counts())\n"
   ]
  },
  {
   "cell_type": "code",
   "execution_count": 36,
   "id": "907a050c",
   "metadata": {
    "scrolled": false
   },
   "outputs": [
    {
     "name": "stdout",
     "output_type": "stream",
     "text": [
      "\n",
      "Holdout Person5 accuracy: 0.817\n",
      "\n",
      "              precision    recall  f1-score   support\n",
      "\n",
      "        REST       0.94      0.78      0.85       105\n",
      "     IMAGERY       0.65      0.90      0.75        48\n",
      "\n",
      "    accuracy                           0.82       153\n",
      "   macro avg       0.80      0.84      0.80       153\n",
      "weighted avg       0.85      0.82      0.82       153\n",
      "\n"
     ]
    },
    {
     "data": {
      "image/png": "[encoded data removed]",
      "text/plain": [
       "<Figure size 400x400 with 1 Axes>"
      ]
     },
     "metadata": {},
     "output_type": "display_data"
    }
   ],
   "source": [
    "# ----------------------------- Block D: Evaluate on unseen Person5 -----------------------------\n",
    "from sklearn.metrics import accuracy_score, classification_report, confusion_matrix\n",
    "import matplotlib.pyplot as plt\n",
    "\n",
    "# 1) Predikér med pipen\n",
    "y_new_pred = pipe.predict(X_new)\n",
    "\n",
    "# 2) Metrics\n",
    "acc_new = accuracy_score(y_new, y_new_pred)\n",
    "print(f\"\\nHoldout Person5 accuracy: {acc_new:.3f}\\n\")\n",
    "print(classification_report(\n",
    "    y_new, y_new_pred,\n",
    "    labels=['REST','IMAGERY'],\n",
    "    target_names=['REST','IMAGERY'],\n",
    "    zero_division=0\n",
    "))\n",
    "\n",
    "# 3) Plot konfusjonsmatrise\n",
    "cm = confusion_matrix(y_new, y_new_pred, labels=['REST','IMAGERY'])\n",
    "fig, ax = plt.subplots(figsize=(4,4))\n",
    "im = ax.imshow(cm, cmap='Blues')\n",
    "thresh = cm.max() / 2.0\n",
    "for i in range(cm.shape[0]):\n",
    "    for j in range(cm.shape[1]):\n",
    "        ax.text(j, i, cm[i,j],\n",
    "                ha='center', va='center',\n",
    "                color='white' if cm[i,j] > thresh else 'black')\n",
    "ax.set_xticks([0,1]); ax.set_xticklabels(['REST','IMAGERY'])\n",
    "ax.set_yticks([0,1]); ax.set_yticklabels(['REST','IMAGERY'])\n",
    "ax.set_xlabel('Predikert'); ax.set_ylabel('Sann')\n",
    "ax.set_title('Confusion Matrix: Person5 Recording4')\n",
    "plt.tight_layout()\n",
    "plt.show()\n"
   ]
  },
  {
   "cell_type": "code",
   "execution_count": null,
   "id": "0a8aeb4c",
   "metadata": {},
   "outputs": [],
   "source": []
  },
  {
   "cell_type": "code",
   "execution_count": null,
   "id": "e33790ab",
   "metadata": {},
   "outputs": [],
   "source": []
  },
  {
   "cell_type": "markdown",
   "id": "e8991bcc",
   "metadata": {},
   "source": [
    "# LARGE MODELL"
   ]
  },
  {
   "cell_type": "code",
   "execution_count": null,
   "id": "1b467fc3",
   "metadata": {},
   "outputs": [],
   "source": [
    "# ----------------------------- Block 5 (for deploy): 1–1 balansert oversampling -----------------------------\n",
    "from sklearn.utils import resample\n",
    "import pandas as pd\n",
    "import numpy as np\n",
    "\n",
    "# 1) Kombiner alle epoker til én DataFrame\n",
    "df_full    = pd.DataFrame({'X': list(X_epochs), 'y': y_epochs})\n",
    "\n",
    "# 2) Skill på REST vs IMAGERY\n",
    "rest_df    = df_full[df_full['y'] == 'REST']\n",
    "imagery_df = df_full[df_full['y'] == 'IMAGERY']\n",
    "\n",
    "# 3) Finn størrelsen på den største klassen\n",
    "n_max = max(len(rest_df), len(imagery_df))\n",
    "\n",
    "# 4) Oversample begge klasser til n_max\n",
    "rest_bal    = resample(rest_df,    replace=True, n_samples=n_max, random_state=42)\n",
    "imagery_bal = resample(imagery_df, replace=True, n_samples=n_max, random_state=42)\n",
    "\n",
    "# 5) Slå sammen, shuffle, og hent arrays\n",
    "df_bal      = pd.concat([rest_bal, imagery_bal]).sample(frac=1, random_state=42)\n",
    "X_full_bal  = np.stack(df_bal['X'].values)  # shape (2 * n_max, n_ch, n_times)\n",
    "y_full_bal  = df_bal['y'].values\n",
    "\n",
    "# 6) Sjekk at det er 50/50\n",
    "print(\"Etter 1:1 balansering:\")\n",
    "print(pd.Series(y_full_bal).value_counts())\n",
    "\n",
    "# 7) Tren modellen på hele, nå balanserte datasettet\n",
    "pipe.fit(X_full_bal, y_full_bal)\n"
   ]
  },
  {
   "cell_type": "code",
   "execution_count": null,
   "id": "ae2bab65",
   "metadata": {},
   "outputs": [],
   "source": [
    "from joblib import dump\n",
    "import json, os\n",
    "import numpy as np\n",
    "\n",
    "ART_DIR = './saved_artifacts'\n",
    "os.makedirs(ART_DIR, exist_ok=True)\n",
    "\n",
    "# 1) Lagre den oppdaterte pipeline (med probability=True)\n",
    "dump(pipe, os.path.join(ART_DIR, 'lda_riemann_pipeline.joblib'))\n",
    "\n",
    "# 2) Lagre kanallisten\n",
    "with open(os.path.join(ART_DIR, 'eeg_channels.json'), 'w') as f:\n",
    "    json.dump(eeg_channels, f)\n",
    "\n",
    "# 3) Lagre preproc‐parametre (vindustørrelse + step)\n",
    "meta = {\n",
    "    \"sfreq\":     int(sfreq),            # 500\n",
    "    \"window_len\": int(4 * sfreq),       # 2000 prøver\n",
    "    \"step_len\":   int(4 * sfreq)        # 1000 prøver\n",
    "}\n",
    "with open(os.path.join(ART_DIR, 'preproc_meta.json'), 'w') as f:\n",
    "    json.dump(meta, f)\n",
    "\n",
    "# 4) Lagre klasser (i riktig rekkefølge)\n",
    "np.save(os.path.join(ART_DIR, 'label_classes.npy'), pipe.classes_)\n"
   ]
  },
  {
   "cell_type": "code",
   "execution_count": null,
   "id": "c71c751a",
   "metadata": {},
   "outputs": [],
   "source": []
  },
  {
   "cell_type": "code",
   "execution_count": null,
   "id": "2cf5f668",
   "metadata": {},
   "outputs": [],
   "source": []
  },
  {
   "cell_type": "code",
   "execution_count": null,
   "id": "e73383a3",
   "metadata": {},
   "outputs": [],
   "source": []
  },
  {
   "cell_type": "markdown",
   "id": "e114f07e",
   "metadata": {},
   "source": [
    "# MULTIKLASSE MODELL"
   ]
  },
  {
   "cell_type": "code",
   "execution_count": 1,
   "id": "1389d5d6",
   "metadata": {},
   "outputs": [
    {
     "name": "stdout",
     "output_type": "stream",
     "text": [
      "DataFrame shape: (3286359, 37)\n",
      "Antall EEG‐kanaler: 32\n",
      "Klassefordeling:\n",
      " REST       1644520\n",
      "MOVE        888750\n",
      "IMAGERY     753089\n",
      "Name: label, dtype: int64\n"
     ]
    }
   ],
   "source": [
    "# ----------------------------- Block 1: Last inn datasett, fjern unødvendige kanaler, tre‐klasses annotasjon -----------------------------\n",
    "import os\n",
    "import pandas as pd\n",
    "import numpy as np\n",
    "\n",
    "# For reproducerbarhet\n",
    "np.random.seed(42)\n",
    "\n",
    "# 1) Les inn alle CSV-filer\n",
    "csv_dir   = './csv_output'\n",
    "csv_files = [os.path.join(csv_dir, f) for f in os.listdir(csv_dir) if f.endswith('.csv')]\n",
    "df        = pd.concat([pd.read_csv(f) for f in csv_files], ignore_index=True)\n",
    "\n",
    "# 2) Standardiser annotation‐tekst\n",
    "df['annotation'] = df['annotation'].str.upper().str.strip()\n",
    "\n",
    "# 3) Identifiser EEG‐kanaler\n",
    "metadata_cols = ['Person','Recording','time','annotation']\n",
    "all_ch        = [c for c in df.columns if c not in metadata_cols]\n",
    "eeg_channels  = [c for c in all_ch if ('AUX' not in c.upper()) and ('DIR' not in c.upper())]\n",
    "\n",
    "# 4) Behold kun EEG‐signal + metadata\n",
    "df = df[metadata_cols + eeg_channels].copy()\n",
    "\n",
    "# 5) Tre‐klasses annotasjon: REST, MOVE eller IMAGERY\n",
    "keep = df['annotation'].str.contains('REST|MOVE|IMAGERY', na=False)\n",
    "df   = df[keep].reset_index(drop=True)\n",
    "def map_label(text):\n",
    "    if 'MOVE'    in text: return 'MOVE'\n",
    "    if 'IMAGERY' in text: return 'IMAGERY'\n",
    "    return 'REST'\n",
    "df['label'] = df['annotation'].apply(map_label)\n",
    "\n",
    "# 6) Sjekk\n",
    "print(\"DataFrame shape:\", df.shape)\n",
    "print(\"Antall EEG‐kanaler:\", len(eeg_channels))\n",
    "print(\"Klassefordeling:\\n\", df['label'].value_counts())\n"
   ]
  },
  {
   "cell_type": "code",
   "execution_count": 2,
   "id": "85c415d9",
   "metadata": {},
   "outputs": [
    {
     "name": "stdout",
     "output_type": "stream",
     "text": [
      "Creating RawArray with float64 data, n_channels=32, n_times=3286359\n",
      "    Range : 0 ... 3286358 =      0.000 ...  6572.716 secs\n",
      "Ready.\n",
      "Filtering raw data in 1 contiguous segment\n",
      "Setting up band-stop filter from 49 - 51 Hz\n",
      "\n",
      "FIR filter parameters\n",
      "---------------------\n",
      "Designing a one-pass, zero-phase, non-causal bandstop filter:\n",
      "- Windowed time-domain design (firwin) method\n",
      "- Hamming window with 0.0194 passband ripple and 53 dB stopband attenuation\n",
      "- Lower passband edge: 49.38\n",
      "- Lower transition bandwidth: 0.50 Hz (-6 dB cutoff frequency: 49.12 Hz)\n",
      "- Upper passband edge: 50.62 Hz\n",
      "- Upper transition bandwidth: 0.50 Hz (-6 dB cutoff frequency: 50.88 Hz)\n",
      "- Filter length: 3301 samples (6.602 s)\n",
      "\n"
     ]
    },
    {
     "name": "stderr",
     "output_type": "stream",
     "text": [
      "[Parallel(n_jobs=1)]: Done  17 tasks      | elapsed:    1.3s\n"
     ]
    },
    {
     "name": "stdout",
     "output_type": "stream",
     "text": [
      "Filtering raw data in 1 contiguous segment\n",
      "Setting up band-pass filter from 1 - 40 Hz\n",
      "\n",
      "FIR filter parameters\n",
      "---------------------\n",
      "Designing a one-pass, zero-phase, non-causal bandpass filter:\n",
      "- Windowed time-domain design (firwin) method\n",
      "- Hamming window with 0.0194 passband ripple and 53 dB stopband attenuation\n",
      "- Lower passband edge: 1.00\n",
      "- Lower transition bandwidth: 1.00 Hz (-6 dB cutoff frequency: 0.50 Hz)\n",
      "- Upper passband edge: 40.00 Hz\n",
      "- Upper transition bandwidth: 10.00 Hz (-6 dB cutoff frequency: 45.00 Hz)\n",
      "- Filter length: 1651 samples (3.302 s)\n",
      "\n"
     ]
    },
    {
     "name": "stderr",
     "output_type": "stream",
     "text": [
      "[Parallel(n_jobs=1)]: Done  17 tasks      | elapsed:    1.2s\n"
     ]
    },
    {
     "name": "stdout",
     "output_type": "stream",
     "text": [
      "<Info | 7 non-empty values\n",
      " bads: []\n",
      " ch_names: Fp1, Fz, F3, F7, FT9, FC5, FC1, C3, T7, TP9, CP5, CP1, Pz, P3, ...\n",
      " chs: 32 EEG\n",
      " custom_ref_applied: False\n",
      " highpass: 1.0 Hz\n",
      " lowpass: 40.0 Hz\n",
      " meas_date: unspecified\n",
      " nchan: 32\n",
      " projs: []\n",
      " sfreq: 500.0 Hz\n",
      ">\n",
      "First filtered values:\n",
      "             Fp1            Fz            F3            F7           FT9\n",
      "0 -1.944755e-11 -7.560175e-12 -7.034373e-13 -6.039613e-12  2.091838e-11\n",
      "1 -2.200908e+01  1.963600e+01  3.155345e+00 -4.357986e+00 -1.367513e+01\n",
      "2 -3.754336e+01  3.940387e+01  9.854597e+00 -5.567626e+00 -2.193492e+01\n",
      "3 -4.195389e+01  5.896188e+01  2.258597e+01 -1.556448e+00 -2.099057e+01\n",
      "4 -3.372132e+01  7.722065e+01  4.200556e+01  7.879740e+00 -9.819143e+00\n"
     ]
    }
   ],
   "source": [
    "import mne\n",
    "\n",
    "# 1) Opprett MNE RawArray fra DataFrame\n",
    "sfreq = 500.0  # samplingfrekvens\n",
    "info  = mne.create_info(ch_names=eeg_channels, sfreq=sfreq, ch_types='eeg')\n",
    "raw   = mne.io.RawArray(df[eeg_channels].T.values, info)\n",
    "\n",
    "# 2) Notch-filter ved 50 Hz\n",
    "raw.notch_filter(freqs=50., fir_design='firwin', verbose=True)\n",
    "\n",
    "# 3) Båndpass 1–40 Hz\n",
    "raw.filter(l_freq=1.0, h_freq=40.0, fir_design='firwin', verbose=True)\n",
    "\n",
    "# 4) Les filtrert signal tilbake til DataFrame\n",
    "df_filtered = pd.DataFrame(raw.get_data().T, columns=eeg_channels)\n",
    "\n",
    "# 5) Sjekk\n",
    "print(raw.info)\n",
    "print(\"First filtered values:\\n\", df_filtered.iloc[:5, :5])\n"
   ]
  },
  {
   "cell_type": "code",
   "execution_count": 3,
   "id": "ea56ea87",
   "metadata": {},
   "outputs": [
    {
     "name": "stdout",
     "output_type": "stream",
     "text": [
      "Epochs shape: (1643, 32, 2000)\n",
      "Label-fordeling:\n",
      " REST       818\n",
      "MOVE       445\n",
      "IMAGERY    380\n",
      "dtype: int64\n",
      "Antall unike grupper (Person__Recording): 17\n"
     ]
    }
   ],
   "source": [
    "import numpy as np\n",
    "import pandas as pd\n",
    "\n",
    "data_clean  = raw.get_data().T\n",
    "persons     = df['Person'].values\n",
    "recs        = df['Recording'].values\n",
    "labels_all  = df['label'].values\n",
    "\n",
    "sfreq       = raw.info['sfreq']\n",
    "epoch_samps = int(4 * sfreq)\n",
    "step        = epoch_samps\n",
    "\n",
    "X_epochs, y_epochs, groups = [], [], []\n",
    "for start in range(0, len(data_clean) - epoch_samps + 1, step):\n",
    "    seg      = data_clean[start:start+epoch_samps]\n",
    "    baseline = seg[:int(0.5*sfreq), :].mean(axis=0, keepdims=True)\n",
    "    seg_bc   = seg - baseline\n",
    "    X_epochs.append(seg_bc.T)\n",
    "    y_epochs.append(pd.Series(labels_all[start:start+epoch_samps]).mode()[0])\n",
    "    groups.append(f\"{persons[start]}__{recs[start]}\")\n",
    "\n",
    "X_epochs = np.array(X_epochs)\n",
    "y_epochs = np.array(y_epochs)\n",
    "groups    = np.array(groups)\n",
    "\n",
    "print(\"Epochs shape:\", X_epochs.shape)\n",
    "print(\"Label-fordeling:\\n\", pd.Series(y_epochs).value_counts())\n",
    "print(\"Antall unike grupper (Person__Recording):\", len(np.unique(groups)))\n"
   ]
  },
  {
   "cell_type": "code",
   "execution_count": 4,
   "id": "4056ea6b",
   "metadata": {},
   "outputs": [
    {
     "name": "stdout",
     "output_type": "stream",
     "text": [
      "Ingen gruppelekkasje ✔️\n",
      "Train: (1068, 32, 2000) REST       531\n",
      "MOVE       288\n",
      "IMAGERY    249\n",
      "dtype: int64\n",
      "Val:   (360, 32, 2000) REST       176\n",
      "MOVE       102\n",
      "IMAGERY     82\n",
      "dtype: int64\n",
      "Test:  (215, 32, 2000) REST       111\n",
      "MOVE        55\n",
      "IMAGERY     49\n",
      "dtype: int64\n"
     ]
    }
   ],
   "source": [
    "from sklearn.model_selection import GroupShuffleSplit\n",
    "import numpy as np\n",
    "import pandas as pd\n",
    "\n",
    "# 1) Train vs (val+test)\n",
    "gss1    = GroupShuffleSplit(n_splits=1, test_size=0.30, random_state=42)\n",
    "train_idx, vt_idx = next(gss1.split(X_epochs, y_epochs, groups))\n",
    "\n",
    "# 2) Val vs Test på det resterende\n",
    "gss2    = GroupShuffleSplit(n_splits=1, test_size=0.50, random_state=42)\n",
    "val_rel, test_rel = next(gss2.split(X_epochs[vt_idx], y_epochs[vt_idx], groups[vt_idx]))\n",
    "val_idx, test_idx = vt_idx[val_rel], vt_idx[test_rel]\n",
    "\n",
    "# 3) Del opp\n",
    "X_train, y_train = X_epochs[train_idx], y_epochs[train_idx]\n",
    "X_val,   y_val   = X_epochs[val_idx],   y_epochs[val_idx]\n",
    "X_test,  y_test  = X_epochs[test_idx],  y_epochs[test_idx]\n",
    "\n",
    "# 4) Sjekk gruppelekkasje\n",
    "assert set(groups[train_idx]).isdisjoint(groups[val_idx])\n",
    "assert set(groups[train_idx]).isdisjoint(groups[test_idx])\n",
    "assert set(groups[val_idx]).isdisjoint(groups[test_idx])\n",
    "print(\"Ingen gruppelekkasje ✔️\")\n",
    "\n",
    "# 5) Form og fordeling\n",
    "print(\"Train:\", X_train.shape, pd.Series(y_train).value_counts())\n",
    "print(\"Val:  \", X_val.shape,   pd.Series(y_val).value_counts())\n",
    "print(\"Test: \", X_test.shape,  pd.Series(y_test).value_counts())\n"
   ]
  },
  {
   "cell_type": "code",
   "execution_count": 5,
   "id": "2e3ea885",
   "metadata": {},
   "outputs": [
    {
     "name": "stdout",
     "output_type": "stream",
     "text": [
      "Etter 1:1:1 balansering:\n",
      " IMAGERY    818\n",
      "REST       818\n",
      "MOVE       818\n",
      "dtype: int64\n"
     ]
    }
   ],
   "source": [
    "# ----------------------------- Block: 1:1:1 balansert oversampling -----------------------------\n",
    "from sklearn.utils import resample\n",
    "import pandas as pd\n",
    "import numpy as np\n",
    "\n",
    "# 1) Lag DataFrame av alle epoker\n",
    "df_full = pd.DataFrame({'X': list(X_epochs), 'y': y_epochs})\n",
    "\n",
    "# 2) Del opp etter klasse\n",
    "dfs = {lab: df_full[df_full['y']==lab] for lab in ['REST','MOVE','IMAGERY']}\n",
    "\n",
    "# 3) Finn størrelsen på den største klassen\n",
    "n_max = max(len(dfs['REST']), len(dfs['MOVE']), len(dfs['IMAGERY']))\n",
    "\n",
    "# 4) Oversample alle klasser til n_max\n",
    "balanced = [\n",
    "    resample(dfs[lab], replace=True, n_samples=n_max, random_state=42)\n",
    "    for lab in dfs\n",
    "]\n",
    "df_bal     = pd.concat(balanced).sample(frac=1, random_state=42)\n",
    "X_full_bal = np.stack(df_bal['X'].values)   # shape (3 * n_max, n_ch, n_times)\n",
    "y_full_bal = df_bal['y'].values\n",
    "\n",
    "print(\"Etter 1:1:1 balansering:\\n\", pd.Series(y_full_bal).value_counts())\n"
   ]
  },
  {
   "cell_type": "code",
   "execution_count": 22,
   "id": "75222e9a",
   "metadata": {},
   "outputs": [
    {
     "name": "stdout",
     "output_type": "stream",
     "text": [
      "\n",
      "Val balanced accuracy: 0.672\n",
      "              precision    recall  f1-score   support\n",
      "\n",
      "        REST       0.81      0.46      0.59       176\n",
      "        MOVE       0.57      0.68      0.62       102\n",
      "     IMAGERY       0.51      0.88      0.65        82\n",
      "\n",
      "    accuracy                           0.62       360\n",
      "   macro avg       0.63      0.67      0.62       360\n",
      "weighted avg       0.68      0.62      0.61       360\n",
      "\n",
      "Val confusion matrix:\n",
      " [[81 44 51]\n",
      " [16 69 17]\n",
      " [ 3  7 72]]\n",
      "\n",
      "Test balanced accuracy: 0.682\n",
      "              precision    recall  f1-score   support\n",
      "\n",
      "        REST       0.84      0.50      0.63       111\n",
      "        MOVE       0.60      0.75      0.67        55\n",
      "     IMAGERY       0.49      0.80      0.60        49\n",
      "\n",
      "    accuracy                           0.63       215\n",
      "   macro avg       0.64      0.68      0.63       215\n",
      "weighted avg       0.70      0.63      0.63       215\n",
      "\n",
      "Test confusion matrix:\n",
      " [[56 23 32]\n",
      " [ 5 41  9]\n",
      " [ 6  4 39]]\n"
     ]
    }
   ],
   "source": [
    "# ----------------------------- Block X: Multiklasse‐pipeline med CSP, Riemann + SVM -----------------------------\n",
    "import numpy as np\n",
    "from pyriemann.estimation      import Covariances\n",
    "from pyriemann.spatialfilters  import CSP\n",
    "from pyriemann.tangentspace    import TangentSpace\n",
    "from sklearn.pipeline          import Pipeline\n",
    "from sklearn.preprocessing     import StandardScaler\n",
    "from sklearn.feature_selection import SelectKBest, mutual_info_classif\n",
    "from sklearn.svm               import SVC\n",
    "\n",
    "from model_utils import CovTransport\n",
    "\n",
    "# Gi MOVE‐klassen litt ekstra vekt\n",
    "class_weights = {'REST': 1, 'MOVE': 1, 'IMAGERY': 1}\n",
    "\n",
    "pipe = Pipeline([\n",
    "    # 1) Estimer SPD‐kovarianser\n",
    "    ('cov',    Covariances(estimator='oas')),\n",
    "\n",
    "    # 2) CSP på kovarianser: hent ut 6 komponenter totalt\n",
    "    ('csp',    CSP(nfilter=6, log=False)),        \n",
    "\n",
    "    # 3) Fjern person‐bias i tangentrommet\n",
    "    ('align',  CovTransport()),                     \n",
    "\n",
    "    # 4) Prosjekter til tangentrom\n",
    "    ('ts',     TangentSpace(metric='riemann')),      \n",
    "\n",
    "    # 5) Standardiser + behold alle features (k='all')\n",
    "    ('scaler', StandardScaler()),\n",
    "    ('fs',     SelectKBest(mutual_info_classif, k='all')),  \n",
    "\n",
    "    # 6) SVM med vektet MOVE‐klasse og sannsynligheter\n",
    "    ('svm',    SVC(\n",
    "                   kernel='rbf',\n",
    "                   C=1.0,\n",
    "                   gamma='scale',\n",
    "                   class_weight=class_weights,\n",
    "                   probability=True,\n",
    "                   random_state=42))\n",
    "])\n",
    "\n",
    "# Tren på 1:1:1‐balanserte data\n",
    "pipe.fit(X_full_bal, y_full_bal)\n",
    "\n",
    "# Evaluer på Val & Test\n",
    "from sklearn.metrics import balanced_accuracy_score, classification_report, confusion_matrix\n",
    "\n",
    "for navn, Xf, yf in [('Val', X_val, y_val), ('Test', X_test, y_test)]:\n",
    "    yp      = pipe.predict(Xf)\n",
    "    bal_acc = balanced_accuracy_score(yf, yp)\n",
    "    print(f\"\\n{navn} balanced accuracy: {bal_acc:.3f}\")\n",
    "    print(classification_report(\n",
    "        yf, yp,\n",
    "        labels=['REST','MOVE','IMAGERY'],\n",
    "        target_names=['REST','MOVE','IMAGERY']\n",
    "    ))\n",
    "    print(f\"{navn} confusion matrix:\\n\",\n",
    "          confusion_matrix(yf, yp, labels=['REST','MOVE','IMAGERY']))\n"
   ]
  },
  {
   "cell_type": "code",
   "execution_count": 23,
   "id": "07d33a9b",
   "metadata": {},
   "outputs": [
    {
     "name": "stdout",
     "output_type": "stream",
     "text": [
      "              precision    recall  f1-score   support\n",
      "\n",
      "        REST       0.84      0.50      0.63       111\n",
      "        MOVE       0.60      0.75      0.67        55\n",
      "     IMAGERY       0.49      0.80      0.60        49\n",
      "\n",
      "    accuracy                           0.63       215\n",
      "   macro avg       0.64      0.68      0.63       215\n",
      "weighted avg       0.70      0.63      0.63       215\n",
      "\n"
     ]
    },
    {
     "data": {
      "image/png": "[encoded data removed]",
      "text/plain": [
       "<Figure size 500x400 with 2 Axes>"
      ]
     },
     "metadata": {},
     "output_type": "display_data"
    }
   ],
   "source": [
    "import matplotlib.pyplot as plt\n",
    "from sklearn.metrics import classification_report, confusion_matrix\n",
    "\n",
    "y_test_pred = pipe.predict(X_test)\n",
    "labels      = ['REST','MOVE','IMAGERY']\n",
    "\n",
    "print(classification_report(\n",
    "    y_test, y_test_pred,\n",
    "    labels=labels,\n",
    "    target_names=labels,\n",
    "    zero_division=0\n",
    "))\n",
    "\n",
    "cm = confusion_matrix(y_test, y_test_pred, labels=labels)\n",
    "fig, ax = plt.subplots(figsize=(5,4))\n",
    "im = ax.imshow(cm, interpolation='nearest', cmap='Blues')\n",
    "ax.set_xticks(range(3)); ax.set_xticklabels(labels)\n",
    "ax.set_yticks(range(3)); ax.set_yticklabels(labels)\n",
    "for i in range(3):\n",
    "    for j in range(3):\n",
    "        ax.text(j, i, cm[i,j], ha='center', va='center',\n",
    "                color='white' if cm[i,j] > cm.max()/2 else 'black')\n",
    "plt.xlabel('Predikert'); plt.ylabel('Sann'); plt.title('Confusion Matrix (Test)')\n",
    "plt.colorbar(im); plt.tight_layout(); plt.show()\n"
   ]
  },
  {
   "cell_type": "code",
   "execution_count": null,
   "id": "fd6f50ae",
   "metadata": {},
   "outputs": [],
   "source": []
  },
  {
   "cell_type": "code",
   "execution_count": null,
   "id": "9909eca8",
   "metadata": {},
   "outputs": [],
   "source": []
  },
  {
   "cell_type": "markdown",
   "id": "b4bc9cf5",
   "metadata": {},
   "source": [
    "# TESTING"
   ]
  },
  {
   "cell_type": "code",
   "execution_count": 18,
   "id": "a93ac524",
   "metadata": {},
   "outputs": [
    {
     "name": "stdout",
     "output_type": "stream",
     "text": [
      "Saved CSV: ./csv_output\\Person5Recording4.csv\n"
     ]
    }
   ],
   "source": [
    "import os\n",
    "import mne\n",
    "import pandas as pd\n",
    "\n",
    "mne.set_log_level('ERROR')\n",
    "root       = './data/selfmade_dataset/Person5/Recording4'\n",
    "output_dir = './csv_output'\n",
    "os.makedirs(output_dir, exist_ok=True)\n",
    "\n",
    "vhdr     = next(f for f in os.listdir(root) if f.endswith('.vhdr'))\n",
    "basename = vhdr[:-5]\n",
    "vhdr_path = os.path.join(root, vhdr)\n",
    "\n",
    "# Fix paths\n",
    "lines = open(vhdr_path, 'r').read().splitlines()\n",
    "with open(vhdr_path, 'w') as f:\n",
    "    for L in lines:\n",
    "        if L.startswith('DataFile='):   f.write(f'DataFile={basename}.eeg\\n')\n",
    "        elif L.startswith('MarkerFile='): f.write(f'MarkerFile={basename}.vmrk\\n')\n",
    "        else:                            f.write(L + '\\n')\n",
    "\n",
    "# Read raw → DataFrame → CSV\n",
    "raw = mne.io.read_raw_brainvision(vhdr_path, preload=True,\n",
    "                                  eog=[], misc=['Aux1','Aux2','x_dir','y_dir','z_dir'])\n",
    "df  = raw.to_data_frame()\n",
    "df['annotation'] = ''\n",
    "for o,d,desc in zip(raw.annotations.onset,\n",
    "                    raw.annotations.duration,\n",
    "                    raw.annotations.description):\n",
    "    mask = (df['time']>=o)&(df['time']<o+d)\n",
    "    df.loc[mask,'annotation'] = desc\n",
    "\n",
    "out_csv = os.path.join(output_dir, f'{basename}.csv')\n",
    "df.to_csv(out_csv, index=False)\n",
    "print(f\"Saved CSV: {out_csv}\")\n"
   ]
  },
  {
   "cell_type": "code",
   "execution_count": 19,
   "id": "2de23d9b",
   "metadata": {},
   "outputs": [
    {
     "name": "stderr",
     "output_type": "stream",
     "text": [
      "C:\\Users\\aksel\\AppData\\Local\\Temp\\ipykernel_56040\\3854908411.py:6: DtypeWarning: Columns (36) have mixed types. Specify dtype option on import or set low_memory=False.\n",
      "  df       = pd.read_csv(csv_file)\n"
     ]
    },
    {
     "name": "stdout",
     "output_type": "stream",
     "text": [
      "Cleaned annotations, saved: ./csv_output/Person5Recording4.csv\n"
     ]
    }
   ],
   "source": [
    "import re\n",
    "import pandas as pd\n",
    "import numpy as np\n",
    "\n",
    "csv_file = './csv_output/Person5Recording4.csv'\n",
    "df       = pd.read_csv(csv_file)\n",
    "\n",
    "df['annotation'] = df['annotation'].replace('', np.nan)\n",
    "df['annotation'] = df['annotation'].str.replace(r'^Stimulus/', '', regex=True)\n",
    "df['annotation'] = df['annotation'].ffill().fillna('')\n",
    "\n",
    "for unwanted in ['New Segment/','START','END']:\n",
    "    df = df[df['annotation']!=unwanted]\n",
    "df['annotation'] = df['annotation'].replace('New Segment/LostSamples: 1','REST')\n",
    "\n",
    "m = re.match(r'Person(\\d+)Recording(\\d+)', 'Person5Recording4')\n",
    "person, rec = m.groups()\n",
    "df.insert(0,'Recording',int(rec))\n",
    "df.insert(0,'Person',   int(person))\n",
    "\n",
    "df.to_csv(csv_file, index=False)\n",
    "print(f\"Cleaned annotations, saved: {csv_file}\")\n"
   ]
  },
  {
   "cell_type": "code",
   "execution_count": 20,
   "id": "bf57c2ba",
   "metadata": {},
   "outputs": [
    {
     "name": "stdout",
     "output_type": "stream",
     "text": [
      "New epochs: (214, 32, 2000)\n",
      "New label counts:\n",
      " REST       107\n",
      "MOVE        61\n",
      "IMAGERY     46\n",
      "dtype: int64\n"
     ]
    }
   ],
   "source": [
    "import mne\n",
    "import numpy as np\n",
    "import pandas as pd\n",
    "\n",
    "df_new = pd.read_csv('./csv_output/Person5Recording4.csv')\n",
    "df_new['annotation'] = df_new['annotation'].str.upper().str.strip()\n",
    "df_new = df_new[df_new['annotation'].str.contains('REST|MOVE|IMAGERY',na=False)].reset_index(drop=True)\n",
    "df_new['label'] = df_new['annotation'].apply(map_label)  # gjenbruk map_label\n",
    "\n",
    "# Hardkodete kanaler som i trening\n",
    "eeg_ch = eeg_channels\n",
    "\n",
    "# Drop non-numeric\n",
    "for ch in eeg_ch:\n",
    "    df_new[ch] = pd.to_numeric(df_new[ch], errors='coerce')\n",
    "df_new.dropna(subset=eeg_ch, inplace=True); df_new.reset_index(drop=True, inplace=True)\n",
    "\n",
    "# RawArray + filtre\n",
    "sfreq = 500.\n",
    "info  = mne.create_info(ch_names=eeg_ch, sfreq=sfreq, ch_types='eeg')\n",
    "raw_new = mne.io.RawArray(df_new[eeg_ch].T.values, info)\n",
    "raw_new.notch_filter(50., fir_design='firwin', verbose=False)\n",
    "raw_new.filter(1., 40., fir_design='firwin', verbose=False)\n",
    "\n",
    "# Epoke 4s non-overlap + baseline\n",
    "data        = raw_new.get_data().T\n",
    "labels      = df_new['label'].values\n",
    "epoch_samps = int(4 * sfreq)\n",
    "\n",
    "X_new, y_new = [], []\n",
    "for st in range(0, len(data)-epoch_samps+1, epoch_samps):\n",
    "    seg      = data[st:st+epoch_samps]\n",
    "    baseline = seg[:int(0.5*sfreq)].mean(axis=0, keepdims=True)\n",
    "    seg_bc   = seg - baseline\n",
    "    X_new.append(seg_bc.T)\n",
    "    y_new.append(pd.Series(labels[st:st+epoch_samps]).mode()[0])\n",
    "\n",
    "X_new = np.array(X_new)\n",
    "y_new = np.array(y_new)\n",
    "print(\"New epochs:\", X_new.shape)\n",
    "print(\"New label counts:\\n\", pd.Series(y_new).value_counts())\n"
   ]
  },
  {
   "cell_type": "code",
   "execution_count": 24,
   "id": "397cefb6",
   "metadata": {},
   "outputs": [
    {
     "name": "stdout",
     "output_type": "stream",
     "text": [
      "\n",
      "Holdout Person5 accuracy: 0.6495327102803738\n",
      "              precision    recall  f1-score   support\n",
      "\n",
      "        REST       0.78      0.47      0.58       107\n",
      "        MOVE       0.59      0.77      0.67        61\n",
      "     IMAGERY       0.60      0.91      0.72        46\n",
      "\n",
      "    accuracy                           0.65       214\n",
      "   macro avg       0.66      0.72      0.66       214\n",
      "weighted avg       0.69      0.65      0.64       214\n",
      "\n"
     ]
    },
    {
     "data": {
      "image/png": "[encoded data removed]",
      "text/plain": [
       "<Figure size 400x400 with 1 Axes>"
      ]
     },
     "metadata": {},
     "output_type": "display_data"
    }
   ],
   "source": [
    "from sklearn.metrics import accuracy_score, classification_report, confusion_matrix\n",
    "import matplotlib.pyplot as plt\n",
    "\n",
    "y_new_pred = pipe.predict(X_new)\n",
    "print(\"\\nHoldout Person5 accuracy:\", accuracy_score(y_new, y_new_pred))\n",
    "print(classification_report(\n",
    "    y_new, y_new_pred,\n",
    "    labels=['REST','MOVE','IMAGERY'],\n",
    "    target_names=['REST','MOVE','IMAGERY'],\n",
    "    zero_division=0\n",
    "))\n",
    "\n",
    "cm = confusion_matrix(y_new, y_new_pred, labels=['REST','MOVE','IMAGERY'])\n",
    "fig, ax = plt.subplots(figsize=(4,4))\n",
    "ax.imshow(cm, cmap='Blues')\n",
    "ax.set_xticks([0,1,2]); ax.set_xticklabels(['REST','MOVE','IMAGERY'])\n",
    "ax.set_yticks([0,1,2]); ax.set_yticklabels(['REST','MOVE','IMAGERY'])\n",
    "for i in range(3):\n",
    "    for j in range(3):\n",
    "        ax.text(j, i, cm[i,j], ha='center', va='center',\n",
    "                color='white' if cm[i,j]>cm.max()/2 else 'black')\n",
    "ax.set_xlabel('Predikert'); ax.set_ylabel('Sann'); ax.set_title('Confusion Matrix Person5')\n",
    "plt.tight_layout(); plt.show()\n"
   ]
  },
  {
   "cell_type": "code",
   "execution_count": null,
   "id": "16739f04",
   "metadata": {},
   "outputs": [],
   "source": []
  },
  {
   "cell_type": "code",
   "execution_count": null,
   "id": "68a0a20b",
   "metadata": {},
   "outputs": [],
   "source": []
  },
  {
   "cell_type": "code",
   "execution_count": null,
   "id": "fb701830",
   "metadata": {},
   "outputs": [],
   "source": []
  },
  {
   "cell_type": "code",
   "execution_count": null,
   "id": "ff77b59e",
   "metadata": {},
   "outputs": [],
   "source": []
  },
  {
   "cell_type": "code",
   "execution_count": null,
   "id": "b7bc9159",
   "metadata": {},
   "outputs": [],
   "source": []
  },
  {
   "cell_type": "code",
   "execution_count": null,
   "id": "03ba4861",
   "metadata": {},
   "outputs": [],
   "source": []
  },
  {
   "cell_type": "code",
   "execution_count": null,
   "id": "855bda53",
   "metadata": {},
   "outputs": [],
   "source": []
  },
  {
   "cell_type": "code",
   "execution_count": null,
   "id": "20a4948f",
   "metadata": {},
   "outputs": [],
   "source": []
  },
  {
   "cell_type": "code",
   "execution_count": null,
   "id": "576dd9c6",
   "metadata": {},
   "outputs": [],
   "source": []
  },
  {
   "cell_type": "code",
   "execution_count": null,
   "id": "92e397b9",
   "metadata": {},
   "outputs": [],
   "source": []
  }
 ],
 "metadata": {
  "kernelspec": {
   "display_name": "EEG Master Env",
   "language": "python",
   "name": "eeg_master"
  },
  "language_info": {
   "codemirror_mode": {
    "name": "ipython",
    "version": 3
   },
   "file_extension": ".py",
   "mimetype": "text/x-python",
   "name": "python",
   "nbconvert_exporter": "python",
   "pygments_lexer": "ipython3",
   "version": "3.8.10"
  }
 },
 "nbformat": 4,
 "nbformat_minor": 5
}
