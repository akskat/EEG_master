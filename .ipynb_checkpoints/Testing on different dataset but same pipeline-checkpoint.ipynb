{
 "cells": [
  {
   "cell_type": "markdown",
   "id": "efa4356b",
   "metadata": {},
   "source": [
    "# Testing pipeline on new dataset"
   ]
  },
  {
   "cell_type": "markdown",
   "id": "75896f37",
   "metadata": {},
   "source": [
    "# New Dataset - Binary Model - LEFT VS RIGHT"
   ]
  },
  {
   "cell_type": "code",
   "execution_count": 1,
   "id": "90ce1434",
   "metadata": {},
   "outputs": [
    {
     "name": "stderr",
     "output_type": "stream",
     "text": [
      "<frozen importlib._bootstrap>:219: FutureWarning: mne.io.pick.pick_types is deprecated will be removed in 1.6, use documented public API instead. If no appropriate public API exists, please open an issue on GitHub.\n",
      "<frozen importlib._bootstrap>:219: FutureWarning: mne.io.pick.pick_channels_regexp is deprecated will be removed in 1.6, use documented public API instead. If no appropriate public API exists, please open an issue on GitHub.\n",
      "<frozen importlib._bootstrap>:219: FutureWarning: mne.io.pick.channel_type is deprecated will be removed in 1.6, use documented public API instead. If no appropriate public API exists, please open an issue on GitHub.\n",
      "C:\\Users\\aksel\\Documents\\EEG_master\\venv\\lib\\site-packages\\moabb\\pipelines\\__init__.py:26: ModuleNotFoundError: Tensorflow is not installed. You won't be able to use these MOABB pipelines if you attempt to do so.\n",
      "  warn(\n",
      "C:\\Users\\aksel\\Documents\\EEG_master\\venv\\lib\\site-packages\\braindecode\\preprocessing\\preprocess.py:55: UserWarning: Preprocessing choices with lambda functions cannot be saved.\n",
      "  warn('Preprocessing choices with lambda functions cannot be saved.')\n"
     ]
    },
    {
     "name": "stdout",
     "output_type": "stream",
     "text": [
      "Antall vinduer: 5184\n",
      "Unik vindulengde (pr trial, samples): [1500]\n"
     ]
    }
   ],
   "source": [
    "import numpy as np, mne\n",
    "from braindecode.datasets import MOABBDataset\n",
    "from braindecode.preprocessing import (\n",
    "    preprocess, Preprocessor, exponential_moving_standardize,\n",
    "    create_windows_from_events\n",
    ")\n",
    "from numpy import multiply\n",
    "\n",
    "mne.set_log_level(\"ERROR\")\n",
    "\n",
    "# 🔄 1)  Dataset‐navn og subjekter\n",
    "ds_raw = MOABBDataset(\n",
    "    dataset_name=\"BNCI2014_001\",     # (BCIC IV 2a)\n",
    "    subject_ids=list(range(1,10))    # 9 forsøkspersoner\n",
    ")\n",
    "\n",
    "# 🔄 2)  Pre­prosesser – (µV, 8-30 Hz er vanligst for MI, men 4-38 Hz går også)\n",
    "preprocess(\n",
    "    ds_raw,\n",
    "    [\n",
    "        Preprocessor('pick_types', eeg=True, meg=False, stim=False),\n",
    "        Preprocessor(lambda x: multiply(x, 1e6)),          # V → µV\n",
    "        Preprocessor('filter',  l_freq=8., h_freq=30.),    # MI-bånd\n",
    "        Preprocessor(exponential_moving_standardize,\n",
    "                     factor_new=1e-3, init_block_size=1000),\n",
    "    ],\n",
    ")\n",
    "\n",
    "# 0.50 s → 2.50 s etter cue  (dvs. ren MI-kjerne)\n",
    "sfreq = ds_raw.datasets[0].raw.info['sfreq']          # 250 Hz\n",
    "start = int(0.5 * sfreq)                              # +0.5 s\n",
    "stop  = int(2.5 * sfreq)                              # +2.5 s\n",
    "\n",
    "windows_ds = create_windows_from_events(\n",
    "    ds_raw,\n",
    "    trial_start_offset_samples =  start,\n",
    "    trial_stop_offset_samples  =  stop,\n",
    "    preload = True             # NB: ingen window_size/stride!\n",
    ")\n",
    "\n",
    "# ✅ skal lande på 9 subj × 288 trials  =  2 592 vinduer\n",
    "print(\"Antall vinduer:\", len(windows_ds))             # 2592\n",
    "dur = windows_ds.get_metadata()['i_stop_in_trial'] - \\\n",
    "      windows_ds.get_metadata()['i_start_in_trial']\n",
    "print(\"Unik vindulengde (pr trial, samples):\", np.unique(dur))  # [500]\n",
    "\n"
   ]
  },
  {
   "cell_type": "code",
   "execution_count": 2,
   "id": "456f32bf",
   "metadata": {},
   "outputs": [
    {
     "name": "stdout",
     "output_type": "stream",
     "text": [
      "[('train', 3456), ('val', 576), ('test', 1152)]\n"
     ]
    }
   ],
   "source": [
    "import pandas as pd\n",
    "from sklearn.model_selection import GroupShuffleSplit\n",
    "\n",
    "meta = windows_ds.get_metadata()\n",
    "\n",
    "# 🔄 1)  Fire klasser\n",
    "if \"target_name\" in meta.columns:                  # Braindecode ≥ 0.9\n",
    "    y_str = meta[\"target_name\"].map({\n",
    "        \"left_hand\":\"LEFT\",\n",
    "        \"right_hand\":\"RIGHT\",\n",
    "        \"feet\":\"FEET\",\n",
    "        \"tongue\":\"TONGUE\"\n",
    "    }).to_numpy()\n",
    "else:                                              # fallback\n",
    "    int2name = {0:\"LEFT\", 1:\"RIGHT\", 2:\"FEET\", 3:\"TONGUE\"}\n",
    "    y_str = meta[\"target\"].map(int2name).to_numpy()\n",
    "\n",
    "# 2)  Data og grupper\n",
    "idx_all = np.arange(len(windows_ds))\n",
    "X       = np.stack([windows_ds[i][0] for i in idx_all])    # (N, C, T)\n",
    "groups  = meta[\"subject\"].to_numpy()                       # ≃ person-ID\n",
    "\n",
    "# 3)  70/15/15 split på subjekter\n",
    "outer = GroupShuffleSplit(n_splits=1, test_size=0.30, random_state=42)\n",
    "tr, tmp = next(outer.split(X, y_str, groups))\n",
    "\n",
    "inner = GroupShuffleSplit(n_splits=1, test_size=0.50, random_state=42)\n",
    "val_rel, tst_rel = next(inner.split(X[tmp], y_str[tmp], groups[tmp]))\n",
    "val, tst = tmp[val_rel], tmp[tst_rel]\n",
    "\n",
    "X_tr, y_tr = X[tr],  y_str[tr]\n",
    "X_val,y_val= X[val], y_str[val]\n",
    "X_tst,y_tst= X[tst], y_str[tst]\n",
    "\n",
    "print([(n,len(s)) for n,s in\n",
    "       zip(('train','val','test'),(tr,val,tst))])\n"
   ]
  },
  {
   "cell_type": "code",
   "execution_count": 3,
   "id": "e2c89694",
   "metadata": {},
   "outputs": [
    {
     "data": {
      "text/html": [
       "<style>#sk-container-id-1 {color: black;}#sk-container-id-1 pre{padding: 0;}#sk-container-id-1 div.sk-toggleable {background-color: white;}#sk-container-id-1 label.sk-toggleable__label {cursor: pointer;display: block;width: 100%;margin-bottom: 0;padding: 0.3em;box-sizing: border-box;text-align: center;}#sk-container-id-1 label.sk-toggleable__label-arrow:before {content: \"▸\";float: left;margin-right: 0.25em;color: #696969;}#sk-container-id-1 label.sk-toggleable__label-arrow:hover:before {color: black;}#sk-container-id-1 div.sk-estimator:hover label.sk-toggleable__label-arrow:before {color: black;}#sk-container-id-1 div.sk-toggleable__content {max-height: 0;max-width: 0;overflow: hidden;text-align: left;background-color: #f0f8ff;}#sk-container-id-1 div.sk-toggleable__content pre {margin: 0.2em;color: black;border-radius: 0.25em;background-color: #f0f8ff;}#sk-container-id-1 input.sk-toggleable__control:checked~div.sk-toggleable__content {max-height: 200px;max-width: 100%;overflow: auto;}#sk-container-id-1 input.sk-toggleable__control:checked~label.sk-toggleable__label-arrow:before {content: \"▾\";}#sk-container-id-1 div.sk-estimator input.sk-toggleable__control:checked~label.sk-toggleable__label {background-color: #d4ebff;}#sk-container-id-1 div.sk-label input.sk-toggleable__control:checked~label.sk-toggleable__label {background-color: #d4ebff;}#sk-container-id-1 input.sk-hidden--visually {border: 0;clip: rect(1px 1px 1px 1px);clip: rect(1px, 1px, 1px, 1px);height: 1px;margin: -1px;overflow: hidden;padding: 0;position: absolute;width: 1px;}#sk-container-id-1 div.sk-estimator {font-family: monospace;background-color: #f0f8ff;border: 1px dotted black;border-radius: 0.25em;box-sizing: border-box;margin-bottom: 0.5em;}#sk-container-id-1 div.sk-estimator:hover {background-color: #d4ebff;}#sk-container-id-1 div.sk-parallel-item::after {content: \"\";width: 100%;border-bottom: 1px solid gray;flex-grow: 1;}#sk-container-id-1 div.sk-label:hover label.sk-toggleable__label {background-color: #d4ebff;}#sk-container-id-1 div.sk-serial::before {content: \"\";position: absolute;border-left: 1px solid gray;box-sizing: border-box;top: 0;bottom: 0;left: 50%;z-index: 0;}#sk-container-id-1 div.sk-serial {display: flex;flex-direction: column;align-items: center;background-color: white;padding-right: 0.2em;padding-left: 0.2em;position: relative;}#sk-container-id-1 div.sk-item {position: relative;z-index: 1;}#sk-container-id-1 div.sk-parallel {display: flex;align-items: stretch;justify-content: center;background-color: white;position: relative;}#sk-container-id-1 div.sk-item::before, #sk-container-id-1 div.sk-parallel-item::before {content: \"\";position: absolute;border-left: 1px solid gray;box-sizing: border-box;top: 0;bottom: 0;left: 50%;z-index: -1;}#sk-container-id-1 div.sk-parallel-item {display: flex;flex-direction: column;z-index: 1;position: relative;background-color: white;}#sk-container-id-1 div.sk-parallel-item:first-child::after {align-self: flex-end;width: 50%;}#sk-container-id-1 div.sk-parallel-item:last-child::after {align-self: flex-start;width: 50%;}#sk-container-id-1 div.sk-parallel-item:only-child::after {width: 0;}#sk-container-id-1 div.sk-dashed-wrapped {border: 1px dashed gray;margin: 0 0.4em 0.5em 0.4em;box-sizing: border-box;padding-bottom: 0.4em;background-color: white;}#sk-container-id-1 div.sk-label label {font-family: monospace;font-weight: bold;display: inline-block;line-height: 1.2em;}#sk-container-id-1 div.sk-label-container {text-align: center;}#sk-container-id-1 div.sk-container {/* jupyter's `normalize.less` sets `[hidden] { display: none; }` but bootstrap.min.css set `[hidden] { display: none !important; }` so we also need the `!important` here to be able to override the default hidden behavior on the sphinx rendered scikit-learn.org. See: https://github.com/scikit-learn/scikit-learn/issues/21755 */display: inline-block !important;position: relative;}#sk-container-id-1 div.sk-text-repr-fallback {display: none;}</style><div id=\"sk-container-id-1\" class=\"sk-top-container\"><div class=\"sk-text-repr-fallback\"><pre>Pipeline(steps=[(&#x27;cov&#x27;, Covariances(estimator=&#x27;oas&#x27;)),\n",
       "                (&#x27;csp&#x27;, CSP(log=False, nfilter=8)), (&#x27;align&#x27;, CovTransport()),\n",
       "                (&#x27;ts&#x27;, TangentSpace()), (&#x27;scaler&#x27;, StandardScaler()),\n",
       "                (&#x27;fs&#x27;,\n",
       "                 SelectKBest(k=&#x27;all&#x27;,\n",
       "                             score_func=&lt;function mutual_info_classif at 0x000002070BCD8940&gt;)),\n",
       "                (&#x27;svm&#x27;, SVC(C=5, random_state=42))])</pre><b>In a Jupyter environment, please rerun this cell to show the HTML representation or trust the notebook. <br />On GitHub, the HTML representation is unable to render, please try loading this page with nbviewer.org.</b></div><div class=\"sk-container\" hidden><div class=\"sk-item sk-dashed-wrapped\"><div class=\"sk-label-container\"><div class=\"sk-label sk-toggleable\"><input class=\"sk-toggleable__control sk-hidden--visually\" id=\"sk-estimator-id-1\" type=\"checkbox\" ><label for=\"sk-estimator-id-1\" class=\"sk-toggleable__label sk-toggleable__label-arrow\">Pipeline</label><div class=\"sk-toggleable__content\"><pre>Pipeline(steps=[(&#x27;cov&#x27;, Covariances(estimator=&#x27;oas&#x27;)),\n",
       "                (&#x27;csp&#x27;, CSP(log=False, nfilter=8)), (&#x27;align&#x27;, CovTransport()),\n",
       "                (&#x27;ts&#x27;, TangentSpace()), (&#x27;scaler&#x27;, StandardScaler()),\n",
       "                (&#x27;fs&#x27;,\n",
       "                 SelectKBest(k=&#x27;all&#x27;,\n",
       "                             score_func=&lt;function mutual_info_classif at 0x000002070BCD8940&gt;)),\n",
       "                (&#x27;svm&#x27;, SVC(C=5, random_state=42))])</pre></div></div></div><div class=\"sk-serial\"><div class=\"sk-item\"><div class=\"sk-estimator sk-toggleable\"><input class=\"sk-toggleable__control sk-hidden--visually\" id=\"sk-estimator-id-2\" type=\"checkbox\" ><label for=\"sk-estimator-id-2\" class=\"sk-toggleable__label sk-toggleable__label-arrow\">Covariances</label><div class=\"sk-toggleable__content\"><pre>Covariances(estimator=&#x27;oas&#x27;)</pre></div></div></div><div class=\"sk-item\"><div class=\"sk-estimator sk-toggleable\"><input class=\"sk-toggleable__control sk-hidden--visually\" id=\"sk-estimator-id-3\" type=\"checkbox\" ><label for=\"sk-estimator-id-3\" class=\"sk-toggleable__label sk-toggleable__label-arrow\">CSP</label><div class=\"sk-toggleable__content\"><pre>CSP(log=False, nfilter=8)</pre></div></div></div><div class=\"sk-item\"><div class=\"sk-estimator sk-toggleable\"><input class=\"sk-toggleable__control sk-hidden--visually\" id=\"sk-estimator-id-4\" type=\"checkbox\" ><label for=\"sk-estimator-id-4\" class=\"sk-toggleable__label sk-toggleable__label-arrow\">CovTransport</label><div class=\"sk-toggleable__content\"><pre>CovTransport()</pre></div></div></div><div class=\"sk-item\"><div class=\"sk-estimator sk-toggleable\"><input class=\"sk-toggleable__control sk-hidden--visually\" id=\"sk-estimator-id-5\" type=\"checkbox\" ><label for=\"sk-estimator-id-5\" class=\"sk-toggleable__label sk-toggleable__label-arrow\">TangentSpace</label><div class=\"sk-toggleable__content\"><pre>TangentSpace()</pre></div></div></div><div class=\"sk-item\"><div class=\"sk-estimator sk-toggleable\"><input class=\"sk-toggleable__control sk-hidden--visually\" id=\"sk-estimator-id-6\" type=\"checkbox\" ><label for=\"sk-estimator-id-6\" class=\"sk-toggleable__label sk-toggleable__label-arrow\">StandardScaler</label><div class=\"sk-toggleable__content\"><pre>StandardScaler()</pre></div></div></div><div class=\"sk-item\"><div class=\"sk-estimator sk-toggleable\"><input class=\"sk-toggleable__control sk-hidden--visually\" id=\"sk-estimator-id-7\" type=\"checkbox\" ><label for=\"sk-estimator-id-7\" class=\"sk-toggleable__label sk-toggleable__label-arrow\">SelectKBest</label><div class=\"sk-toggleable__content\"><pre>SelectKBest(k=&#x27;all&#x27;,\n",
       "            score_func=&lt;function mutual_info_classif at 0x000002070BCD8940&gt;)</pre></div></div></div><div class=\"sk-item\"><div class=\"sk-estimator sk-toggleable\"><input class=\"sk-toggleable__control sk-hidden--visually\" id=\"sk-estimator-id-8\" type=\"checkbox\" ><label for=\"sk-estimator-id-8\" class=\"sk-toggleable__label sk-toggleable__label-arrow\">SVC</label><div class=\"sk-toggleable__content\"><pre>SVC(C=5, random_state=42)</pre></div></div></div></div></div></div></div>"
      ],
      "text/plain": [
       "Pipeline(steps=[('cov', Covariances(estimator='oas')),\n",
       "                ('csp', CSP(log=False, nfilter=8)), ('align', CovTransport()),\n",
       "                ('ts', TangentSpace()), ('scaler', StandardScaler()),\n",
       "                ('fs',\n",
       "                 SelectKBest(k='all',\n",
       "                             score_func=<function mutual_info_classif at 0x000002070BCD8940>)),\n",
       "                ('svm', SVC(C=5, random_state=42))])"
      ]
     },
     "execution_count": 3,
     "metadata": {},
     "output_type": "execute_result"
    }
   ],
   "source": [
    "from pyriemann.estimation     import Covariances\n",
    "from pyriemann.spatialfilters import CSP\n",
    "from pyriemann.tangentspace   import TangentSpace\n",
    "from sklearn.pipeline         import Pipeline\n",
    "from sklearn.preprocessing    import StandardScaler\n",
    "from sklearn.feature_selection import SelectKBest, mutual_info_classif\n",
    "from sklearn.svm              import SVC\n",
    "from model_utils              import CovTransport                # som før\n",
    "\n",
    "# 8 CSP-komponenter  →  36 tangent-features\n",
    "pipe = Pipeline([\n",
    "    ('cov',    Covariances(estimator='oas')),\n",
    "    ('csp',    CSP(nfilter=8, log=False)),\n",
    "    ('align',  CovTransport()),          # valgfritt; prøv både med/uten\n",
    "    ('ts',     TangentSpace(metric='riemann')),\n",
    "    ('scaler', StandardScaler()),\n",
    "    ('fs',     SelectKBest(mutual_info_classif, k='all')),   # <= 36\n",
    "    ('svm',    SVC(kernel='rbf', C=5, gamma='scale',\n",
    "                   probability=False, random_state=42))\n",
    "])\n",
    "\n",
    "pipe.fit(X_tr, y_tr)\n"
   ]
  },
  {
   "cell_type": "code",
   "execution_count": 4,
   "id": "0a133aab",
   "metadata": {},
   "outputs": [
    {
     "name": "stdout",
     "output_type": "stream",
     "text": [
      "\n",
      "Val bal-acc  : 0.266\n",
      "              precision    recall  f1-score   support\n",
      "\n",
      "        LEFT       0.18      0.01      0.03       144\n",
      "       RIGHT       0.27      0.55      0.36       144\n",
      "        FEET       0.27      0.47      0.34       144\n",
      "      TONGUE       0.24      0.03      0.06       144\n",
      "\n",
      "    accuracy                           0.27       576\n",
      "   macro avg       0.24      0.27      0.20       576\n",
      "weighted avg       0.24      0.27      0.20       576\n",
      "\n",
      "\n",
      "Test bal-acc  : 0.258\n",
      "              precision    recall  f1-score   support\n",
      "\n",
      "        LEFT       0.24      0.06      0.10       288\n",
      "       RIGHT       0.21      0.09      0.13       288\n",
      "        FEET       0.27      0.52      0.36       288\n",
      "      TONGUE       0.26      0.35      0.30       288\n",
      "\n",
      "    accuracy                           0.26      1152\n",
      "   macro avg       0.24      0.26      0.22      1152\n",
      "weighted avg       0.24      0.26      0.22      1152\n",
      "\n"
     ]
    }
   ],
   "source": [
    "from sklearn.metrics import balanced_accuracy_score, classification_report\n",
    "\n",
    "for name, Xs, ys in [('Val', X_val, y_val), ('Test', X_tst, y_tst)]:\n",
    "    yp = pipe.predict(Xs)\n",
    "    print(f\"\\n{name} bal-acc  : {balanced_accuracy_score(ys, yp):.3f}\")\n",
    "    print(classification_report(\n",
    "        ys, yp, labels=['LEFT','RIGHT','FEET','TONGUE'],\n",
    "        target_names=['LEFT','RIGHT','FEET','TONGUE']\n",
    "    ))\n"
   ]
  },
  {
   "cell_type": "code",
   "execution_count": null,
   "id": "8ac603bb",
   "metadata": {},
   "outputs": [],
   "source": []
  },
  {
   "cell_type": "code",
   "execution_count": null,
   "id": "5b943b96",
   "metadata": {},
   "outputs": [],
   "source": []
  },
  {
   "cell_type": "code",
   "execution_count": null,
   "id": "c49aa382",
   "metadata": {},
   "outputs": [],
   "source": []
  },
  {
   "cell_type": "code",
   "execution_count": null,
   "id": "857d248f",
   "metadata": {},
   "outputs": [],
   "source": []
  },
  {
   "cell_type": "code",
   "execution_count": null,
   "id": "c69633a4",
   "metadata": {},
   "outputs": [],
   "source": []
  },
  {
   "cell_type": "code",
   "execution_count": null,
   "id": "99433db7",
   "metadata": {},
   "outputs": [],
   "source": []
  },
  {
   "cell_type": "code",
   "execution_count": null,
   "id": "7df1ea4f",
   "metadata": {},
   "outputs": [],
   "source": []
  },
  {
   "cell_type": "code",
   "execution_count": null,
   "id": "1b6c4b11",
   "metadata": {},
   "outputs": [],
   "source": []
  },
  {
   "cell_type": "code",
   "execution_count": null,
   "id": "f648d339",
   "metadata": {},
   "outputs": [],
   "source": []
  },
  {
   "cell_type": "code",
   "execution_count": null,
   "id": "9401c416",
   "metadata": {},
   "outputs": [],
   "source": []
  },
  {
   "cell_type": "code",
   "execution_count": null,
   "id": "33a90363",
   "metadata": {},
   "outputs": [],
   "source": []
  },
  {
   "cell_type": "code",
   "execution_count": null,
   "id": "7e81fe78",
   "metadata": {},
   "outputs": [],
   "source": []
  },
  {
   "cell_type": "code",
   "execution_count": null,
   "id": "e3b64f00",
   "metadata": {},
   "outputs": [],
   "source": []
  },
  {
   "cell_type": "code",
   "execution_count": null,
   "id": "1e12b60c",
   "metadata": {},
   "outputs": [],
   "source": []
  },
  {
   "cell_type": "code",
   "execution_count": null,
   "id": "71ea597e",
   "metadata": {},
   "outputs": [],
   "source": []
  },
  {
   "cell_type": "code",
   "execution_count": null,
   "id": "04bb11d9",
   "metadata": {},
   "outputs": [],
   "source": []
  },
  {
   "cell_type": "code",
   "execution_count": null,
   "id": "b072f0bc",
   "metadata": {},
   "outputs": [],
   "source": []
  },
  {
   "cell_type": "code",
   "execution_count": null,
   "id": "676d84cc",
   "metadata": {},
   "outputs": [],
   "source": []
  },
  {
   "cell_type": "code",
   "execution_count": null,
   "id": "ce9a45ee",
   "metadata": {},
   "outputs": [],
   "source": []
  },
  {
   "cell_type": "code",
   "execution_count": null,
   "id": "c4ff29fa",
   "metadata": {},
   "outputs": [],
   "source": []
  },
  {
   "cell_type": "code",
   "execution_count": null,
   "id": "bfd93a11",
   "metadata": {},
   "outputs": [],
   "source": []
  },
  {
   "cell_type": "markdown",
   "id": "15ddfa2d",
   "metadata": {},
   "source": [
    "# Multiclass modell with CSP - Right, Left, Feet, Tongue"
   ]
  },
  {
   "cell_type": "code",
   "execution_count": 5,
   "id": "b0825a1a",
   "metadata": {},
   "outputs": [
    {
     "name": "stderr",
     "output_type": "stream",
     "text": [
      "C:\\Users\\aksel\\Documents\\EEG_master\\venv\\lib\\site-packages\\braindecode\\preprocessing\\preprocess.py:55: UserWarning: Preprocessing choices with lambda functions cannot be saved.\n",
      "  warn('Preprocessing choices with lambda functions cannot be saved.')\n"
     ]
    },
    {
     "name": "stdout",
     "output_type": "stream",
     "text": [
      "Antall vinduer: 1728\n"
     ]
    }
   ],
   "source": [
    "# ----------------------------- Block 1 ------------------------------------\n",
    "import numpy as np, mne\n",
    "from braindecode.datasets import MOABBDataset\n",
    "from braindecode.preprocessing import (\n",
    "    preprocess, Preprocessor, exponential_moving_standardize,\n",
    "    create_windows_from_events\n",
    ")\n",
    "from numpy import multiply\n",
    "mne.set_log_level(\"ERROR\")\n",
    "\n",
    "SUBJ = 3                          # ← bytt om du vil bruke en annen\n",
    "\n",
    "ds_raw = MOABBDataset(\n",
    "    dataset_name=\"BNCI2014_001\",\n",
    "    subject_ids=[SUBJ]            # ⚠️ bare én subject!\n",
    ")\n",
    "\n",
    "preprocess(\n",
    "    ds_raw,\n",
    "    [\n",
    "        Preprocessor('pick_types', eeg=True, meg=False, stim=False),\n",
    "        Preprocessor(lambda x: multiply(x, 1e6)),      # V → µV\n",
    "        Preprocessor('filter', l_freq=8., h_freq=30.), # 8–30 Hz MI-bånd\n",
    "        Preprocessor(exponential_moving_standardize,\n",
    "                     factor_new=1e-3, init_block_size=1000),\n",
    "    ],\n",
    ")\n",
    "\n",
    "sfreq   = ds_raw.datasets[0].raw.info['sfreq']         # 250 Hz\n",
    "t0, t1  = 0.5, 2.5                                     # 0.5–2.5 s etter cue\n",
    "win     = int((t1 - t0) * sfreq)                       # 2 s = 500 prøver\n",
    "\n",
    "windows_ds = create_windows_from_events(\n",
    "    ds_raw,\n",
    "    trial_start_offset_samples=int(t0 * sfreq),\n",
    "    trial_stop_offset_samples =int(t1 * sfreq),\n",
    "    window_size_samples       =win,\n",
    "    window_stride_samples     =win,\n",
    "    preload=True,\n",
    ")\n",
    "\n",
    "print(\"Antall vinduer:\", len(windows_ds))\n"
   ]
  },
  {
   "cell_type": "code",
   "execution_count": 6,
   "id": "1369d205",
   "metadata": {},
   "outputs": [
    {
     "name": "stdout",
     "output_type": "stream",
     "text": [
      "Train-session vinduer: 864\n",
      "Test-session vinduer : 864\n",
      "Train: (691, 22, 500) (array(['FEET', 'LEFT', 'RIGHT', 'TONGUE'], dtype=object), array([173, 173, 172, 173], dtype=int64))\n",
      "Val:   (173, 22, 500) (array(['FEET', 'LEFT', 'RIGHT', 'TONGUE'], dtype=object), array([43, 43, 44, 43], dtype=int64))\n",
      "Test:  (864, 22, 500) (array(['FEET', 'LEFT', 'RIGHT', 'TONGUE'], dtype=object), array([216, 216, 216, 216], dtype=int64))\n"
     ]
    }
   ],
   "source": [
    "# ----------------------------- Block 2 ------------------------------------\n",
    "import pandas as pd\n",
    "from sklearn.model_selection import StratifiedShuffleSplit\n",
    "\n",
    "meta = windows_ds.get_metadata()\n",
    "\n",
    "# ---------- 1)  Fire klasser  ------------------------------------------------\n",
    "int2name = {0: \"LEFT\", 1: \"RIGHT\", 2: \"FEET\", 3: \"TONGUE\"}\n",
    "y = meta[\"target\"].map(int2name).to_numpy()\n",
    "\n",
    "# ---------- 2)  Feature-tensor ---------------------------------------------\n",
    "X = np.stack([w[0] for w in windows_ds])         # shape (N, 22, 500)\n",
    "\n",
    "# ---------- 3)  Finn trenings- og test-sesjon -------------------------------\n",
    "sess_raw = meta[\"session\"].astype(str)           # f.eks. '0train' / '1test'\n",
    "\n",
    "if set(sess_raw.unique()) <= {\"0\", \"1\"}:\n",
    "    tr_mask = sess_raw == \"0\"\n",
    "    te_mask = sess_raw == \"1\"\n",
    "else:                                            # generelt: se etter ordet\n",
    "    tr_mask = sess_raw.str.contains(\"train\", case=False, regex=False)\n",
    "    te_mask = sess_raw.str.contains(\"test\",  case=False, regex=False)\n",
    "\n",
    "# ---------- 4)  Del opp ------------------------------------------------------\n",
    "X_pre,  y_pre  = X[tr_mask],  y[tr_mask]         # hele train-sesjonen\n",
    "X_test, y_test = X[te_mask],  y[te_mask]         # hele test-sesjonen\n",
    "\n",
    "print(\"Train-session vinduer:\", X_pre.shape[0])\n",
    "print(\"Test-session vinduer :\", X_test.shape[0])\n",
    "\n",
    "# ---------- 5)  Internt split av train-sesjon  (80 % train | 20 % val) ------\n",
    "sss = StratifiedShuffleSplit(n_splits=1, test_size=0.20, random_state=42)\n",
    "tr_idx, val_idx = next(sss.split(X_pre, y_pre))\n",
    "X_train, y_train = X_pre[tr_idx],  y_pre[tr_idx]\n",
    "X_val,   y_val   = X_pre[val_idx], y_pre[val_idx]\n",
    "\n",
    "print(\"Train:\", X_train.shape,  np.unique(y_train, return_counts=True))\n",
    "print(\"Val:  \", X_val.shape,    np.unique(y_val,   return_counts=True))\n",
    "print(\"Test: \", X_test.shape,   np.unique(y_test,  return_counts=True))\n"
   ]
  },
  {
   "cell_type": "code",
   "execution_count": 7,
   "id": "e11dc677",
   "metadata": {},
   "outputs": [
    {
     "data": {
      "text/html": [
       "<style>#sk-container-id-2 {color: black;}#sk-container-id-2 pre{padding: 0;}#sk-container-id-2 div.sk-toggleable {background-color: white;}#sk-container-id-2 label.sk-toggleable__label {cursor: pointer;display: block;width: 100%;margin-bottom: 0;padding: 0.3em;box-sizing: border-box;text-align: center;}#sk-container-id-2 label.sk-toggleable__label-arrow:before {content: \"▸\";float: left;margin-right: 0.25em;color: #696969;}#sk-container-id-2 label.sk-toggleable__label-arrow:hover:before {color: black;}#sk-container-id-2 div.sk-estimator:hover label.sk-toggleable__label-arrow:before {color: black;}#sk-container-id-2 div.sk-toggleable__content {max-height: 0;max-width: 0;overflow: hidden;text-align: left;background-color: #f0f8ff;}#sk-container-id-2 div.sk-toggleable__content pre {margin: 0.2em;color: black;border-radius: 0.25em;background-color: #f0f8ff;}#sk-container-id-2 input.sk-toggleable__control:checked~div.sk-toggleable__content {max-height: 200px;max-width: 100%;overflow: auto;}#sk-container-id-2 input.sk-toggleable__control:checked~label.sk-toggleable__label-arrow:before {content: \"▾\";}#sk-container-id-2 div.sk-estimator input.sk-toggleable__control:checked~label.sk-toggleable__label {background-color: #d4ebff;}#sk-container-id-2 div.sk-label input.sk-toggleable__control:checked~label.sk-toggleable__label {background-color: #d4ebff;}#sk-container-id-2 input.sk-hidden--visually {border: 0;clip: rect(1px 1px 1px 1px);clip: rect(1px, 1px, 1px, 1px);height: 1px;margin: -1px;overflow: hidden;padding: 0;position: absolute;width: 1px;}#sk-container-id-2 div.sk-estimator {font-family: monospace;background-color: #f0f8ff;border: 1px dotted black;border-radius: 0.25em;box-sizing: border-box;margin-bottom: 0.5em;}#sk-container-id-2 div.sk-estimator:hover {background-color: #d4ebff;}#sk-container-id-2 div.sk-parallel-item::after {content: \"\";width: 100%;border-bottom: 1px solid gray;flex-grow: 1;}#sk-container-id-2 div.sk-label:hover label.sk-toggleable__label {background-color: #d4ebff;}#sk-container-id-2 div.sk-serial::before {content: \"\";position: absolute;border-left: 1px solid gray;box-sizing: border-box;top: 0;bottom: 0;left: 50%;z-index: 0;}#sk-container-id-2 div.sk-serial {display: flex;flex-direction: column;align-items: center;background-color: white;padding-right: 0.2em;padding-left: 0.2em;position: relative;}#sk-container-id-2 div.sk-item {position: relative;z-index: 1;}#sk-container-id-2 div.sk-parallel {display: flex;align-items: stretch;justify-content: center;background-color: white;position: relative;}#sk-container-id-2 div.sk-item::before, #sk-container-id-2 div.sk-parallel-item::before {content: \"\";position: absolute;border-left: 1px solid gray;box-sizing: border-box;top: 0;bottom: 0;left: 50%;z-index: -1;}#sk-container-id-2 div.sk-parallel-item {display: flex;flex-direction: column;z-index: 1;position: relative;background-color: white;}#sk-container-id-2 div.sk-parallel-item:first-child::after {align-self: flex-end;width: 50%;}#sk-container-id-2 div.sk-parallel-item:last-child::after {align-self: flex-start;width: 50%;}#sk-container-id-2 div.sk-parallel-item:only-child::after {width: 0;}#sk-container-id-2 div.sk-dashed-wrapped {border: 1px dashed gray;margin: 0 0.4em 0.5em 0.4em;box-sizing: border-box;padding-bottom: 0.4em;background-color: white;}#sk-container-id-2 div.sk-label label {font-family: monospace;font-weight: bold;display: inline-block;line-height: 1.2em;}#sk-container-id-2 div.sk-label-container {text-align: center;}#sk-container-id-2 div.sk-container {/* jupyter's `normalize.less` sets `[hidden] { display: none; }` but bootstrap.min.css set `[hidden] { display: none !important; }` so we also need the `!important` here to be able to override the default hidden behavior on the sphinx rendered scikit-learn.org. See: https://github.com/scikit-learn/scikit-learn/issues/21755 */display: inline-block !important;position: relative;}#sk-container-id-2 div.sk-text-repr-fallback {display: none;}</style><div id=\"sk-container-id-2\" class=\"sk-top-container\"><div class=\"sk-text-repr-fallback\"><pre>Pipeline(steps=[(&#x27;cov&#x27;, Covariances(estimator=&#x27;oas&#x27;)),\n",
       "                (&#x27;csp&#x27;, CSP(log=False, nfilter=8)), (&#x27;ts&#x27;, TangentSpace()),\n",
       "                (&#x27;scaler&#x27;, StandardScaler()),\n",
       "                (&#x27;fs&#x27;,\n",
       "                 SelectKBest(k=&#x27;all&#x27;,\n",
       "                             score_func=&lt;function mutual_info_classif at 0x000002070BCD8940&gt;)),\n",
       "                (&#x27;svm&#x27;, SVC(C=5, random_state=42))])</pre><b>In a Jupyter environment, please rerun this cell to show the HTML representation or trust the notebook. <br />On GitHub, the HTML representation is unable to render, please try loading this page with nbviewer.org.</b></div><div class=\"sk-container\" hidden><div class=\"sk-item sk-dashed-wrapped\"><div class=\"sk-label-container\"><div class=\"sk-label sk-toggleable\"><input class=\"sk-toggleable__control sk-hidden--visually\" id=\"sk-estimator-id-9\" type=\"checkbox\" ><label for=\"sk-estimator-id-9\" class=\"sk-toggleable__label sk-toggleable__label-arrow\">Pipeline</label><div class=\"sk-toggleable__content\"><pre>Pipeline(steps=[(&#x27;cov&#x27;, Covariances(estimator=&#x27;oas&#x27;)),\n",
       "                (&#x27;csp&#x27;, CSP(log=False, nfilter=8)), (&#x27;ts&#x27;, TangentSpace()),\n",
       "                (&#x27;scaler&#x27;, StandardScaler()),\n",
       "                (&#x27;fs&#x27;,\n",
       "                 SelectKBest(k=&#x27;all&#x27;,\n",
       "                             score_func=&lt;function mutual_info_classif at 0x000002070BCD8940&gt;)),\n",
       "                (&#x27;svm&#x27;, SVC(C=5, random_state=42))])</pre></div></div></div><div class=\"sk-serial\"><div class=\"sk-item\"><div class=\"sk-estimator sk-toggleable\"><input class=\"sk-toggleable__control sk-hidden--visually\" id=\"sk-estimator-id-10\" type=\"checkbox\" ><label for=\"sk-estimator-id-10\" class=\"sk-toggleable__label sk-toggleable__label-arrow\">Covariances</label><div class=\"sk-toggleable__content\"><pre>Covariances(estimator=&#x27;oas&#x27;)</pre></div></div></div><div class=\"sk-item\"><div class=\"sk-estimator sk-toggleable\"><input class=\"sk-toggleable__control sk-hidden--visually\" id=\"sk-estimator-id-11\" type=\"checkbox\" ><label for=\"sk-estimator-id-11\" class=\"sk-toggleable__label sk-toggleable__label-arrow\">CSP</label><div class=\"sk-toggleable__content\"><pre>CSP(log=False, nfilter=8)</pre></div></div></div><div class=\"sk-item\"><div class=\"sk-estimator sk-toggleable\"><input class=\"sk-toggleable__control sk-hidden--visually\" id=\"sk-estimator-id-12\" type=\"checkbox\" ><label for=\"sk-estimator-id-12\" class=\"sk-toggleable__label sk-toggleable__label-arrow\">TangentSpace</label><div class=\"sk-toggleable__content\"><pre>TangentSpace()</pre></div></div></div><div class=\"sk-item\"><div class=\"sk-estimator sk-toggleable\"><input class=\"sk-toggleable__control sk-hidden--visually\" id=\"sk-estimator-id-13\" type=\"checkbox\" ><label for=\"sk-estimator-id-13\" class=\"sk-toggleable__label sk-toggleable__label-arrow\">StandardScaler</label><div class=\"sk-toggleable__content\"><pre>StandardScaler()</pre></div></div></div><div class=\"sk-item\"><div class=\"sk-estimator sk-toggleable\"><input class=\"sk-toggleable__control sk-hidden--visually\" id=\"sk-estimator-id-14\" type=\"checkbox\" ><label for=\"sk-estimator-id-14\" class=\"sk-toggleable__label sk-toggleable__label-arrow\">SelectKBest</label><div class=\"sk-toggleable__content\"><pre>SelectKBest(k=&#x27;all&#x27;,\n",
       "            score_func=&lt;function mutual_info_classif at 0x000002070BCD8940&gt;)</pre></div></div></div><div class=\"sk-item\"><div class=\"sk-estimator sk-toggleable\"><input class=\"sk-toggleable__control sk-hidden--visually\" id=\"sk-estimator-id-15\" type=\"checkbox\" ><label for=\"sk-estimator-id-15\" class=\"sk-toggleable__label sk-toggleable__label-arrow\">SVC</label><div class=\"sk-toggleable__content\"><pre>SVC(C=5, random_state=42)</pre></div></div></div></div></div></div></div>"
      ],
      "text/plain": [
       "Pipeline(steps=[('cov', Covariances(estimator='oas')),\n",
       "                ('csp', CSP(log=False, nfilter=8)), ('ts', TangentSpace()),\n",
       "                ('scaler', StandardScaler()),\n",
       "                ('fs',\n",
       "                 SelectKBest(k='all',\n",
       "                             score_func=<function mutual_info_classif at 0x000002070BCD8940>)),\n",
       "                ('svm', SVC(C=5, random_state=42))])"
      ]
     },
     "execution_count": 7,
     "metadata": {},
     "output_type": "execute_result"
    }
   ],
   "source": [
    "# ----------------------------- Block 3 ------------------------------------\n",
    "from pyriemann.estimation      import Covariances\n",
    "from pyriemann.spatialfilters  import CSP\n",
    "from pyriemann.tangentspace    import TangentSpace\n",
    "from sklearn.preprocessing     import StandardScaler\n",
    "from sklearn.pipeline          import Pipeline\n",
    "from sklearn.feature_selection import SelectKBest, mutual_info_classif\n",
    "from sklearn.svm               import SVC\n",
    "\n",
    "pipe = Pipeline([\n",
    "    ('cov',    Covariances(estimator='oas')),\n",
    "    ('csp',    CSP(nfilter=8, log=False)),          # 8 komponenter ⇒ 36 feats\n",
    "    ('ts',     TangentSpace(metric='riemann')),\n",
    "    ('scaler', StandardScaler()),\n",
    "    ('fs',     SelectKBest(mutual_info_classif, k='all')),  # 36 features\n",
    "    ('svm',    SVC(C=5, gamma='scale', kernel='rbf',\n",
    "                   probability=False, random_state=42))\n",
    "])\n",
    "\n",
    "pipe.fit(X_train, y_train)          # ✅ trener nå uten feil\n"
   ]
  },
  {
   "cell_type": "code",
   "execution_count": 8,
   "id": "0c3fcc24",
   "metadata": {},
   "outputs": [
    {
     "name": "stdout",
     "output_type": "stream",
     "text": [
      "\n",
      "Val bal-accuracy: 0.538\n",
      "              precision    recall  f1-score   support\n",
      "\n",
      "        LEFT       0.50      0.47      0.48        43\n",
      "       RIGHT       0.62      0.55      0.58        44\n",
      "        FEET       0.56      0.63      0.59        43\n",
      "      TONGUE       0.48      0.51      0.49        43\n",
      "\n",
      "    accuracy                           0.54       173\n",
      "   macro avg       0.54      0.54      0.54       173\n",
      "weighted avg       0.54      0.54      0.54       173\n",
      "\n",
      "\n",
      "Test bal-accuracy: 0.500\n",
      "              precision    recall  f1-score   support\n",
      "\n",
      "        LEFT       0.52      0.31      0.39       216\n",
      "       RIGHT       0.63      0.48      0.54       216\n",
      "        FEET       0.50      0.67      0.57       216\n",
      "      TONGUE       0.42      0.54      0.47       216\n",
      "\n",
      "    accuracy                           0.50       864\n",
      "   macro avg       0.52      0.50      0.49       864\n",
      "weighted avg       0.52      0.50      0.49       864\n",
      "\n"
     ]
    }
   ],
   "source": [
    "# ----------------------------- Block 4 ------------------------------------\n",
    "from sklearn.metrics import balanced_accuracy_score, classification_report\n",
    "\n",
    "for split, Xs, ys in [('Val', X_val, y_val),\n",
    "                      ('Test', X_test, y_test)]:\n",
    "    yp = pipe.predict(Xs)\n",
    "    print(f\"\\n{split} bal-accuracy: {balanced_accuracy_score(ys, yp):.3f}\")\n",
    "    print(classification_report(\n",
    "        ys, yp,\n",
    "        labels=[\"LEFT\",\"RIGHT\",\"FEET\",\"TONGUE\"],\n",
    "        target_names=[\"LEFT\",\"RIGHT\",\"FEET\",\"TONGUE\"]\n",
    "    ))\n"
   ]
  },
  {
   "cell_type": "code",
   "execution_count": 9,
   "id": "9729ed42",
   "metadata": {},
   "outputs": [
    {
     "name": "stdout",
     "output_type": "stream",
     "text": [
      "\n",
      "Validering-settet — konfusjonsmatrise\n",
      "          LEFT   RIGHT    FEET  TONGUE\n",
      "  LEFT      20       7       6      10\n",
      " RIGHT       7      24       7       6\n",
      "  FEET       5       3      27       8\n",
      "TONGUE       8       5       8      22\n"
     ]
    },
    {
     "data": {
      "image/png": "[encoded data removed]",
      "text/plain": [
       "<Figure size 400x350 with 1 Axes>"
      ]
     },
     "metadata": {},
     "output_type": "display_data"
    },
    {
     "name": "stdout",
     "output_type": "stream",
     "text": [
      "\n",
      "Test-settet — konfusjonsmatrise\n",
      "          LEFT   RIGHT    FEET  TONGUE\n",
      "  LEFT      68      23      54      71\n",
      " RIGHT      13     103      48      52\n",
      "  FEET      10      22     145      39\n",
      "TONGUE      40      16      44     116\n"
     ]
    },
    {
     "data": {
      "image/png": "[encoded data removed]",
      "text/plain": [
       "<Figure size 400x350 with 1 Axes>"
      ]
     },
     "metadata": {},
     "output_type": "display_data"
    }
   ],
   "source": [
    "# ----------------------------- Block «Confusion Matrix» -----------------------------\n",
    "import numpy as np\n",
    "import matplotlib.pyplot as plt\n",
    "from sklearn.metrics import confusion_matrix, ConfusionMatrixDisplay\n",
    "\n",
    "labels = [\"LEFT\", \"RIGHT\", \"FEET\", \"TONGUE\"]       # fast rekkefølge\n",
    "\n",
    "for split_name, X_split, y_split in [\n",
    "        (\"Validering\", X_val,  y_val),\n",
    "        (\"Test\",       X_test, y_test)]:\n",
    "\n",
    "    y_pred = pipe.predict(X_split)\n",
    "    cm     = confusion_matrix(y_split, y_pred, labels=labels)\n",
    "\n",
    "    # 1) Skriv som tabell i konsollen\n",
    "    print(f\"\\n{split_name}-settet — konfusjonsmatrise\")\n",
    "    print(\"        \" + \"  \".join(f\"{lab:>6}\" for lab in labels))\n",
    "    for lab, row in zip(labels, cm):\n",
    "        print(f\"{lab:>6}  \" + \"  \".join(f\"{n:6d}\" for n in row))\n",
    "\n",
    "    # 2) Tegn figuren\n",
    "    disp = ConfusionMatrixDisplay(cm, display_labels=labels)\n",
    "    fig, ax = plt.subplots(figsize=(4, 3.5))\n",
    "    disp.plot(ax=ax, cmap=\"Blues\", colorbar=False)\n",
    "    ax.set_title(f\"Confusion Matrix — {split_name}\")\n",
    "    plt.tight_layout()\n",
    "    plt.show()\n"
   ]
  },
  {
   "cell_type": "code",
   "execution_count": null,
   "id": "bb08ac79",
   "metadata": {},
   "outputs": [],
   "source": []
  },
  {
   "cell_type": "code",
   "execution_count": null,
   "id": "3150d031",
   "metadata": {},
   "outputs": [],
   "source": []
  },
  {
   "cell_type": "code",
   "execution_count": null,
   "id": "2d36d56b",
   "metadata": {},
   "outputs": [],
   "source": []
  },
  {
   "cell_type": "code",
   "execution_count": null,
   "id": "0688954e",
   "metadata": {},
   "outputs": [],
   "source": []
  },
  {
   "cell_type": "code",
   "execution_count": null,
   "id": "3aa3c18c",
   "metadata": {},
   "outputs": [],
   "source": []
  },
  {
   "cell_type": "code",
   "execution_count": null,
   "id": "9a123d51",
   "metadata": {},
   "outputs": [],
   "source": []
  },
  {
   "cell_type": "code",
   "execution_count": null,
   "id": "f7cd92b2",
   "metadata": {},
   "outputs": [],
   "source": []
  },
  {
   "cell_type": "code",
   "execution_count": null,
   "id": "f1595d46",
   "metadata": {},
   "outputs": [],
   "source": []
  },
  {
   "cell_type": "code",
   "execution_count": null,
   "id": "d7e9e253",
   "metadata": {},
   "outputs": [],
   "source": []
  },
  {
   "cell_type": "code",
   "execution_count": null,
   "id": "4ec89fcf",
   "metadata": {},
   "outputs": [],
   "source": []
  },
  {
   "cell_type": "code",
   "execution_count": null,
   "id": "4fe897d5",
   "metadata": {},
   "outputs": [],
   "source": []
  },
  {
   "cell_type": "code",
   "execution_count": null,
   "id": "19290737",
   "metadata": {},
   "outputs": [],
   "source": []
  },
  {
   "cell_type": "code",
   "execution_count": null,
   "id": "538009b4",
   "metadata": {},
   "outputs": [],
   "source": []
  },
  {
   "cell_type": "code",
   "execution_count": null,
   "id": "3d0a9c21",
   "metadata": {},
   "outputs": [],
   "source": []
  },
  {
   "cell_type": "code",
   "execution_count": null,
   "id": "470efe8e",
   "metadata": {},
   "outputs": [],
   "source": []
  },
  {
   "cell_type": "code",
   "execution_count": null,
   "id": "6a9ceb22",
   "metadata": {},
   "outputs": [],
   "source": []
  },
  {
   "cell_type": "code",
   "execution_count": null,
   "id": "72f09c63",
   "metadata": {},
   "outputs": [],
   "source": []
  },
  {
   "cell_type": "code",
   "execution_count": null,
   "id": "91536bbd",
   "metadata": {},
   "outputs": [],
   "source": []
  },
  {
   "cell_type": "code",
   "execution_count": null,
   "id": "9580b4c9",
   "metadata": {},
   "outputs": [],
   "source": []
  },
  {
   "cell_type": "code",
   "execution_count": null,
   "id": "0a398be2",
   "metadata": {},
   "outputs": [],
   "source": []
  },
  {
   "cell_type": "code",
   "execution_count": null,
   "id": "5353e07b",
   "metadata": {},
   "outputs": [],
   "source": []
  },
  {
   "cell_type": "code",
   "execution_count": null,
   "id": "b1e9cc03",
   "metadata": {},
   "outputs": [],
   "source": []
  }
 ],
 "metadata": {
  "kernelspec": {
   "display_name": "EEG Master Env",
   "language": "python",
   "name": "eeg_master"
  },
  "language_info": {
   "codemirror_mode": {
    "name": "ipython",
    "version": 3
   },
   "file_extension": ".py",
   "mimetype": "text/x-python",
   "name": "python",
   "nbconvert_exporter": "python",
   "pygments_lexer": "ipython3",
   "version": "3.8.10"
  }
 },
 "nbformat": 4,
 "nbformat_minor": 5
}
