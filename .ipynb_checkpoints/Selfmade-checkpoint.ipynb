{
 "cells": [
  {
   "cell_type": "markdown",
   "id": "00e7ff73",
   "metadata": {},
   "source": [
    "# EEG Data Preprocessing"
   ]
  },
  {
   "cell_type": "markdown",
   "id": "e244f1b5",
   "metadata": {},
   "source": [
    "## Converting Files to CSVs"
   ]
  },
  {
   "cell_type": "code",
   "execution_count": null,
   "id": "0e3d0462",
   "metadata": {},
   "outputs": [],
   "source": [
    "# Notebook: EEG File Converter to CSV with Integrated Annotations\n",
    "import os\n",
    "import mne\n",
    "import pandas as pd\n",
    "\n",
    "# Suppress MNE warnings\n",
    "mne.set_log_level('ERROR')\n",
    "\n",
    "# Define paths\n",
    "root_path = './data/selfmade_dataset/'       # adjust if necessary\n",
    "output_path = './csv_output/'\n",
    "\n",
    "# Ensure output directory exists\n",
    "os.makedirs(output_path, exist_ok=True)\n",
    "\n",
    "# Channels to mark as misc\n",
    "misc_chs = ['Aux1', 'Aux2', 'x_dir', 'y_dir', 'z_dir']\n",
    "\n",
    "# Iterate over Person and Recording folders\n",
    "for person_dir in sorted(os.listdir(root_path)):\n",
    "    person_path = os.path.join(root_path, person_dir)\n",
    "    if not os.path.isdir(person_path):\n",
    "        continue\n",
    "\n",
    "    for recording_dir in sorted(os.listdir(person_path)):\n",
    "        recording_path = os.path.join(person_path, recording_dir)\n",
    "        if not os.path.isdir(recording_path):\n",
    "            continue\n",
    "\n",
    "        # Process .vhdr files\n",
    "        for file in sorted(os.listdir(recording_path)):\n",
    "            if not file.endswith('.vhdr'):\n",
    "                continue\n",
    "\n",
    "            vhdr_path = os.path.join(recording_path, file)\n",
    "            basename = file[:-5]  # strip .vhdr\n",
    "\n",
    "            # Fix .vhdr references\n",
    "            with open(vhdr_path, 'r', encoding='utf-8') as f:\n",
    "                lines = f.readlines()\n",
    "            with open(vhdr_path, 'w', encoding='utf-8') as f:\n",
    "                for line in lines:\n",
    "                    if line.startswith('DataFile='):\n",
    "                        f.write(f'DataFile={basename}.eeg\\n')\n",
    "                    elif line.startswith('MarkerFile='):\n",
    "                        f.write(f'MarkerFile={basename}.vmrk\\n')\n",
    "                    else:\n",
    "                        f.write(line)\n",
    "\n",
    "            # Load raw data, specifying eog as empty list and misc channels\n",
    "            raw = mne.io.read_raw_brainvision(\n",
    "                vhdr_path,\n",
    "                preload=True,\n",
    "                eog=[],\n",
    "                misc=misc_chs\n",
    "            )\n",
    "\n",
    "            # Convert to DataFrame\n",
    "            df = raw.to_data_frame()\n",
    "\n",
    "            # Add annotation column, default ''\n",
    "            df['annotation'] = ''\n",
    "            if raw.annotations and len(raw.annotations) > 0:\n",
    "                for onset, duration, desc in zip(raw.annotations.onset,\n",
    "                                                 raw.annotations.duration,\n",
    "                                                 raw.annotations.description):\n",
    "                    mask = (df['time'] >= onset) & (df['time'] < onset + duration)\n",
    "                    df.loc[mask, 'annotation'] = desc\n",
    "\n",
    "            # Save combined CSV\n",
    "            out_csv = os.path.join(output_path, f'{basename}.csv')\n",
    "            df.to_csv(out_csv, index=False)\n",
    "            print(f'Saved combined CSV: {out_csv}')\n"
   ]
  },
  {
   "cell_type": "markdown",
   "id": "743f5df1",
   "metadata": {},
   "source": [
    "## Extend annotations for all rows and clean annotations "
   ]
  },
  {
   "cell_type": "code",
   "execution_count": null,
   "id": "2e039ec0",
   "metadata": {},
   "outputs": [],
   "source": [
    "import os, pandas as pd, numpy as np\n",
    "\n",
    "for file in sorted(os.listdir(output_path)):\n",
    "    if not file.endswith('.csv'):\n",
    "        continue\n",
    "    csv_file = os.path.join(output_path, file)\n",
    "    df = pd.read_csv(csv_file)\n",
    "\n",
    "    # Replace empty strings with NaN for ffill\n",
    "    df['annotation'] = df['annotation'].replace('', np.nan)\n",
    "    # Remove 'Stimulus/' prefix\n",
    "    df['annotation'] = df['annotation'].str.replace(r'^Stimulus/', '', regex=True)\n",
    "    # Forward-fill\n",
    "    df['annotation'] = df['annotation'].ffill()\n",
    "    df['annotation'] = df['annotation'].fillna('')\n",
    "\n",
    "    df.to_csv(csv_file, index=False)\n",
    "    print(f'Updated annotations in: {csv_file}')\n"
   ]
  },
  {
   "cell_type": "markdown",
   "id": "0c96a739",
   "metadata": {},
   "source": [
    "## Add columns for Person and Recording"
   ]
  },
  {
   "cell_type": "code",
   "execution_count": null,
   "id": "7f5c544c",
   "metadata": {},
   "outputs": [],
   "source": [
    "import os, re, pandas as pd\n",
    "\n",
    "for file in sorted(os.listdir(output_path)):\n",
    "    if not file.endswith('.csv'):\n",
    "        continue\n",
    "    csv_file = os.path.join(output_path, file)\n",
    "    m = re.match(r'Person(\\d+)Recording(\\d+)\\.csv$', file)\n",
    "    if not m:\n",
    "        print(f\"Filename does not match pattern: {file}\")\n",
    "        continue\n",
    "    person_num, recording_num = map(int, m.groups())\n",
    "\n",
    "    df = pd.read_csv(csv_file)\n",
    "    df.insert(0, 'Recording', recording_num)\n",
    "    df.insert(0, 'Person',    person_num)\n",
    "    df.to_csv(csv_file, index=False)\n",
    "    print(f'Added Person and Recording columns in: {csv_file}')\n"
   ]
  },
  {
   "cell_type": "markdown",
   "id": "d4e5827f",
   "metadata": {},
   "source": [
    "## Remove New Segment, START, END annotations"
   ]
  },
  {
   "cell_type": "code",
   "execution_count": null,
   "id": "0cf41395",
   "metadata": {},
   "outputs": [],
   "source": [
    "import os, pandas as pd\n",
    "\n",
    "unwanted = ['New Segment/', 'START', 'END']\n",
    "for file in sorted(os.listdir(output_path)):\n",
    "    if not file.endswith('.csv'):\n",
    "        continue\n",
    "    csv_file = os.path.join(output_path, file)\n",
    "    df = pd.read_csv(csv_file)\n",
    "\n",
    "    df = df[~df['annotation'].isin(unwanted)]\n",
    "    df.to_csv(csv_file, index=False)\n",
    "    print(f'Removed unwanted annotations in: {csv_file}')\n"
   ]
  },
  {
   "cell_type": "markdown",
   "id": "48d88e11",
   "metadata": {},
   "source": [
    "## Replace lost-sample marker with REST"
   ]
  },
  {
   "cell_type": "code",
   "execution_count": null,
   "id": "1c0c3cd2",
   "metadata": {},
   "outputs": [],
   "source": [
    "import os, pandas as pd\n",
    "\n",
    "for fname in sorted(os.listdir(output_path)):\n",
    "    if not fname.endswith('.csv'):\n",
    "        continue\n",
    "    fullpath = os.path.join(output_path, fname)\n",
    "    df = pd.read_csv(fullpath)\n",
    "\n",
    "    df['annotation'] = df['annotation'].replace(\n",
    "        'New Segment/LostSamples: 1', 'REST'\n",
    "    )\n",
    "    df.to_csv(fullpath, index=False)\n",
    "    print(f\"Oppdatert annotering i {fname}\")\n"
   ]
  },
  {
   "cell_type": "code",
   "execution_count": null,
   "id": "aed795ff",
   "metadata": {},
   "outputs": [],
   "source": []
  },
  {
   "cell_type": "code",
   "execution_count": null,
   "id": "61dc91a8",
   "metadata": {},
   "outputs": [],
   "source": []
  },
  {
   "cell_type": "code",
   "execution_count": null,
   "id": "c72ecbb1",
   "metadata": {},
   "outputs": [],
   "source": []
  },
  {
   "cell_type": "code",
   "execution_count": null,
   "id": "8c8555e6",
   "metadata": {},
   "outputs": [],
   "source": []
  },
  {
   "cell_type": "code",
   "execution_count": null,
   "id": "0d8deb12",
   "metadata": {},
   "outputs": [],
   "source": []
  },
  {
   "cell_type": "markdown",
   "id": "836fdac3",
   "metadata": {},
   "source": [
    "# Model"
   ]
  },
  {
   "cell_type": "code",
   "execution_count": null,
   "id": "df0b82a4",
   "metadata": {},
   "outputs": [],
   "source": [
    "# -----------------------------  Block 1  -----------------------------\n",
    "# Load all CSVs into a single DataFrame\n",
    "import os, pandas as pd, numpy as np\n",
    "from sklearn.preprocessing import LabelEncoder\n",
    "from sklearn.model_selection import StratifiedShuffleSplit\n",
    "from collections import Counter\n",
    "\n",
    "csv_dir   = './csv_output'\n",
    "csv_files = [os.path.join(csv_dir, f) for f in os.listdir(csv_dir)\n",
    "             if f.endswith('.csv')]\n",
    "df        = pd.concat([pd.read_csv(f) for f in csv_files], ignore_index=True)\n",
    "\n",
    "print(f\"Loaded {len(df)} rows from {len(csv_files)} files.\")\n",
    "print(df.columns)\n"
   ]
  },
  {
   "cell_type": "code",
   "execution_count": null,
   "id": "5a6bc1d0",
   "metadata": {},
   "outputs": [],
   "source": [
    "# -----------------------------  Block 2  -----------------------------\n",
    "# Filter annotations, drop Aux, keep only relevant EEG channels\n",
    "imagery = True         # False ➜ drop Imagery trials\n",
    "use_aux = False        # True  ➜ keep Aux1/Aux2\n",
    "\n",
    "if not imagery:\n",
    "    df = df[~df['annotation'].str.contains('Imagery', case=False, na=False)]\n",
    "\n",
    "aux_cols = ['Aux1', 'Aux2']\n",
    "if not use_aux:\n",
    "    df = df.drop(columns=[c for c in aux_cols if c in df.columns])\n",
    "\n",
    "eeg_features = (['Person','Recording','time'] +\n",
    "    ['Fp1','Fz','F3','F7','FT9','FC5','FC1','C3','T7','TP9','CP5','CP1',\n",
    "     'Pz','P3','P7','O1','Oz','O2','P4','P8','TP10','CP6','CP2','Cz','C4',\n",
    "     'T8','FT10','FC6','FC2','F4','F8','Fp2'])\n",
    "if use_aux:\n",
    "    eeg_features += aux_cols\n",
    "\n",
    "cols_to_keep = [c for c in eeg_features + ['annotation'] if c in df.columns]\n",
    "df = df[cols_to_keep]\n",
    "\n",
    "print(\"Shape after filtering:\", df.shape)\n"
   ]
  },
  {
   "cell_type": "code",
   "execution_count": null,
   "id": "1c6b049b",
   "metadata": {},
   "outputs": [],
   "source": [
    "# -----------------------------  Block 3  -----------------------------\n",
    "# Build feature matrix X, encoded y, and group labels\n",
    "feature_cols = [c for c in df.columns\n",
    "                if c not in ('Person','Recording','time','annotation')]\n",
    "X = df[feature_cols].values.astype(np.float32)\n",
    "\n",
    "le    = LabelEncoder()\n",
    "y_enc = le.fit_transform(df['annotation'].values)\n",
    "groups = (df['Person'].astype(str) + '_' +\n",
    "          df['Recording'].astype(str)).values\n",
    "\n",
    "print(\"Label mapping:\", dict(zip(le.classes_, le.transform(le.classes_))))\n"
   ]
  },
  {
   "cell_type": "code",
   "execution_count": null,
   "id": "1a4f34b8",
   "metadata": {},
   "outputs": [],
   "source": [
    "# -----------------------------  Block 4  -----------------------------\n",
    "# Stratified Group Shuffle → train / val / test indices\n",
    "from sklearn.model_selection import StratifiedShuffleSplit\n",
    "from collections import Counter\n",
    "import numpy as np\n",
    "\n",
    "def strat_group_split(y, groups, test_size=0.2, val_size=0.2, seed=42):\n",
    "    \"\"\"\n",
    "    Returnerer rad-indekser for train / val / test\n",
    "    med både stratifisering og gruppesammenheng.\n",
    "    \"\"\"\n",
    "    uniq_g, inv = np.unique(groups, return_inverse=True)\n",
    "    # Majoritetsklasse per gruppe (proxy-label til stratifisering)\n",
    "    maj = np.array([np.bincount(y[inv == i]).argmax() for i in range(len(uniq_g))])\n",
    "\n",
    "    # ---- trekk test-grupper -------------------------------------\n",
    "    sss = StratifiedShuffleSplit(n_splits=1,\n",
    "                                 test_size=test_size,\n",
    "                                 random_state=seed)\n",
    "    g_trainval, g_test = next(sss.split(uniq_g, maj))\n",
    "\n",
    "    # ---- trekk val-grupper fra resten ---------------------------\n",
    "    sss2 = StratifiedShuffleSplit(n_splits=1,\n",
    "                                  test_size=val_size,\n",
    "                                  random_state=seed)\n",
    "    g_train, g_val = next(sss2.split(uniq_g[g_trainval], maj[g_trainval]))\n",
    "\n",
    "    g_train = uniq_g[g_trainval][g_train]\n",
    "    g_val   = uniq_g[g_trainval][g_val]\n",
    "    g_test  = uniq_g[g_test]\n",
    "\n",
    "    idx_tr = np.where(np.isin(groups, g_train))[0]\n",
    "    idx_va = np.where(np.isin(groups, g_val))[0]\n",
    "    idx_te = np.where(np.isin(groups, g_test))[0]\n",
    "    return idx_tr, idx_va, idx_te\n",
    "\n",
    "# kall funksjonen\n",
    "train_idx, val_idx, test_idx = strat_group_split(y_enc, groups)\n",
    "\n",
    "print(\"Train:\", Counter(y_enc[train_idx]))\n",
    "print(\"Val  :\", Counter(y_enc[val_idx]))\n",
    "print(\"Test :\", Counter(y_enc[test_idx]))\n"
   ]
  },
  {
   "cell_type": "code",
   "execution_count": null,
   "id": "8cf0a727",
   "metadata": {},
   "outputs": [],
   "source": [
    "# -----------------------------  Block 5  -----------------------------\n",
    "# MNE filtering  →  1-s z-scored windows (50 % overlap)\n",
    "import mne\n",
    "from mne.filter import filter_data, notch_filter\n",
    "\n",
    "sfreq, win_s = 256, 1.0\n",
    "win, step    = int(win_s*sfreq), int(win_s*sfreq)//2\n",
    "\n",
    "def preprocess(rec_df):\n",
    "    dat = rec_df[feature_cols].values.T\n",
    "    dat = notch_filter(dat, sfreq, freqs=[50], verbose=False)\n",
    "    dat = filter_data(dat, sfreq, 8, 30, verbose=False)\n",
    "    return dat - dat.mean(0, keepdims=True)  # CAR\n",
    "\n",
    "def make_windows(idx_subset):\n",
    "    Xw, yw = [], []\n",
    "    for g in np.unique(groups[idx_subset]):\n",
    "        df_rec = df[groups==g].sort_values('time')\n",
    "        if len(df_rec) < sfreq*3: continue\n",
    "        arr, labels = preprocess(df_rec), df_rec['annotation'].values\n",
    "        for s in range(0, arr.shape[1]-win+1, step):\n",
    "            seg_lab = labels[s:s+win]\n",
    "            if (seg_lab==seg_lab[0]).mean() >= .8:\n",
    "                seg = arr[:, s:s+win]\n",
    "                seg = (seg-seg.mean(1,keepdims=True))/ (seg.std(1,keepdims=True)+1e-6)\n",
    "                Xw.append(seg); yw.append(seg_lab[0])\n",
    "    return np.stack(Xw), np.array(yw)\n",
    "\n",
    "X_tr, y_tr = make_windows(train_idx)\n",
    "X_va, y_va = make_windows(val_idx)\n",
    "X_te, y_te = make_windows(test_idx)\n",
    "print(\"Windows:\", X_tr.shape, X_va.shape, X_te.shape)\n"
   ]
  },
  {
   "cell_type": "code",
   "execution_count": null,
   "id": "1ee20149",
   "metadata": {},
   "outputs": [],
   "source": [
    "# -----------------------------  Block 6  -----------------------------\n",
    "# Feature transformer: Covariances→TangentSpace + Band-power\n",
    "from pyriemann.estimation import Covariances\n",
    "from pyriemann.tangentspace import TangentSpace\n",
    "from scipy.signal import welch\n",
    "from sklearn.base import BaseEstimator, TransformerMixin\n",
    "from sklearn.preprocessing import StandardScaler\n",
    "from sklearn.compose import ColumnTransformer\n",
    "from sklearn.pipeline import Pipeline\n",
    "\n",
    "bands = [(0.5,4),(4,8),(8,12),(13,30)]\n",
    "def bandpow(seg):\n",
    "    f,p = welch(seg, sfreq, nperseg=sfreq//2)\n",
    "    return np.concatenate([p[:,(f>=lo)&(f<=hi)].mean(1) for lo,hi in bands])\n",
    "\n",
    "class BandPower(BaseEstimator, TransformerMixin):\n",
    "    def fit(self,X,y=None): return self\n",
    "    def transform(self,X):  return np.array([bandpow(x) for x in X])\n",
    "\n",
    "cov_ts = Pipeline([('cov', Covariances('oas')),\n",
    "                   ('ts',  TangentSpace(metric='riemann'))])\n",
    "\n",
    "feat_pipe = Pipeline([\n",
    "    ('features', ColumnTransformer(\n",
    "        [('ts', cov_ts, slice(None)),\n",
    "         ('bp', BandPower(), slice(None))])),\n",
    "    ('sc', StandardScaler())\n",
    "])\n"
   ]
  },
  {
   "cell_type": "code",
   "execution_count": null,
   "id": "cce71a84",
   "metadata": {},
   "outputs": [],
   "source": [
    "# -----------------------------  Block 7  -----------------------------\n",
    "# Balanced batch generator + EEGNet training\n",
    "import tensorflow as tf, math, random\n",
    "from tensorflow.keras.utils import Sequence, to_categorical\n",
    "from tensorflow.keras.callbacks import EarlyStopping\n",
    "\n",
    "n_classes = len(le.classes_)\n",
    "def EEGNet(nb_classes, Chans, Samples, dropout=0.4):\n",
    "    from tensorflow.keras.layers import (Input, Conv2D, DepthwiseConv2D,\n",
    "         SeparableConv2D, BatchNormalization, Activation, AveragePooling2D,\n",
    "         SpatialDropout2D, Flatten, Dense)\n",
    "    inp = Input((Chans,Samples,1))\n",
    "    x = Conv2D(8,(1,64),padding='same',use_bias=False)(inp)\n",
    "    x = BatchNormalization()(x)\n",
    "    x = DepthwiseConv2D((Chans,1),depth_multiplier=2,use_bias=False)(x)\n",
    "    x = BatchNormalization()(x); x=Activation('elu')(x)\n",
    "    x = AveragePooling2D((1,4))(x); x=SpatialDropout2D(dropout)(x)\n",
    "    x = SeparableConv2D(16,(1,16),padding='same',use_bias=False)(x)\n",
    "    x = BatchNormalization()(x); x=Activation('elu')(x)\n",
    "    x = AveragePooling2D((1,8))(x); x=SpatialDropout2D(dropout)(x)\n",
    "    x = Flatten()(x)\n",
    "    out = Dense(nb_classes, activation='softmax')(x)\n",
    "    return tf.keras.Model(inp,out)\n",
    "\n",
    "class BalBatch(Sequence):\n",
    "    def __init__(self,X,y,batch=64):\n",
    "        self.X, self.y = X, np.array(le.transform(y))\n",
    "        self.b, self.cls = batch, np.unique(self.y)\n",
    "        self.idxs = {c:np.where(self.y==c)[0] for c in self.cls}\n",
    "    def __len__(self): return math.ceil(len(self.y)/self.b)\n",
    "    def __getitem__(self,i):\n",
    "        per = max(1,self.b//len(self.cls)); idx=[]\n",
    "        for c in self.cls: idx+=random.sample(self.idxs[c].tolist(),per)\n",
    "        random.shuffle(idx)\n",
    "        return (self.X[idx,...,np.newaxis],\n",
    "                to_categorical(self.y[idx], n_classes))\n",
    "\n",
    "train_gen = BalBatch(X_tr, y_tr, 64)\n",
    "val_gen   = BalBatch(X_va, y_va, 64)\n",
    "\n",
    "model = EEGNet(n_classes, X_tr.shape[1], X_tr.shape[2])\n",
    "model.compile('adam', 'categorical_crossentropy', metrics=['accuracy'])\n",
    "es = EarlyStopping(monitor='val_accuracy', patience=8, restore_best_weights=True)\n",
    "\n",
    "model.fit(train_gen, epochs=60, validation_data=val_gen,\n",
    "          callbacks=[es], verbose=1)\n",
    "\n",
    "X_te4D = X_te[..., np.newaxis]\n",
    "print(\"Test accuracy:\",\n",
    "      model.evaluate(X_te4D,\n",
    "      to_categorical(le.transform(y_te), n_classes), verbose=0)[1])\n"
   ]
  },
  {
   "cell_type": "code",
   "execution_count": null,
   "id": "30fa947d",
   "metadata": {},
   "outputs": [],
   "source": [
    "# -----------------------------  Block 8  -----------------------------\n",
    "# Confusion matrix on test-set\n",
    "from sklearn.metrics import ConfusionMatrixDisplay, classification_report\n",
    "import matplotlib.pyplot as plt\n",
    "\n",
    "y_pred = model.predict(X_te4D, verbose=0).argmax(1)\n",
    "y_true = le.transform(y_te)\n",
    "\n",
    "print(\"\\nTest classification report:\")\n",
    "print(classification_report(y_true, y_pred, target_names=le.classes_))\n",
    "\n",
    "fig, ax = plt.subplots(figsize=(7,7))\n",
    "ConfusionMatrixDisplay.from_predictions(\n",
    "    y_true, y_pred,\n",
    "    display_labels=le.classes_, cmap='Blues',\n",
    "    xticks_rotation=45, ax=ax, colorbar=False\n",
    ")\n",
    "ax.set_title(\"EEGNet – Confusion Matrix (Test)\")\n",
    "plt.tight_layout(); plt.show()\n"
   ]
  },
  {
   "cell_type": "code",
   "execution_count": null,
   "id": "171f664b",
   "metadata": {},
   "outputs": [],
   "source": [
    "# -----------------------------  Block 9  -----------------------------\n",
    "# Lagre alle artefakter for sanntids-inferens\n",
    "# --------------------------------------------------------------------\n",
    "import os, json, numpy as np, tensorflow as tf\n",
    "save_dir = \"./saved_artifacts\"\n",
    "os.makedirs(save_dir, exist_ok=True)\n",
    "\n",
    "# 1) TF-modell\n",
    "model.save(os.path.join(save_dir, \"EEGNet_MI\"))\n",
    "\n",
    "# 2) Etiketter  →  json + npy\n",
    "lbl_json = os.path.join(save_dir, \"label_classes.json\")\n",
    "lbl_npy  = os.path.join(save_dir, \"label_classes.npy\")\n",
    "with open(lbl_json, \"w\", encoding=\"utf-8\") as f:\n",
    "    json.dump(le.classes_.tolist(), f, indent=2)\n",
    "np.save(lbl_npy, le.classes_)                 # back-compat\n",
    "print(\"✅ etiketter →\", lbl_json, \"og\", lbl_npy)\n",
    "\n",
    "# 3) Kanal-rekkefølge\n",
    "with open(os.path.join(save_dir, \"eeg_channels.json\"), \"w\") as f:\n",
    "    json.dump(feature_cols, f, indent=2)\n",
    "\n",
    "# 4) Pre-proc-meta\n",
    "meta_info = {\n",
    "    \"sfreq\": sfreq, \"window_s\": win_s, \"window_len\": win,\n",
    "    \"step_len\": step, \"overlap\": 0.5,\n",
    "    \"zscore\": True, \"bandpass\": [8, 30], \"notch\": 50\n",
    "}\n",
    "with open(os.path.join(save_dir, \"preproc_meta.json\"), \"w\") as f:\n",
    "    json.dump(meta_info, f, indent=2)\n"
   ]
  },
  {
   "cell_type": "code",
   "execution_count": null,
   "id": "2e2c552e",
   "metadata": {},
   "outputs": [],
   "source": []
  },
  {
   "cell_type": "code",
   "execution_count": null,
   "id": "9c8ea923",
   "metadata": {},
   "outputs": [],
   "source": []
  },
  {
   "cell_type": "code",
   "execution_count": null,
   "id": "5c8dc018",
   "metadata": {},
   "outputs": [],
   "source": []
  },
  {
   "cell_type": "code",
   "execution_count": null,
   "id": "9e0aeecf",
   "metadata": {},
   "outputs": [],
   "source": []
  },
  {
   "cell_type": "code",
   "execution_count": null,
   "id": "11b7f00d",
   "metadata": {},
   "outputs": [],
   "source": []
  },
  {
   "cell_type": "code",
   "execution_count": null,
   "id": "b0c3d7e1",
   "metadata": {},
   "outputs": [],
   "source": []
  },
  {
   "cell_type": "code",
   "execution_count": null,
   "id": "a66a9b49",
   "metadata": {},
   "outputs": [],
   "source": []
  },
  {
   "cell_type": "code",
   "execution_count": null,
   "id": "e21b16a3",
   "metadata": {},
   "outputs": [],
   "source": []
  },
  {
   "cell_type": "code",
   "execution_count": null,
   "id": "93b123cd",
   "metadata": {},
   "outputs": [],
   "source": []
  },
  {
   "cell_type": "code",
   "execution_count": null,
   "id": "4835618f",
   "metadata": {},
   "outputs": [],
   "source": []
  },
  {
   "cell_type": "markdown",
   "id": "9e0acb85",
   "metadata": {},
   "source": [
    "# NY MODELL"
   ]
  },
  {
   "cell_type": "code",
   "execution_count": 124,
   "id": "4eafa064",
   "metadata": {},
   "outputs": [
    {
     "name": "stdout",
     "output_type": "stream",
     "text": [
      "Klassefordeling: REST       1063220\n",
      "IMAGERY     486220\n",
      "Name: label, dtype: int64\n"
     ]
    }
   ],
   "source": [
    "# -----------------------------  Block 1 -----------------------------\n",
    "import os, pandas as pd, numpy as np\n",
    "\n",
    "csv_dir = './csv_output'\n",
    "csv_files = [os.path.join(csv_dir, f) for f in os.listdir(csv_dir) if f.endswith('.csv')]\n",
    "df = pd.concat([pd.read_csv(f) for f in csv_files], ignore_index=True)\n",
    "\n",
    "# Behold kun REST og IMAGERY\n",
    "df = df[df['annotation'].str.contains('REST|IMAGERY', case=False, na=False)]\n",
    "\n",
    "# Lag binær annotasjon\n",
    "df['label'] = np.where(df['annotation'].str.contains('IMAGERY'), 'IMAGERY', 'REST')\n",
    "df.reset_index(drop=True, inplace=True)\n",
    "\n",
    "print(\"Klassefordeling:\", df['label'].value_counts())\n"
   ]
  },
  {
   "cell_type": "code",
   "execution_count": 125,
   "id": "46087b96",
   "metadata": {},
   "outputs": [
    {
     "name": "stdout",
     "output_type": "stream",
     "text": [
      "Epochs shape: (774, 37, 2000), labels shape: (774,)\n"
     ]
    }
   ],
   "source": [
    "# -----------------------------  Block 2 -----------------------------\n",
    "epoch_duration = 4   # kortere epochs gir mer data\n",
    "fs = 500             # samplingfrekvens\n",
    "\n",
    "def create_epochs(df, epoch_duration, fs):\n",
    "    epochs, labels = [], []\n",
    "    n_samples_epoch = epoch_duration * fs\n",
    "    for label in ['REST', 'IMAGERY']:\n",
    "        df_label = df[df['label'] == label]\n",
    "        n_epochs = len(df_label) // n_samples_epoch\n",
    "        for i in range(n_epochs):\n",
    "            epoch = df_label.iloc[i*n_samples_epoch:(i+1)*n_samples_epoch]\n",
    "            epoch_data = epoch.drop(columns=['Person','Recording','time','annotation','label']).values.T\n",
    "            epochs.append(epoch_data)\n",
    "            labels.append(label)\n",
    "    return np.array(epochs), np.array(labels)\n",
    "\n",
    "epochs, labels = create_epochs(df, epoch_duration, fs)\n",
    "print(f'Epochs shape: {epochs.shape}, labels shape: {labels.shape}')\n"
   ]
  },
  {
   "cell_type": "code",
   "execution_count": 78,
   "id": "3430bbef",
   "metadata": {},
   "outputs": [
    {
     "name": "stdout",
     "output_type": "stream",
     "text": [
      "Shape etter kutt: (774, 37, 1500)\n"
     ]
    }
   ],
   "source": [
    "# -----------------------------  Block 3 -----------------------------\n",
    "cut_seconds = 1\n",
    "cut_samples = cut_seconds * fs\n",
    "\n",
    "epochs = epochs[:, :, cut_samples:]\n",
    "print(\"Shape etter kutt:\", epochs.shape)\n"
   ]
  },
  {
   "cell_type": "code",
   "execution_count": 112,
   "id": "0fc91d6d",
   "metadata": {},
   "outputs": [],
   "source": [
    "# -----------------------------  Block 4 -----------------------------\n",
    "# I stedet for 0.5–40 Hz, prøv f.eks. 8–30 Hz (alfa + beta-bånd)\n",
    "epochs_filtered = mne.filter.filter_data(\n",
    "    epochs, sfreq=fs, l_freq=8, h_freq=30, verbose=False\n",
    ")\n",
    "\n"
   ]
  },
  {
   "cell_type": "code",
   "execution_count": 113,
   "id": "58925f5d",
   "metadata": {},
   "outputs": [
    {
     "name": "stdout",
     "output_type": "stream",
     "text": [
      "Train: (558, 37, 1500), Val: (99, 37, 1500), Test: (117, 37, 1500)\n"
     ]
    }
   ],
   "source": [
    "# -----------------------------  Block 5 -----------------------------\n",
    "from sklearn.model_selection import train_test_split\n",
    "\n",
    "X_trainval, X_test, y_trainval, y_test = train_test_split(\n",
    "    epochs_filtered, labels, test_size=0.15, stratify=labels, random_state=42\n",
    ")\n",
    "\n",
    "X_train, X_val, y_train, y_val = train_test_split(\n",
    "    X_trainval, y_trainval, test_size=0.15, stratify=y_trainval, random_state=42\n",
    ")\n",
    "\n",
    "print(f\"Train: {X_train.shape}, Val: {X_val.shape}, Test: {X_test.shape}\")\n"
   ]
  },
  {
   "cell_type": "code",
   "execution_count": 114,
   "id": "08a7c4b1",
   "metadata": {},
   "outputs": [
    {
     "name": "stdout",
     "output_type": "stream",
     "text": [
      "Computing rank from data with rank=None\n",
      "    Using tolerance 4.8e+03 (2.2e-16 eps * 37 dim * 5.8e+17  max singular value)\n",
      "    Estimated rank (mag): 37\n",
      "    MAG: rank 37 computed from 37 data channels with 0 projectors\n",
      "Reducing data rank from 37 -> 37\n",
      "Estimating covariance using EMPIRICAL\n",
      "Done.\n",
      "Computing rank from data with rank=None\n",
      "    Using tolerance 6.6e+03 (2.2e-16 eps * 37 dim * 8e+17  max singular value)\n",
      "    Estimated rank (mag): 37\n",
      "    MAG: rank 37 computed from 37 data channels with 0 projectors\n",
      "Reducing data rank from 37 -> 37\n",
      "Estimating covariance using EMPIRICAL\n",
      "Done.\n",
      "CSP train: (558, 8)\n"
     ]
    }
   ],
   "source": [
    "# -----------------------------  Block 6 -----------------------------\n",
    "from mne.decoding import CSP\n",
    "\n",
    "csp = CSP(n_components=8, reg=None, log=True, norm_trace=False)\n",
    "\n",
    "X_train_csp = csp.fit_transform(X_train, y_train)\n",
    "X_val_csp = csp.transform(X_val)\n",
    "X_test_csp = csp.transform(X_test)\n",
    "\n",
    "print(f'CSP train: {X_train_csp.shape}')\n"
   ]
  },
  {
   "cell_type": "code",
   "execution_count": 115,
   "id": "d76e5534",
   "metadata": {},
   "outputs": [],
   "source": [
    "# -----------------------------  Block 7 -----------------------------\n",
    "from sklearn.preprocessing import StandardScaler\n",
    "\n",
    "scaler = StandardScaler()\n",
    "X_train_scaled = scaler.fit_transform(X_train_csp)\n",
    "X_val_scaled = scaler.transform(X_val_csp)\n",
    "X_test_scaled = scaler.transform(X_test_csp)\n"
   ]
  },
  {
   "cell_type": "code",
   "execution_count": 116,
   "id": "491c4b51",
   "metadata": {},
   "outputs": [
    {
     "name": "stdout",
     "output_type": "stream",
     "text": [
      "Original training label distribution: Counter({'REST': 383, 'IMAGERY': 175})\n",
      "Balanced training label distribution: Counter({'IMAGERY': 175, 'REST': 175})\n"
     ]
    }
   ],
   "source": [
    "# -----------------------------  Ny Block 7b -----------------------------\n",
    "from imblearn.under_sampling import RandomUnderSampler\n",
    "from collections import Counter\n",
    "\n",
    "print(\"Original training label distribution:\", Counter(y_train))\n",
    "\n",
    "rus = RandomUnderSampler(random_state=42)\n",
    "X_train_balanced, y_train_balanced = rus.fit_resample(X_train_scaled, y_train)\n",
    "\n",
    "print(\"Balanced training label distribution:\", Counter(y_train_balanced))\n"
   ]
  },
  {
   "cell_type": "code",
   "execution_count": 117,
   "id": "026f774b",
   "metadata": {},
   "outputs": [
    {
     "name": "stdout",
     "output_type": "stream",
     "text": [
      "Fitting 3 folds for each of 16 candidates, totalling 48 fits\n",
      "Beste parametre: {'C': 100, 'gamma': 1}\n",
      "Beste CV accuracy: 0.5629482267413303\n"
     ]
    }
   ],
   "source": [
    "# -----------------------------  Block 8 -----------------------------\n",
    "from sklearn.svm import SVC\n",
    "from sklearn.model_selection import GridSearchCV\n",
    "\n",
    "svm = SVC(kernel='rbf', random_state=42)\n",
    "\n",
    "param_grid = {\n",
    "    'C': [0.1, 1, 10, 100],\n",
    "    'gamma': ['scale', 0.01, 0.1, 1],\n",
    "}\n",
    "\n",
    "grid = GridSearchCV(svm, param_grid, cv=3, scoring='accuracy', verbose=1, n_jobs=-1)\n",
    "grid.fit(X_train_balanced, y_train_balanced)\n",
    "\n",
    "print(\"Beste parametre:\", grid.best_params_)\n",
    "print(\"Beste CV accuracy:\", grid.best_score_)\n"
   ]
  },
  {
   "cell_type": "code",
   "execution_count": 118,
   "id": "0fa113d1",
   "metadata": {},
   "outputs": [
    {
     "name": "stdout",
     "output_type": "stream",
     "text": [
      "Valideringsresultater:\n",
      "              precision    recall  f1-score   support\n",
      "\n",
      "     IMAGERY       0.33      0.61      0.43        31\n",
      "        REST       0.71      0.44      0.55        68\n",
      "\n",
      "    accuracy                           0.49        99\n",
      "   macro avg       0.52      0.53      0.49        99\n",
      "weighted avg       0.59      0.49      0.51        99\n",
      "\n",
      "Valideringsnøyaktighet: 0.494949494949495\n",
      "Testresultater:\n",
      "              precision    recall  f1-score   support\n",
      "\n",
      "     IMAGERY       0.34      0.68      0.45        37\n",
      "        REST       0.72      0.39      0.50        80\n",
      "\n",
      "    accuracy                           0.48       117\n",
      "   macro avg       0.53      0.53      0.48       117\n",
      "weighted avg       0.60      0.48      0.49       117\n",
      "\n",
      "Testnøyaktighet: 0.47863247863247865\n"
     ]
    }
   ],
   "source": [
    "# -----------------------------  Block 9 -----------------------------\n",
    "from sklearn.metrics import classification_report, accuracy_score\n",
    "\n",
    "model = grid.best_estimator_\n",
    "\n",
    "# Valideringsresultater\n",
    "y_val_pred = model.predict(X_val_scaled)\n",
    "print(\"Valideringsresultater:\")\n",
    "print(classification_report(y_val, y_val_pred))\n",
    "print(\"Valideringsnøyaktighet:\", accuracy_score(y_val, y_val_pred))\n",
    "\n",
    "# Testresultater\n",
    "y_test_pred = model.predict(X_test_scaled)\n",
    "print(\"Testresultater:\")\n",
    "print(classification_report(y_test, y_test_pred))\n",
    "print(\"Testnøyaktighet:\", accuracy_score(y_test, y_test_pred))\n"
   ]
  },
  {
   "cell_type": "code",
   "execution_count": 119,
   "id": "d182786d",
   "metadata": {},
   "outputs": [
    {
     "data": {
      "image/png": "[encoded data removed]",
      "text/plain": [
       "<Figure size 600x500 with 2 Axes>"
      ]
     },
     "metadata": {},
     "output_type": "display_data"
    }
   ],
   "source": [
    "# -----------------------------  Block 10 (Confusion Matrix) -----------------------------\n",
    "import matplotlib.pyplot as plt\n",
    "import seaborn as sns\n",
    "from sklearn.metrics import confusion_matrix\n",
    "\n",
    "cm = confusion_matrix(y_test, y_test_pred, labels=['IMAGERY', 'REST'])\n",
    "\n",
    "# Plot confusion matrix\n",
    "plt.figure(figsize=(6, 5))\n",
    "sns.heatmap(cm, annot=True, fmt='d', cmap='Blues', xticklabels=['IMAGERY', 'REST'], yticklabels=['IMAGERY', 'REST'])\n",
    "plt.xlabel('Predicted')\n",
    "plt.ylabel('Actual')\n",
    "plt.title('Confusion Matrix (Test Set)')\n",
    "plt.show()\n"
   ]
  },
  {
   "cell_type": "code",
   "execution_count": null,
   "id": "a7d9b902",
   "metadata": {},
   "outputs": [],
   "source": []
  },
  {
   "cell_type": "code",
   "execution_count": 144,
   "id": "e02b5049",
   "metadata": {},
   "outputs": [
    {
     "name": "stdout",
     "output_type": "stream",
     "text": [
      "DataFrame shape: (1549440, 37)\n",
      "Antall EEG-kanaler: 32\n",
      "Klassefordeling:\n",
      " REST       1063220\n",
      "IMAGERY     486220\n",
      "Name: label, dtype: int64\n"
     ]
    }
   ],
   "source": [
    "# ----------------------------- Block 1: Last inn datasett, fjern unødvendige kanaler, binær-annotasjon -----------------------------\n",
    "import os\n",
    "import pandas as pd\n",
    "import numpy as np\n",
    "\n",
    "# For reproducerbarhet\n",
    "np.random.seed(42)\n",
    "\n",
    "# 1) Les inn alle CSV-filer\n",
    "csv_dir = './csv_output'\n",
    "csv_files = [os.path.join(csv_dir, f) for f in os.listdir(csv_dir) if f.endswith('.csv')]\n",
    "df = pd.concat([pd.read_csv(f) for f in csv_files], ignore_index=True)\n",
    "\n",
    "# 2) Standardiser annotation-tekst\n",
    "df['annotation'] = df['annotation'].str.upper().str.strip()\n",
    "\n",
    "# 3) Identifiser EEG-kanaler: ta alle kolonner unntatt metadata, fjern AUX og DIR\n",
    "metadata_cols = ['Person', 'Recording', 'time', 'annotation']\n",
    "all_channels  = [c for c in df.columns if c not in metadata_cols]\n",
    "eeg_channels  = [c for c in all_channels if ('AUX' not in c.upper()) and ('DIR' not in c.upper())]\n",
    "\n",
    "# 4) Filtrer bort uønskede kolonner, behold kun EEG-signaler + metadata\n",
    "df = df[metadata_cols + eeg_channels].copy()\n",
    "\n",
    "# 5) Binær-annotasjon: behold kun REST eller IMAGERY-varianter, lag label\n",
    "df = df[df['annotation'].str.contains('REST|IMAGERY', na=False)].reset_index(drop=True)\n",
    "df['label'] = np.where(df['annotation'].str.contains('IMAGERY'), 'IMAGERY', 'REST')\n",
    "\n",
    "# 6) Sjekk datasett og klassedistribusjon\n",
    "print(\"DataFrame shape:\", df.shape)\n",
    "print(\"Antall EEG-kanaler:\", len(eeg_channels))\n",
    "print(\"Klassefordeling:\\n\", df['label'].value_counts())\n"
   ]
  },
  {
   "cell_type": "code",
   "execution_count": 146,
   "id": "e0fa8838",
   "metadata": {},
   "outputs": [
    {
     "name": "stdout",
     "output_type": "stream",
     "text": [
      "Creating RawArray with float64 data, n_channels=32, n_times=1549440\n",
      "    Range : 0 ... 1549439 =      0.000 ...  3098.878 secs\n",
      "Ready.\n",
      "Filtering raw data in 1 contiguous segment\n",
      "Setting up band-stop filter from 49 - 51 Hz\n",
      "\n",
      "FIR filter parameters\n",
      "---------------------\n",
      "Designing a one-pass, zero-phase, non-causal bandstop filter:\n",
      "- Windowed time-domain design (firwin) method\n",
      "- Hamming window with 0.0194 passband ripple and 53 dB stopband attenuation\n",
      "- Lower passband edge: 49.38\n",
      "- Lower transition bandwidth: 0.50 Hz (-6 dB cutoff frequency: 49.12 Hz)\n",
      "- Upper passband edge: 50.62 Hz\n",
      "- Upper transition bandwidth: 0.50 Hz (-6 dB cutoff frequency: 50.88 Hz)\n",
      "- Filter length: 3301 samples (6.602 s)\n",
      "\n"
     ]
    },
    {
     "name": "stderr",
     "output_type": "stream",
     "text": [
      "[Parallel(n_jobs=1)]: Done  17 tasks      | elapsed:    0.7s\n"
     ]
    },
    {
     "name": "stdout",
     "output_type": "stream",
     "text": [
      "Filtering raw data in 1 contiguous segment\n",
      "Setting up band-pass filter from 1 - 40 Hz\n",
      "\n",
      "FIR filter parameters\n",
      "---------------------\n",
      "Designing a one-pass, zero-phase, non-causal bandpass filter:\n",
      "- Windowed time-domain design (firwin) method\n",
      "- Hamming window with 0.0194 passband ripple and 53 dB stopband attenuation\n",
      "- Lower passband edge: 1.00\n",
      "- Lower transition bandwidth: 1.00 Hz (-6 dB cutoff frequency: 0.50 Hz)\n",
      "- Upper passband edge: 40.00 Hz\n",
      "- Upper transition bandwidth: 10.00 Hz (-6 dB cutoff frequency: 45.00 Hz)\n",
      "- Filter length: 1651 samples (3.302 s)\n",
      "\n"
     ]
    },
    {
     "name": "stderr",
     "output_type": "stream",
     "text": [
      "[Parallel(n_jobs=1)]: Done  17 tasks      | elapsed:    0.6s\n"
     ]
    },
    {
     "name": "stdout",
     "output_type": "stream",
     "text": [
      "<Info | 7 non-empty values\n",
      " bads: []\n",
      " ch_names: Fp1, Fz, F3, F7, FT9, FC5, FC1, C3, T7, TP9, CP5, CP1, Pz, P3, ...\n",
      " chs: 32 EEG\n",
      " custom_ref_applied: False\n",
      " highpass: 1.0 Hz\n",
      " lowpass: 40.0 Hz\n",
      " meas_date: unspecified\n",
      " nchan: 32\n",
      " projs: []\n",
      " sfreq: 500.0 Hz\n",
      ">\n",
      "First values (filtered):\n",
      "            Fp1            Fz            F3            F7           FT9\n",
      "0  2.007994e-11 -5.471179e-13  4.220624e-12 -4.192202e-12  1.037392e-11\n",
      "1 -2.200908e+01  1.963600e+01  3.155345e+00 -4.357986e+00 -1.367513e+01\n",
      "2 -3.754336e+01  3.940387e+01  9.854597e+00 -5.567626e+00 -2.193492e+01\n",
      "3 -4.195389e+01  5.896188e+01  2.258597e+01 -1.556448e+00 -2.099057e+01\n",
      "4 -3.372132e+01  7.722065e+01  4.200556e+01  7.879740e+00 -9.819143e+00\n"
     ]
    }
   ],
   "source": [
    "# ----------------------------- Block 2: Notch- og båndpass-filtrering -----------------------------\n",
    "import mne\n",
    "import pandas as pd\n",
    "\n",
    "# 1) Opprett MNE RawArray fra DataFrame\n",
    "sfreq = 500.0  # samplingfrekvens\n",
    "info = mne.create_info(ch_names=eeg_channels, sfreq=sfreq, ch_types='eeg')\n",
    "raw = mne.io.RawArray(df[eeg_channels].T.values, info)\n",
    "\n",
    "# 2) Notch-filter ved 50 Hz for å fjerne strømnettstøy\n",
    "#    - FIR-notching med smal båndbredde rundt 50 Hz\n",
    "raw.notch_filter(freqs=50., fir_design='firwin', verbose=True)\n",
    "\n",
    "# 3) Båndpass 1–40 Hz for å fange de viktigste EEG-båndene (drift ↔ gamma)\n",
    "#    - 1 Hz high-pass for å fjerne DC-drift\n",
    "#    - 40 Hz low-pass for å undertrykke høyfrekvent støy\n",
    "raw.filter(l_freq=1.0, h_freq=40.0, fir_design='firwin', verbose=True)\n",
    "\n",
    "# 4) Les det filtrerte signalet tilbake til en DataFrame\n",
    "df_filtered = pd.DataFrame(raw.get_data().T, columns=eeg_channels)\n",
    "\n",
    "# 5) Sjekk at filtreringen er brukt\n",
    "print(raw.info)                 # skal vise 32 EEG-kanaler @ 500 Hz\n",
    "print(\"First values (filtered):\")\n",
    "print(df_filtered.iloc[:5, :5])  # vis et lite utdrag av de filtrerte dataene\n"
   ]
  },
  {
   "cell_type": "code",
   "execution_count": 147,
   "id": "defc5963",
   "metadata": {},
   "outputs": [
    {
     "name": "stdout",
     "output_type": "stream",
     "text": [
      "Fitting ICA to data using 32 channels (please be patient, this may take a while)\n",
      "Selecting by number: 20 components\n",
      "Fitting ICA took 42.9s.\n",
      "Ingen EOG-kanaler funnet – husk å inspisere komponentene manuelt via ica.plot_components()\n",
      "Applying ICA to Raw instance\n",
      "    Transforming to ICA space (20 components)\n",
      "    Zeroing out 0 ICA components\n",
      "    Projecting back using 32 PCA components\n",
      "Rå data shape: (32, 1549440)\n",
      "Renset data shape: (32, 1549440)\n"
     ]
    }
   ],
   "source": [
    "# ----------------------------- Block 3: ICA for artefaktfjerning -----------------------------\n",
    "import mne\n",
    "\n",
    "# 1) Kjør ICA på det filtrerte signalet\n",
    "ica = mne.preprocessing.ICA(\n",
    "    n_components=20,        # reduser dimensjon for stabilitet\n",
    "    method='fastica',       # rask og robust\n",
    "    random_state=42\n",
    ")\n",
    "ica.fit(raw)\n",
    "\n",
    "# 2) Finn EOG-artifakter (hvis EOG-kanaler finnes) \n",
    "#    Ellers kan du manuelt inspecte komponentene senere\n",
    "eog_chs = [ch for ch in raw.ch_names if 'EOG' in ch.upper()]\n",
    "if eog_chs:\n",
    "    eog_inds, scores = ica.find_bads_eog(raw, ch_name=eog_chs)\n",
    "    ica.exclude = eog_inds\n",
    "    print(f\"Auto-ekskluderte komponenter for EOG: {eog_inds}\")\n",
    "else:\n",
    "    print(\"Ingen EOG-kanaler funnet – husk å inspisere komponentene manuelt via ica.plot_components()\")\n",
    "\n",
    "# 3) Anvend ICA-transformasjonen for å rense signalet\n",
    "raw_clean = ica.apply(raw.copy())\n",
    "\n",
    "# 4) Sjekk at rå og renset signal har samme dimensjon\n",
    "print(\"Rå data shape:\", raw.get_data().shape)\n",
    "print(\"Renset data shape:\", raw_clean.get_data().shape)\n"
   ]
  },
  {
   "cell_type": "code",
   "execution_count": 148,
   "id": "83d2baa1",
   "metadata": {},
   "outputs": [
    {
     "name": "stdout",
     "output_type": "stream",
     "text": [
      "Epochs shape: (774, 32, 2000)\n",
      "Label-fordeling:\n",
      " REST       526\n",
      "IMAGERY    248\n",
      "dtype: int64\n"
     ]
    }
   ],
   "source": [
    "# ----------------------------- Block 4: Epoching (4 s, ikke-overlapp) med baseline-korreksjon -----------------------------\n",
    "import numpy as np\n",
    "import pandas as pd\n",
    "from scipy.stats import mode\n",
    "\n",
    "# 1) Hent det rensede signalet og labels\n",
    "data_clean = raw_clean.get_data().T    # shape: (n_samples, n_channels)\n",
    "labels_all = df['label'].values        # shape: (n_samples,)\n",
    "\n",
    "# 2) Parametre for epokelengde\n",
    "sfreq = raw_clean.info['sfreq']\n",
    "epoch_samps = int(4 * sfreq)           # 4 sekunder\n",
    "step = epoch_samps                     # helt ikke-overlapp\n",
    "\n",
    "# 3) Lag epoker og tilordne majoritets-label\n",
    "X_epochs, y_epochs = [], []\n",
    "for start in range(0, len(data_clean) - epoch_samps + 1, step):\n",
    "    seg = data_clean[start:start+epoch_samps]               # (epoch_samps, n_channels)\n",
    "    # a) Baseline-korreksjon: trekk fra middelverdien fra første 0.5 s\n",
    "    baseline = seg[:int(0.5*sfreq), :].mean(axis=0, keepdims=True)\n",
    "    seg_bc = seg - baseline                                  # (epoch_samps, n_channels)\n",
    "    X_epochs.append(seg_bc.T)                                # (n_channels, epoch_samps)\n",
    "    # b) Majoritets-label\n",
    "    lab = pd.Series(labels_all[start:start+epoch_samps]).mode()[0]\n",
    "    y_epochs.append(lab)\n",
    "\n",
    "X_epochs = np.array(X_epochs)    # (n_epochs, n_channels, n_times)\n",
    "y_epochs = np.array(y_epochs)\n",
    "\n",
    "# 4) Sjekk antall epoker og klassebalanse\n",
    "print(\"Epochs shape:\", X_epochs.shape)\n",
    "print(\"Label-fordeling:\\n\", pd.Series(y_epochs).value_counts())\n"
   ]
  },
  {
   "cell_type": "code",
   "execution_count": 149,
   "id": "1f95d642",
   "metadata": {},
   "outputs": [
    {
     "name": "stdout",
     "output_type": "stream",
     "text": [
      "Train shape: (541, 32, 2000)  Val shape: (116, 32, 2000)  Test shape: (117, 32, 2000)\n",
      "Train distribution:\n",
      " REST       370\n",
      "IMAGERY    171\n",
      "dtype: int64\n",
      "Val distribution:\n",
      " REST       82\n",
      "IMAGERY    34\n",
      "dtype: int64\n",
      "Test distribution:\n",
      " REST       74\n",
      "IMAGERY    43\n",
      "dtype: int64\n"
     ]
    }
   ],
   "source": [
    "# ----------------------------- Block 5: Split inn i trenings-, validerings- og testsett -----------------------------\n",
    "import numpy as np\n",
    "import pandas as pd\n",
    "\n",
    "# 1) Definer grenser for 70/15/15 % split\n",
    "n_epochs = X_epochs.shape[0]\n",
    "train_end = int(0.7 * n_epochs)\n",
    "val_end   = train_end + int(0.15 * n_epochs)\n",
    "\n",
    "# 2) Split ut epoker og labels\n",
    "X_train, y_train = X_epochs[:train_end], y_epochs[:train_end]\n",
    "X_val,   y_val   = X_epochs[train_end:val_end], y_epochs[train_end:val_end]\n",
    "X_test,  y_test  = X_epochs[val_end:],      y_epochs[val_end:]\n",
    "\n",
    "# 3) Sjekk formater og klassefordeling\n",
    "print(\"Train shape:\", X_train.shape, \" Val shape:\", X_val.shape, \" Test shape:\", X_test.shape)\n",
    "print(\"Train distribution:\\n\", pd.Series(y_train).value_counts())\n",
    "print(\"Val distribution:\\n\",   pd.Series(y_val).value_counts())\n",
    "print(\"Test distribution:\\n\",  pd.Series(y_test).value_counts())\n"
   ]
  },
  {
   "cell_type": "code",
   "execution_count": 151,
   "id": "84c6ddd1",
   "metadata": {},
   "outputs": [
    {
     "name": "stdout",
     "output_type": "stream",
     "text": [
      "Computing rank from data with rank=None\n",
      "    Using tolerance 1.2e+03 (2.2e-16 eps * 32 dim * 1.7e+17  max singular value)\n",
      "    Estimated rank (mag): 32\n",
      "    MAG: rank 32 computed from 32 data channels with 0 projectors\n",
      "Reducing data rank from 32 -> 32\n",
      "Estimating covariance using LEDOIT_WOLF\n",
      "Done.\n",
      "Computing rank from data with rank=None\n",
      "    Using tolerance 6.8e+03 (2.2e-16 eps * 32 dim * 9.6e+17  max singular value)\n",
      "    Estimated rank (mag): 32\n",
      "    MAG: rank 32 computed from 32 data channels with 0 projectors\n",
      "Reducing data rank from 32 -> 32\n",
      "Estimating covariance using LEDOIT_WOLF\n",
      "Done.\n",
      "CSP feature shapes:\n",
      " Train: (541, 6)\n",
      " Val:   (116, 6)\n",
      " Test:  (117, 6)\n"
     ]
    }
   ],
   "source": [
    "# ----------------------------- Block 6 (oppdatert): Bandpass 8–30 Hz + CSP fit på treningssettet -----------------------------\n",
    "import mne\n",
    "from mne.decoding import CSP\n",
    "\n",
    "# 1) Bandpass 8–30 Hz for alle splittede data (én gang)\n",
    "def bandpass(data, sfreq, l_freq=8.0, h_freq=30.0):\n",
    "    return mne.filter.filter_data(data, sfreq=sfreq, l_freq=l_freq, h_freq=h_freq, verbose=False)\n",
    "\n",
    "X_train_f = bandpass(X_train, sfreq)\n",
    "X_val_f   = bandpass(X_val,   sfreq)\n",
    "X_test_f  = bandpass(X_test,  sfreq)\n",
    "\n",
    "# 2) Sett opp CSP og tren kun på treningsdata\n",
    "csp = CSP(n_components=6, reg='ledoit_wolf', log=True, norm_trace=False)\n",
    "X_train_csp = csp.fit_transform(X_train_f, y_train)\n",
    "\n",
    "# 3) Transformér validerings- og testsett med samme CSP\n",
    "X_val_csp   = csp.transform(X_val_f)\n",
    "X_test_csp  = csp.transform(X_test_f)\n",
    "\n",
    "# 4) Sjekk shapes for å sikre korrekt transformasjon\n",
    "print(\"CSP feature shapes:\")\n",
    "print(\" Train:\", X_train_csp.shape)\n",
    "print(\" Val:  \", X_val_csp.shape)\n",
    "print(\" Test: \", X_test_csp.shape)\n"
   ]
  },
  {
   "cell_type": "code",
   "execution_count": 152,
   "id": "8b9c1f0c",
   "metadata": {},
   "outputs": [
    {
     "name": "stdout",
     "output_type": "stream",
     "text": [
      "Valideringsnøyaktighet: 0.6293103448275862\n",
      "Valideringsrapport:\n",
      "              precision    recall  f1-score   support\n",
      "\n",
      "        REST       0.40      0.56      0.47        34\n",
      "     IMAGERY       0.78      0.66      0.72        82\n",
      "\n",
      "    accuracy                           0.63       116\n",
      "   macro avg       0.59      0.61      0.59       116\n",
      "weighted avg       0.67      0.63      0.64       116\n",
      "\n",
      "Testnøyaktighet: 0.7008547008547008\n",
      "Testrapport:\n",
      "              precision    recall  f1-score   support\n",
      "\n",
      "        REST       0.60      0.56      0.58        43\n",
      "     IMAGERY       0.75      0.78      0.77        74\n",
      "\n",
      "    accuracy                           0.70       117\n",
      "   macro avg       0.68      0.67      0.67       117\n",
      "weighted avg       0.70      0.70      0.70       117\n",
      "\n"
     ]
    }
   ],
   "source": [
    "# ----------------------------- Block 7: Skalering + SVM med klassevekter -----------------------------\n",
    "from sklearn.pipeline import Pipeline\n",
    "from sklearn.preprocessing import StandardScaler\n",
    "from sklearn.svm import SVC\n",
    "from sklearn.metrics import classification_report, accuracy_score\n",
    "\n",
    "# 1) Lag en pipeline som først standardiserer, så trener SVM\n",
    "pipe = Pipeline([\n",
    "    ('scaler', StandardScaler()),  \n",
    "    ('svc', SVC(kernel='rbf', class_weight='balanced', random_state=42))\n",
    "])\n",
    "\n",
    "# 2) Tren på treningssettets CSP-features\n",
    "pipe.fit(X_train_csp, y_train)\n",
    "\n",
    "# 3) Evaluer på valideringssettet\n",
    "y_val_pred = pipe.predict(X_val_csp)\n",
    "print(\"Valideringsnøyaktighet:\", accuracy_score(y_val, y_val_pred))\n",
    "print(\"Valideringsrapport:\")\n",
    "print(classification_report(y_val, y_val_pred, target_names=['REST','IMAGERY']))\n",
    "\n",
    "# 4) Evaluer på testsettet\n",
    "y_test_pred = pipe.predict(X_test_csp)\n",
    "print(\"Testnøyaktighet:\", accuracy_score(y_test, y_test_pred))\n",
    "print(\"Testrapport:\")\n",
    "print(classification_report(y_test, y_test_pred, target_names=['REST','IMAGERY']))\n"
   ]
  },
  {
   "cell_type": "code",
   "execution_count": 153,
   "id": "0454f5e6",
   "metadata": {},
   "outputs": [
    {
     "data": {
      "image/png": "[encoded data removed]",
      "text/plain": [
       "<Figure size 500x400 with 2 Axes>"
      ]
     },
     "metadata": {},
     "output_type": "display_data"
    }
   ],
   "source": [
    "# ----------------------------- Block 8: Plot Confusion Matrix for Test-set -----------------------------\n",
    "import matplotlib.pyplot as plt\n",
    "from sklearn.metrics import confusion_matrix\n",
    "\n",
    "# Beregn for testsettet\n",
    "cm = confusion_matrix(y_test, y_test_pred, labels=['REST', 'IMAGERY'])\n",
    "\n",
    "fig, ax = plt.subplots(figsize=(5, 4))\n",
    "im = ax.imshow(cm, interpolation='nearest', cmap='Blues')\n",
    "ax.figure.colorbar(im, ax=ax)\n",
    "ax.set_xticks([0, 1])\n",
    "ax.set_yticks([0, 1])\n",
    "ax.set_xticklabels(['REST', 'IMAGERY'])\n",
    "ax.set_yticklabels(['REST', 'IMAGERY'])\n",
    "ax.set_xlabel('Predicted label')\n",
    "ax.set_ylabel('True label')\n",
    "ax.set_title('Confusion Matrix (Test Set)')\n",
    "\n",
    "# Annoter hver rute med tall\n",
    "thresh = cm.max() / 2\n",
    "for i in range(cm.shape[0]):\n",
    "    for j in range(cm.shape[1]):\n",
    "        ax.text(j, i, cm[i, j], ha='center', va='center',\n",
    "                color='white' if cm[i, j] > thresh else 'black')\n",
    "\n",
    "plt.tight_layout()\n",
    "plt.show()\n"
   ]
  },
  {
   "cell_type": "code",
   "execution_count": null,
   "id": "9f9cb3a8",
   "metadata": {},
   "outputs": [],
   "source": []
  },
  {
   "cell_type": "code",
   "execution_count": null,
   "id": "420e46e2",
   "metadata": {},
   "outputs": [],
   "source": []
  },
  {
   "cell_type": "code",
   "execution_count": null,
   "id": "280cd656",
   "metadata": {},
   "outputs": [],
   "source": []
  },
  {
   "cell_type": "code",
   "execution_count": null,
   "id": "c84d641a",
   "metadata": {},
   "outputs": [],
   "source": []
  },
  {
   "cell_type": "code",
   "execution_count": null,
   "id": "cb5299d2",
   "metadata": {},
   "outputs": [],
   "source": []
  },
  {
   "cell_type": "code",
   "execution_count": null,
   "id": "cf059d96",
   "metadata": {},
   "outputs": [],
   "source": []
  }
 ],
 "metadata": {
  "kernelspec": {
   "display_name": "MyEnv (GPU)",
   "language": "python",
   "name": "myenv-gpu"
  },
  "language_info": {
   "codemirror_mode": {
    "name": "ipython",
    "version": 3
   },
   "file_extension": ".py",
   "mimetype": "text/x-python",
   "name": "python",
   "nbconvert_exporter": "python",
   "pygments_lexer": "ipython3",
   "version": "3.8.10"
  }
 },
 "nbformat": 4,
 "nbformat_minor": 5
}
